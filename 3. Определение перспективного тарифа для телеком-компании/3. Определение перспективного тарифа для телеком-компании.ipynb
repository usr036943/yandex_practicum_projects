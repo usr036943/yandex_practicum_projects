{
 "cells": [
  {
   "cell_type": "markdown",
   "id": "76904881",
   "metadata": {},
   "source": [
    "# Проект - \"Определение перспективного тарифа для телеком-компании\".\n",
    "\n",
    "## 1 Описание проекта.\n",
    "\n",
    "Опишем общую информацию о заказчике, план проекта и цели.\n",
    "\n",
    "**Общая информация о заказчике и данных:**\n",
    "\n",
    "Компании «Мегалайн» — федерального оператора сотовой связи. Клиентам предлагают два тарифных плана: «Смарт» и «Ультра». \n",
    "В нашем распоряжении данные 500 пользователей «Мегалайна»: кто они, откуда, каким тарифом пользуются, сколько звонков и сообщений каждый отправил за 2018-й год. \n",
    "\n",
    "**Цель проекта:**\n",
    "\n",
    "Чтобы скорректировать рекламный бюджет, коммерческий департамент хочет понять, какой тариф приносит больше денег.\n",
    "\n",
    "\n",    
    "**Задачи:**\n",
    "\n",
    "Предстоит сделать предварительный анализ тарифов на небольшой выборке клиентов. Нужно проанализировать поведение клиентов и сделать вывод — какой тариф лучше. \n",
    "\n",
    "\n",
    "**План проекта:**\n",
    "\n",
    "1. Описание проекта\n",
    "2. Загрузка данных и изучение общей информации.\n",
    "3. Предобработка данных.\n",
    "4. Исследовательский анализ данных.\n",
    "5. Проверка гипотез.\n",
    "6. Общие выводы."
   ]
  },
  {
   "cell_type": "markdown",
   "id": "e31943e7",
   "metadata": {},
   "source": [
    "## 2 Загрузка данных и изучение общей информации. \n",
    "\n",
    "Импортируем необходимые библиотеки, выведем основную информацию о датафрейме, проверим данные на дубликаты и пропуски. \n",
    "\n",
    "### 2.1 Звонки."
   ]
  },
  {
   "cell_type": "code",
   "execution_count": 1,
   "id": "bedca57e",
   "metadata": {},
   "outputs": [],
   "source": [
    "# Импортируем необходимые библиотеки.\n",
    "\n",
    "import pandas as pd\n",
    "import numpy as np\n",
    "import seaborn as sns\n",
    "import re\n",
    "pd.set_option('display.max_columns', 0)\n",
    "import matplotlib.pyplot as plt\n",
    "import plotly.express as px\n",
    "import plotly.graph_objects as go\n",
    "from scipy import stats as st \n",
    "import warnings \n",
    "\n",
    "# отключаем предупреждения\n",
    "warnings.filterwarnings('ignore') "
   ]
  },
  {
   "cell_type": "code",
   "execution_count": 2,
   "id": "7bb7d6fc",
   "metadata": {},
   "outputs": [],
   "source": [
    "calls = pd.read_csv('/Users/Ильдар/Desktop/Проекты в юпитере/Статистический анализ/calls.csv') # сохраним датафрейм в переменную calls"
   ]
  },
  {
   "cell_type": "code",
   "execution_count": 3,
   "id": "4f2a9fdf",
   "metadata": {},
   "outputs": [
    {
     "data": {
      "text/html": [
       "<div>\n",
       "<style scoped>\n",
       "    .dataframe tbody tr th:only-of-type {\n",
       "        vertical-align: middle;\n",
       "    }\n",
       "\n",
       "    .dataframe tbody tr th {\n",
       "        vertical-align: top;\n",
       "    }\n",
       "\n",
       "    .dataframe thead th {\n",
       "        text-align: right;\n",
       "    }\n",
       "</style>\n",
       "<table border=\"1\" class=\"dataframe\">\n",
       "  <thead>\n",
       "    <tr style=\"text-align: right;\">\n",
       "      <th></th>\n",
       "      <th>id</th>\n",
       "      <th>call_date</th>\n",
       "      <th>duration</th>\n",
       "      <th>user_id</th>\n",
       "    </tr>\n",
       "  </thead>\n",
       "  <tbody>\n",
       "    <tr>\n",
       "      <th>0</th>\n",
       "      <td>1000_0</td>\n",
       "      <td>2018-07-25</td>\n",
       "      <td>0.00</td>\n",
       "      <td>1000</td>\n",
       "    </tr>\n",
       "    <tr>\n",
       "      <th>1</th>\n",
       "      <td>1000_1</td>\n",
       "      <td>2018-08-17</td>\n",
       "      <td>0.00</td>\n",
       "      <td>1000</td>\n",
       "    </tr>\n",
       "    <tr>\n",
       "      <th>2</th>\n",
       "      <td>1000_2</td>\n",
       "      <td>2018-06-11</td>\n",
       "      <td>2.85</td>\n",
       "      <td>1000</td>\n",
       "    </tr>\n",
       "    <tr>\n",
       "      <th>3</th>\n",
       "      <td>1000_3</td>\n",
       "      <td>2018-09-21</td>\n",
       "      <td>13.80</td>\n",
       "      <td>1000</td>\n",
       "    </tr>\n",
       "    <tr>\n",
       "      <th>4</th>\n",
       "      <td>1000_4</td>\n",
       "      <td>2018-12-15</td>\n",
       "      <td>5.18</td>\n",
       "      <td>1000</td>\n",
       "    </tr>\n",
       "  </tbody>\n",
       "</table>\n",
       "</div>"
      ],
      "text/plain": [
       "       id   call_date  duration  user_id\n",
       "0  1000_0  2018-07-25      0.00     1000\n",
       "1  1000_1  2018-08-17      0.00     1000\n",
       "2  1000_2  2018-06-11      2.85     1000\n",
       "3  1000_3  2018-09-21     13.80     1000\n",
       "4  1000_4  2018-12-15      5.18     1000"
      ]
     },
     "execution_count": 3,
     "metadata": {},
     "output_type": "execute_result"
    }
   ],
   "source": [
    "calls.head() # выведем первые 5 строк датафрейма"
   ]
  },
  {
   "cell_type": "markdown",
   "id": "6f933cc5",
   "metadata": {},
   "source": [
    "Перед нами таблица `calls` — содержашая информация о звонках, 4 столбца:\n",
    "- `id` — уникальный номер звонка;\n",
    "- `call_date` — дата звонка;\n",
    "- `duration` — длительность звонка в минутах;\n",
    "- `user_id` — идентификатор пользователя, сделавшего звонок.\n",
    "\n",
    "Все названия в нижнем \"змеином\" регистре - редактирование не требуется. "
   ]
  },
  {
   "cell_type": "code",
   "execution_count": 4,
   "id": "63ee02e5",
   "metadata": {},
   "outputs": [
    {
     "name": "stdout",
     "output_type": "stream",
     "text": [
      "<class 'pandas.core.frame.DataFrame'>\n",
      "RangeIndex: 202607 entries, 0 to 202606\n",
      "Data columns (total 4 columns):\n",
      " #   Column     Non-Null Count   Dtype  \n",
      "---  ------     --------------   -----  \n",
      " 0   id         202607 non-null  object \n",
      " 1   call_date  202607 non-null  object \n",
      " 2   duration   202607 non-null  float64\n",
      " 3   user_id    202607 non-null  int64  \n",
      "dtypes: float64(1), int64(1), object(2)\n",
      "memory usage: 6.2+ MB\n"
     ]
    }
   ],
   "source": [
    "calls.info() # выведем основную информацию для датафрейма calls"
   ]
  },
  {
   "cell_type": "markdown",
   "id": "36c2dbba",
   "metadata": {},
   "source": [
    "Столбцы - `id` и  `call_date` имеют тип **object**, `call_date` надо сменить на тип для времени. `duration`и `user_id` имеют тип числовой.  В данных есть звонки с нулевой продолжительностью: нулями обозначены пропущенные звонки, поэтому их не нужно удалять."
   ]
  },
  {
   "cell_type": "code",
   "execution_count": 5,
   "id": "ef27b468",
   "metadata": {},
   "outputs": [
    {
     "data": {
      "text/plain": [
       "0"
      ]
     },
     "execution_count": 5,
     "metadata": {},
     "output_type": "execute_result"
    }
   ],
   "source": [
    "calls.duplicated().sum() # выведем количество дубликатов"
   ]
  },
  {
   "cell_type": "code",
   "execution_count": 6,
   "id": "e91ab8af",
   "metadata": {},
   "outputs": [
    {
     "data": {
      "text/plain": [
       "id           0\n",
       "call_date    0\n",
       "duration     0\n",
       "user_id      0\n",
       "dtype: int64"
      ]
     },
     "execution_count": 6,
     "metadata": {},
     "output_type": "execute_result"
    }
   ],
   "source": [
    "calls.isna().sum() # проверим пропуски в таблице"
   ]
  },
  {
   "cell_type": "markdown",
   "id": "5bc0b561",
   "metadata": {},
   "source": [
    "В таблице `calls` дубликатов и пропусков нет. "
   ]
  },
  {
   "cell_type": "markdown",
   "id": "8c2929bd",
   "metadata": {},
   "source": [
    "### 2.2 Интернет."
   ]
  },
  {
   "cell_type": "code",
   "execution_count": 7,
   "id": "d9dca99c",
   "metadata": {},
   "outputs": [],
   "source": [
    "sessions = pd.read_csv('/Users/Ильдар/Desktop/Проекты в юпитере/Статистический анализ/internet.csv') # сохраним датафрейм в переменную sessions"
   ]
  },
  {
   "cell_type": "code",
   "execution_count": 8,
   "id": "4ad9dd58",
   "metadata": {},
   "outputs": [
    {
     "data": {
      "text/html": [
       "<div>\n",
       "<style scoped>\n",
       "    .dataframe tbody tr th:only-of-type {\n",
       "        vertical-align: middle;\n",
       "    }\n",
       "\n",
       "    .dataframe tbody tr th {\n",
       "        vertical-align: top;\n",
       "    }\n",
       "\n",
       "    .dataframe thead th {\n",
       "        text-align: right;\n",
       "    }\n",
       "</style>\n",
       "<table border=\"1\" class=\"dataframe\">\n",
       "  <thead>\n",
       "    <tr style=\"text-align: right;\">\n",
       "      <th></th>\n",
       "      <th>Unnamed: 0</th>\n",
       "      <th>id</th>\n",
       "      <th>mb_used</th>\n",
       "      <th>session_date</th>\n",
       "      <th>user_id</th>\n",
       "    </tr>\n",
       "  </thead>\n",
       "  <tbody>\n",
       "    <tr>\n",
       "      <th>0</th>\n",
       "      <td>0</td>\n",
       "      <td>1000_0</td>\n",
       "      <td>112.95</td>\n",
       "      <td>2018-11-25</td>\n",
       "      <td>1000</td>\n",
       "    </tr>\n",
       "    <tr>\n",
       "      <th>1</th>\n",
       "      <td>1</td>\n",
       "      <td>1000_1</td>\n",
       "      <td>1052.81</td>\n",
       "      <td>2018-09-07</td>\n",
       "      <td>1000</td>\n",
       "    </tr>\n",
       "    <tr>\n",
       "      <th>2</th>\n",
       "      <td>2</td>\n",
       "      <td>1000_2</td>\n",
       "      <td>1197.26</td>\n",
       "      <td>2018-06-25</td>\n",
       "      <td>1000</td>\n",
       "    </tr>\n",
       "    <tr>\n",
       "      <th>3</th>\n",
       "      <td>3</td>\n",
       "      <td>1000_3</td>\n",
       "      <td>550.27</td>\n",
       "      <td>2018-08-22</td>\n",
       "      <td>1000</td>\n",
       "    </tr>\n",
       "    <tr>\n",
       "      <th>4</th>\n",
       "      <td>4</td>\n",
       "      <td>1000_4</td>\n",
       "      <td>302.56</td>\n",
       "      <td>2018-09-24</td>\n",
       "      <td>1000</td>\n",
       "    </tr>\n",
       "  </tbody>\n",
       "</table>\n",
       "</div>"
      ],
      "text/plain": [
       "   Unnamed: 0      id  mb_used session_date  user_id\n",
       "0           0  1000_0   112.95   2018-11-25     1000\n",
       "1           1  1000_1  1052.81   2018-09-07     1000\n",
       "2           2  1000_2  1197.26   2018-06-25     1000\n",
       "3           3  1000_3   550.27   2018-08-22     1000\n",
       "4           4  1000_4   302.56   2018-09-24     1000"
      ]
     },
     "execution_count": 8,
     "metadata": {},
     "output_type": "execute_result"
    }
   ],
   "source": [
    "sessions.head() # выведем первые 5 строк датафрейма"
   ]
  },
  {
   "cell_type": "markdown",
   "id": "9ac2d2a3",
   "metadata": {},
   "source": [
    "Перед нами таблица `sessions` — содержашая информация об использование интернета, 5 столбца:\n",
    "- `Unnamed: 0` — столбец с таким названием возникает, когда данные сохраняют с указанием индекса, его в дальнейшем нужно будет удалить;\n",
    "- `id` — уникальный номер сессии;\n",
    "- `mb_used` — объём потраченного за сессию интернет-трафика (в мегабайтах);\n",
    "- `session_date` — дата интернет-сессии;\n",
    "- `user_id` — идентификатор пользователя.\n",
    "\n",
    "Все названия в нижнем \"змеином\" регистре - редактирование не требуется."
   ]
  },
  {
   "cell_type": "code",
   "execution_count": 9,
   "id": "8191312e",
   "metadata": {},
   "outputs": [
    {
     "name": "stdout",
     "output_type": "stream",
     "text": [
      "<class 'pandas.core.frame.DataFrame'>\n",
      "RangeIndex: 149396 entries, 0 to 149395\n",
      "Data columns (total 5 columns):\n",
      " #   Column        Non-Null Count   Dtype  \n",
      "---  ------        --------------   -----  \n",
      " 0   Unnamed: 0    149396 non-null  int64  \n",
      " 1   id            149396 non-null  object \n",
      " 2   mb_used       149396 non-null  float64\n",
      " 3   session_date  149396 non-null  object \n",
      " 4   user_id       149396 non-null  int64  \n",
      "dtypes: float64(1), int64(2), object(2)\n",
      "memory usage: 5.7+ MB\n"
     ]
    }
   ],
   "source": [
    "sessions.info() # выведем основную информацию для датафрейма sessions"
   ]
  },
  {
   "cell_type": "markdown",
   "id": "194f0a52",
   "metadata": {},
   "source": [
    "Столбцы - `id` и  `session_date` имеют тип **object**, `session_date` надо сменить на тип для времени. `mb_used`и `user_id` имеют тип числовой. "
   ]
  },
  {
   "cell_type": "code",
   "execution_count": 10,
   "id": "edb090ee",
   "metadata": {},
   "outputs": [
    {
     "data": {
      "text/plain": [
       "0"
      ]
     },
     "execution_count": 10,
     "metadata": {},
     "output_type": "execute_result"
    }
   ],
   "source": [
    "sessions.duplicated().sum() # выведем количество дубликатов"
   ]
  },
  {
   "cell_type": "code",
   "execution_count": 11,
   "id": "cd5f3520",
   "metadata": {},
   "outputs": [
    {
     "data": {
      "text/plain": [
       "Unnamed: 0      0\n",
       "id              0\n",
       "mb_used         0\n",
       "session_date    0\n",
       "user_id         0\n",
       "dtype: int64"
      ]
     },
     "execution_count": 11,
     "metadata": {},
     "output_type": "execute_result"
    }
   ],
   "source": [
    "sessions.isna().sum() # проверим пропуски в таблице"
   ]
  },
  {
   "cell_type": "markdown",
   "id": "5deee646",
   "metadata": {},
   "source": [
    "В таблице `sessions` дубликатов и пропусков нет. "
   ]
  },
  {
   "cell_type": "markdown",
   "id": "3bf82f6a",
   "metadata": {},
   "source": [
    "### 2.3 Сообщения."
   ]
  },
  {
   "cell_type": "code",
   "execution_count": 12,
   "id": "89ffed14",
   "metadata": {},
   "outputs": [],
   "source": [
    "messages = pd.read_csv('/Users/Ильдар/Desktop/Проекты в юпитере/Статистический анализ/messages.csv') # сохраним датафрейм в переменную messages"
   ]
  },
  {
   "cell_type": "code",
   "execution_count": 13,
   "id": "d6615da7",
   "metadata": {},
   "outputs": [
    {
     "data": {
      "text/html": [
       "<div>\n",
       "<style scoped>\n",
       "    .dataframe tbody tr th:only-of-type {\n",
       "        vertical-align: middle;\n",
       "    }\n",
       "\n",
       "    .dataframe tbody tr th {\n",
       "        vertical-align: top;\n",
       "    }\n",
       "\n",
       "    .dataframe thead th {\n",
       "        text-align: right;\n",
       "    }\n",
       "</style>\n",
       "<table border=\"1\" class=\"dataframe\">\n",
       "  <thead>\n",
       "    <tr style=\"text-align: right;\">\n",
       "      <th></th>\n",
       "      <th>id</th>\n",
       "      <th>message_date</th>\n",
       "      <th>user_id</th>\n",
       "    </tr>\n",
       "  </thead>\n",
       "  <tbody>\n",
       "    <tr>\n",
       "      <th>0</th>\n",
       "      <td>1000_0</td>\n",
       "      <td>2018-06-27</td>\n",
       "      <td>1000</td>\n",
       "    </tr>\n",
       "    <tr>\n",
       "      <th>1</th>\n",
       "      <td>1000_1</td>\n",
       "      <td>2018-10-08</td>\n",
       "      <td>1000</td>\n",
       "    </tr>\n",
       "    <tr>\n",
       "      <th>2</th>\n",
       "      <td>1000_2</td>\n",
       "      <td>2018-08-04</td>\n",
       "      <td>1000</td>\n",
       "    </tr>\n",
       "    <tr>\n",
       "      <th>3</th>\n",
       "      <td>1000_3</td>\n",
       "      <td>2018-06-16</td>\n",
       "      <td>1000</td>\n",
       "    </tr>\n",
       "    <tr>\n",
       "      <th>4</th>\n",
       "      <td>1000_4</td>\n",
       "      <td>2018-12-05</td>\n",
       "      <td>1000</td>\n",
       "    </tr>\n",
       "  </tbody>\n",
       "</table>\n",
       "</div>"
      ],
      "text/plain": [
       "       id message_date  user_id\n",
       "0  1000_0   2018-06-27     1000\n",
       "1  1000_1   2018-10-08     1000\n",
       "2  1000_2   2018-08-04     1000\n",
       "3  1000_3   2018-06-16     1000\n",
       "4  1000_4   2018-12-05     1000"
      ]
     },
     "execution_count": 13,
     "metadata": {},
     "output_type": "execute_result"
    }
   ],
   "source": [
    "messages.head() # выведем первые 5 строк датафрейма"
   ]
  },
  {
   "cell_type": "markdown",
   "id": "43a915fb",
   "metadata": {},
   "source": [
    "Перед нами таблица `calls` — содержашая информация о звонках, 3 столбца:\n",
    "- `id` — уникальный номер;\n",
    "- `message_date` — ддата сообщения;\n",
    "- `user_id` — идентификатор пользователя, сделавшего звонок.\n",
    "\n",
    "Все названия в нижнем \"змеином\" регистре - редактирование не требуется."
   ]
  },
  {
   "cell_type": "code",
   "execution_count": 14,
   "id": "b7b5e350",
   "metadata": {},
   "outputs": [
    {
     "name": "stdout",
     "output_type": "stream",
     "text": [
      "<class 'pandas.core.frame.DataFrame'>\n",
      "RangeIndex: 123036 entries, 0 to 123035\n",
      "Data columns (total 3 columns):\n",
      " #   Column        Non-Null Count   Dtype \n",
      "---  ------        --------------   ----- \n",
      " 0   id            123036 non-null  object\n",
      " 1   message_date  123036 non-null  object\n",
      " 2   user_id       123036 non-null  int64 \n",
      "dtypes: int64(1), object(2)\n",
      "memory usage: 2.8+ MB\n"
     ]
    }
   ],
   "source": [
    "messages.info() # выведем основную информацию для датафрейма messages"
   ]
  },
  {
   "cell_type": "markdown",
   "id": "c5bee420",
   "metadata": {},
   "source": [
    "Столбцы - `id` и  `message_date` имеют тип **object**, `message_date` надо сменить на тип для времени. `user_id` имеет тип числовой. "
   ]
  },
  {
   "cell_type": "code",
   "execution_count": 15,
   "id": "9dd70e81",
   "metadata": {},
   "outputs": [
    {
     "data": {
      "text/plain": [
       "0"
      ]
     },
     "execution_count": 15,
     "metadata": {},
     "output_type": "execute_result"
    }
   ],
   "source": [
    "messages.duplicated().sum() # выведем количество дубликатов"
   ]
  },
  {
   "cell_type": "code",
   "execution_count": 16,
   "id": "956e1d65",
   "metadata": {},
   "outputs": [
    {
     "data": {
      "text/plain": [
       "id              0\n",
       "message_date    0\n",
       "user_id         0\n",
       "dtype: int64"
      ]
     },
     "execution_count": 16,
     "metadata": {},
     "output_type": "execute_result"
    }
   ],
   "source": [
    "messages.isna().sum() # проверим пропуски в таблице"
   ]
  },
  {
   "cell_type": "markdown",
   "id": "742be1c5",
   "metadata": {},
   "source": [
    "В таблице `messages` дубликатов и пропусков нет. "
   ]
  },
  {
   "cell_type": "markdown",
   "id": "422e9dcb",
   "metadata": {},
   "source": [
    "### 2.4 Тарифы."
   ]
  },
  {
   "cell_type": "code",
   "execution_count": 17,
   "id": "0ccde898",
   "metadata": {},
   "outputs": [],
   "source": [
    "tariffs = pd.read_csv('/Users/Ильдар/Desktop/Проекты в юпитере/Статистический анализ/tariffs.csv') # сохраним датафрейм в переменную tariffs"
   ]
  },
  {
   "cell_type": "code",
   "execution_count": 18,
   "id": "614968f1",
   "metadata": {},
   "outputs": [
    {
     "data": {
      "text/html": [
       "<div>\n",
       "<style scoped>\n",
       "    .dataframe tbody tr th:only-of-type {\n",
       "        vertical-align: middle;\n",
       "    }\n",
       "\n",
       "    .dataframe tbody tr th {\n",
       "        vertical-align: top;\n",
       "    }\n",
       "\n",
       "    .dataframe thead th {\n",
       "        text-align: right;\n",
       "    }\n",
       "</style>\n",
       "<table border=\"1\" class=\"dataframe\">\n",
       "  <thead>\n",
       "    <tr style=\"text-align: right;\">\n",
       "      <th></th>\n",
       "      <th>messages_included</th>\n",
       "      <th>mb_per_month_included</th>\n",
       "      <th>minutes_included</th>\n",
       "      <th>rub_monthly_fee</th>\n",
       "      <th>rub_per_gb</th>\n",
       "      <th>rub_per_message</th>\n",
       "      <th>rub_per_minute</th>\n",
       "      <th>tariff_name</th>\n",
       "    </tr>\n",
       "  </thead>\n",
       "  <tbody>\n",
       "    <tr>\n",
       "      <th>0</th>\n",
       "      <td>50</td>\n",
       "      <td>15360</td>\n",
       "      <td>500</td>\n",
       "      <td>550</td>\n",
       "      <td>200</td>\n",
       "      <td>3</td>\n",
       "      <td>3</td>\n",
       "      <td>smart</td>\n",
       "    </tr>\n",
       "    <tr>\n",
       "      <th>1</th>\n",
       "      <td>1000</td>\n",
       "      <td>30720</td>\n",
       "      <td>3000</td>\n",
       "      <td>1950</td>\n",
       "      <td>150</td>\n",
       "      <td>1</td>\n",
       "      <td>1</td>\n",
       "      <td>ultra</td>\n",
       "    </tr>\n",
       "  </tbody>\n",
       "</table>\n",
       "</div>"
      ],
      "text/plain": [
       "   messages_included  mb_per_month_included  minutes_included  ...  rub_per_message  rub_per_minute  tariff_name\n",
       "0                 50                  15360               500  ...                3               3        smart\n",
       "1               1000                  30720              3000  ...                1               1        ultra\n",
       "\n",
       "[2 rows x 8 columns]"
      ]
     },
     "execution_count": 18,
     "metadata": {},
     "output_type": "execute_result"
    }
   ],
   "source": [
    "tariffs # выведем весь датафрейм tariffs"
   ]
  },
  {
   "cell_type": "markdown",
   "id": "90c3018f",
   "metadata": {},
   "source": [
    "Перед нами таблица `tariffs` — содержашая информация о звонках, 8 столбцов:\n",
    "\n",
    "- `tariff_name` — название тарифа;\n",
    "- `rub_monthly_fee` — ежемесячная абонентская плата в рублях;\n",
    "- `minutes_included` — количество минут разговора в месяц, включённых в абонентскую плату;\n",
    "- `messages_included` — количество сообщений в месяц, включённых в абонентскую плату;\n",
    "- `mb_per_month_included` — объём интернет-трафика, включённого в абонентскую плату (в мегабайтах);\n",
    "- `rub_per_minute` — стоимость минуты разговора сверх тарифного пакета (например, если в тарифе 100 минут разговора в месяц, то со 101 минуты будет взиматься плата);\n",
    "- `rub_per_message` — стоимость отправки сообщения сверх тарифного пакета;\n",
    "- `rub_per_gb` — стоимость дополнительного гигабайта интернет-трафика сверх тарифного пакета (1 гигабайт = 1024 мегабайта);\n",
    "\n",
    "**Тариф «Смарт»**\n",
    "- Ежемесячная плата: 550 рублей;\n",
    "- Включено 500 минут разговора, 50 сообщений и 15 Гб интернет-трафика;\n",
    "- Минута разговора — 3 рубля;\n",
    "- Сообщение — 3 рубля;\n",
    "- 1 Гб интернет-трафика — 200 рублей.\n",
    "\n",
    "**Тариф «Ультра»**\n",
    "- Ежемесячная плата: 1950 рублей;\n",
    "- Включено 3000 минут разговора, 1000 сообщений и 30 Гб интернет-трафика;\n",
    "- Минута разговора — 1 рубль;\n",
    "- Сообщение — 1 рубль;\n",
    "- 1 Гб интернет-трафика: 150 рублей.\n",
    "\n",
    "Все названия в нижнем \"змеином\" регистре - редактирование не требуется. Дубликатов и пропусков нет."
   ]
  },
  {
   "cell_type": "code",
   "execution_count": 19,
   "id": "2df87cb1",
   "metadata": {},
   "outputs": [
    {
     "name": "stdout",
     "output_type": "stream",
     "text": [
      "<class 'pandas.core.frame.DataFrame'>\n",
      "RangeIndex: 2 entries, 0 to 1\n",
      "Data columns (total 8 columns):\n",
      " #   Column                 Non-Null Count  Dtype \n",
      "---  ------                 --------------  ----- \n",
      " 0   messages_included      2 non-null      int64 \n",
      " 1   mb_per_month_included  2 non-null      int64 \n",
      " 2   minutes_included       2 non-null      int64 \n",
      " 3   rub_monthly_fee        2 non-null      int64 \n",
      " 4   rub_per_gb             2 non-null      int64 \n",
      " 5   rub_per_message        2 non-null      int64 \n",
      " 6   rub_per_minute         2 non-null      int64 \n",
      " 7   tariff_name            2 non-null      object\n",
      "dtypes: int64(7), object(1)\n",
      "memory usage: 256.0+ bytes\n"
     ]
    }
   ],
   "source": [
    "tariffs.info() # выведем основную информацию для датафрейма tariffs"
   ]
  },
  {
   "cell_type": "markdown",
   "id": "e9e99659",
   "metadata": {},
   "source": [
    "Столбец `tariff_name` имеют тип **object**, остальные - имеет тип числовой. "
   ]
  },
  {
   "cell_type": "markdown",
   "id": "446c62c9",
   "metadata": {},
   "source": [
    "### 2.5 Пользователи."
   ]
  },
  {
   "cell_type": "code",
   "execution_count": 20,
   "id": "6ef53fb8",
   "metadata": {},
   "outputs": [],
   "source": [
    "users = pd.read_csv('/Users/Ильдар/Desktop/Проекты в юпитере/Статистический анализ/users.csv') # сохраним датафрейм в переменную users"
   ]
  },
  {
   "cell_type": "code",
   "execution_count": 21,
   "id": "dc2f53bf",
   "metadata": {},
   "outputs": [
    {
     "data": {
      "text/html": [
       "<div>\n",
       "<style scoped>\n",
       "    .dataframe tbody tr th:only-of-type {\n",
       "        vertical-align: middle;\n",
       "    }\n",
       "\n",
       "    .dataframe tbody tr th {\n",
       "        vertical-align: top;\n",
       "    }\n",
       "\n",
       "    .dataframe thead th {\n",
       "        text-align: right;\n",
       "    }\n",
       "</style>\n",
       "<table border=\"1\" class=\"dataframe\">\n",
       "  <thead>\n",
       "    <tr style=\"text-align: right;\">\n",
       "      <th></th>\n",
       "      <th>user_id</th>\n",
       "      <th>age</th>\n",
       "      <th>churn_date</th>\n",
       "      <th>city</th>\n",
       "      <th>first_name</th>\n",
       "      <th>last_name</th>\n",
       "      <th>reg_date</th>\n",
       "      <th>tariff</th>\n",
       "    </tr>\n",
       "  </thead>\n",
       "  <tbody>\n",
       "    <tr>\n",
       "      <th>0</th>\n",
       "      <td>1000</td>\n",
       "      <td>52</td>\n",
       "      <td>NaN</td>\n",
       "      <td>Краснодар</td>\n",
       "      <td>Рафаил</td>\n",
       "      <td>Верещагин</td>\n",
       "      <td>2018-05-25</td>\n",
       "      <td>ultra</td>\n",
       "    </tr>\n",
       "    <tr>\n",
       "      <th>1</th>\n",
       "      <td>1001</td>\n",
       "      <td>41</td>\n",
       "      <td>NaN</td>\n",
       "      <td>Москва</td>\n",
       "      <td>Иван</td>\n",
       "      <td>Ежов</td>\n",
       "      <td>2018-11-01</td>\n",
       "      <td>smart</td>\n",
       "    </tr>\n",
       "    <tr>\n",
       "      <th>2</th>\n",
       "      <td>1002</td>\n",
       "      <td>59</td>\n",
       "      <td>NaN</td>\n",
       "      <td>Стерлитамак</td>\n",
       "      <td>Евгений</td>\n",
       "      <td>Абрамович</td>\n",
       "      <td>2018-06-17</td>\n",
       "      <td>smart</td>\n",
       "    </tr>\n",
       "    <tr>\n",
       "      <th>3</th>\n",
       "      <td>1003</td>\n",
       "      <td>23</td>\n",
       "      <td>NaN</td>\n",
       "      <td>Москва</td>\n",
       "      <td>Белла</td>\n",
       "      <td>Белякова</td>\n",
       "      <td>2018-08-17</td>\n",
       "      <td>ultra</td>\n",
       "    </tr>\n",
       "    <tr>\n",
       "      <th>4</th>\n",
       "      <td>1004</td>\n",
       "      <td>68</td>\n",
       "      <td>NaN</td>\n",
       "      <td>Новокузнецк</td>\n",
       "      <td>Татьяна</td>\n",
       "      <td>Авдеенко</td>\n",
       "      <td>2018-05-14</td>\n",
       "      <td>ultra</td>\n",
       "    </tr>\n",
       "  </tbody>\n",
       "</table>\n",
       "</div>"
      ],
      "text/plain": [
       "   user_id  age churn_date         city first_name  last_name    reg_date tariff\n",
       "0     1000   52        NaN    Краснодар     Рафаил  Верещагин  2018-05-25  ultra\n",
       "1     1001   41        NaN       Москва       Иван       Ежов  2018-11-01  smart\n",
       "2     1002   59        NaN  Стерлитамак    Евгений  Абрамович  2018-06-17  smart\n",
       "3     1003   23        NaN       Москва      Белла   Белякова  2018-08-17  ultra\n",
       "4     1004   68        NaN  Новокузнецк    Татьяна   Авдеенко  2018-05-14  ultra"
      ]
     },
     "execution_count": 21,
     "metadata": {},
     "output_type": "execute_result"
    }
   ],
   "source": [
    "users.head() # выведем первые 5 строк датафрейма"
   ]
  },
  {
   "cell_type": "markdown",
   "id": "aaf6eab5",
   "metadata": {},
   "source": [
    "Перед нами таблица `users` — содержашая информация о звонках, 8 столбцов:\n",
    "- `user_id` — уникальный идентификатор пользователя;\n",
    "- `first_name` — имя пользователя;\n",
    "- `last_name` — фамилия пользователя;\n",
    "- `age` — возраст пользователя (годы);\n",
    "- `reg_date` — дата подключения тарифа (день, месяц, год);\n",
    "- `churn_date` — дата прекращения пользования тарифом (если значение пропущено, значит, тариф ещё действовал на момент выгрузки данных);\n",
    "- `city` — город проживания пользователя;\n",
    "- `tarif` — название тарифного плана.\n",
    "\n",
    "Все названия в нижнем \"змеином\" регистре - редактирование не требуется."
   ]
  },
  {
   "cell_type": "code",
   "execution_count": 22,
   "id": "ab6bea4f",
   "metadata": {},
   "outputs": [
    {
     "name": "stdout",
     "output_type": "stream",
     "text": [
      "<class 'pandas.core.frame.DataFrame'>\n",
      "RangeIndex: 500 entries, 0 to 499\n",
      "Data columns (total 8 columns):\n",
      " #   Column      Non-Null Count  Dtype \n",
      "---  ------      --------------  ----- \n",
      " 0   user_id     500 non-null    int64 \n",
      " 1   age         500 non-null    int64 \n",
      " 2   churn_date  38 non-null     object\n",
      " 3   city        500 non-null    object\n",
      " 4   first_name  500 non-null    object\n",
      " 5   last_name   500 non-null    object\n",
      " 6   reg_date    500 non-null    object\n",
      " 7   tariff      500 non-null    object\n",
      "dtypes: int64(2), object(6)\n",
      "memory usage: 31.4+ KB\n"
     ]
    }
   ],
   "source": [
    "users.info() # выведем основную информацию для датафрейма users"
   ]
  },
  {
   "cell_type": "markdown",
   "id": "ed9b358e",
   "metadata": {},
   "source": [
    "Столбцы - `user_id` и  `age` имеют тип числовой, остальные -  **object**, `churn_date` и `reg_date` надо сменить на тип для времени. Всего 500 строк в таблице. "
   ]
  },
  {
   "cell_type": "code",
   "execution_count": 23,
   "id": "ca9ab356",
   "metadata": {},
   "outputs": [
    {
     "data": {
      "text/plain": [
       "0"
      ]
     },
     "execution_count": 23,
     "metadata": {},
     "output_type": "execute_result"
    }
   ],
   "source": [
    "users.duplicated().sum() # выведем количество дубликатов"
   ]
  },
  {
   "cell_type": "code",
   "execution_count": 24,
   "id": "43f9e9f5",
   "metadata": {},
   "outputs": [
    {
     "data": {
      "text/plain": [
       "user_id         0\n",
       "age             0\n",
       "churn_date    462\n",
       "city            0\n",
       "first_name      0\n",
       "last_name       0\n",
       "reg_date        0\n",
       "tariff          0\n",
       "dtype: int64"
      ]
     },
     "execution_count": 24,
     "metadata": {},
     "output_type": "execute_result"
    }
   ],
   "source": [
    "users.isna().sum() # проверим пропуски в таблице"
   ]
  },
  {
   "cell_type": "markdown",
   "id": "8655a1ae",
   "metadata": {},
   "source": [
    "В таблице `users` дубликатов нет. Есть пропукси в столбце `churn_date` - 462 шт. "
   ]
  },
  {
   "cell_type": "code",
   "execution_count": 25,
   "id": "dfa1c3fd",
   "metadata": {},
   "outputs": [
    {
     "data": {
      "text/plain": [
       "user_id        0.0\n",
       "age            0.0\n",
       "churn_date    92.4\n",
       "city           0.0\n",
       "first_name     0.0\n",
       "last_name      0.0\n",
       "reg_date       0.0\n",
       "tariff         0.0\n",
       "dtype: float64"
      ]
     },
     "execution_count": 25,
     "metadata": {},
     "output_type": "execute_result"
    }
   ],
   "source": [
    "round((users.isna().mean()*100),2) # узнайте процент пропущенных значений в каждом столбце"
   ]
  },
  {
   "cell_type": "markdown",
   "id": "b28f7e77",
   "metadata": {},
   "source": [
    "**Вывод:** Данные содержат информцию о пользователях, звонках, сообщения, использование интренета и тарифах. Всего 5 таблиц. Все названия в таблицах в нижнем \"змеином\" регистре - редактирование не требуется. \n",
    "\n",
    "В таблице `users` есть пропукси в столбце `churn_date` - 92,4%.  В остальных - дубликатов и пропусков нет. \n",
    "\n",
    "Для дальнейшей работы с датсетом необходимо изменить типы данных."
   ]
  },
  {
   "cell_type": "markdown",
   "id": "3a140100",
   "metadata": {},
   "source": [
    "## 3 Предобработка данных. "
   ]
  },
  {
   "cell_type": "markdown",
   "id": "7a6033e1",
   "metadata": {},
   "source": [
    "### 3.1 Типы.\n",
    "\n",
    "Приведем столбцы \n",
    "- `reg_date` и `churn_date` из таблицы `users`;\n",
    "- `call_date` из таблицы `calls`;\n",
    "- `message_date` из таблицы `messages`;\n",
    "- `session_date` из таблицы `sessions`\n",
    "\n",
    "к новому типу с помощью метода to_datetime()."
   ]
  },
  {
   "cell_type": "code",
   "execution_count": 26,
   "id": "c9841912",
   "metadata": {},
   "outputs": [],
   "source": [
    "users['reg_date'] = pd.to_datetime(users['reg_date'], format='%Y-%m-%d') # обработка столбца reg_date\n",
    "users['churn_date'] = pd.to_datetime(users['churn_date'], format='%Y-%m-%d') # обработка столбца churn_date\n",
    "\n",
    "calls['call_date'] = pd.to_datetime(calls['call_date'], format='%Y-%m-%d') # обработка столбца call_date\n",
    "\n",
    "messages['message_date'] = pd.to_datetime(messages['message_date'], format='%Y-%m-%d') # обработка столбца message_date\n",
    "\n",
    "sessions['session_date'] = pd.to_datetime(sessions['session_date'], format='%Y-%m-%d') # обработка столбца session_date"
   ]
  },
  {
   "cell_type": "markdown",
   "id": "ea4c1fc1",
   "metadata": {},
   "source": [
    "В столбце `duration` датафрейма `calls` значения дробные. т.к. «Мегалайн» всегда округляет секунды до минут - округлим значения столбца `duration` вверх с помощью метода numpy.ceil() и приведем столбец `duration` к типу **int**."
   ]
  },
  {
   "cell_type": "code",
   "execution_count": 27,
   "id": "07606c11",
   "metadata": {},
   "outputs": [],
   "source": [
    "calls['duration'] = np.ceil(calls['duration']).astype('int')"
   ]
  },
  {
   "cell_type": "markdown",
   "id": "92d4156e",
   "metadata": {},
   "source": [
    "### 3.2 Столбцы. \n",
    "\n",
    "Удалим столбец `Unnamed: 0` из датафрейма `sessions`."
   ]
  },
  {
   "cell_type": "code",
   "execution_count": 28,
   "id": "eebf2f5e",
   "metadata": {},
   "outputs": [],
   "source": [
    "sessions = sessions.drop(columns=['Unnamed: 0'])"
   ]
  },
  {
   "cell_type": "markdown",
   "id": "e5a750c5",
   "metadata": {},
   "source": [
    "Так как в дальнейшем для анализа нам понадобятся данные по месяцам, добавим в таблицы с информацией о звонках, сообщениях и интернет-траффике в соответсвующие столбцы. "
   ]
  },
  {
   "cell_type": "code",
   "execution_count": 29,
   "id": "1354360a",
   "metadata": {},
   "outputs": [],
   "source": [
    "calls['month'] = pd.to_datetime(calls['call_date']).dt.month # созадим столбец month в таблице calls\n",
    "messages['month'] = pd.to_datetime(messages['message_date']).dt.month # созадим столбец month в таблице messages\n",
    "sessions['month'] = pd.to_datetime(sessions['session_date']).dt.month # созадим столбец month в таблице sessions"
   ]
  },
  {
   "cell_type": "markdown",
   "id": "a0102fed",
   "metadata": {},
   "source": [
    "### 3.3 Подсчёт выручки и сборка датасета. \n",
    "\n",
    "Собрем данные в один датафрейм `user_behavior`, где каждой пары \"пользователь - месяц\" будут доступны информация о тарифе, количестве звонков, сообщений и потраченных мегабайтах. Предварительно сгруппируем таблицы по пользователям. "
   ]
  },
  {
   "cell_type": "code",
   "execution_count": 30,
   "id": "5687e430",
   "metadata": {},
   "outputs": [
    {
     "data": {
      "text/html": [
       "<div>\n",
       "<style scoped>\n",
       "    .dataframe tbody tr th:only-of-type {\n",
       "        vertical-align: middle;\n",
       "    }\n",
       "\n",
       "    .dataframe tbody tr th {\n",
       "        vertical-align: top;\n",
       "    }\n",
       "\n",
       "    .dataframe thead th {\n",
       "        text-align: right;\n",
       "    }\n",
       "</style>\n",
       "<table border=\"1\" class=\"dataframe\">\n",
       "  <thead>\n",
       "    <tr style=\"text-align: right;\">\n",
       "      <th></th>\n",
       "      <th></th>\n",
       "      <th>calls</th>\n",
       "      <th>minutes</th>\n",
       "    </tr>\n",
       "    <tr>\n",
       "      <th>user_id</th>\n",
       "      <th>month</th>\n",
       "      <th></th>\n",
       "      <th></th>\n",
       "    </tr>\n",
       "  </thead>\n",
       "  <tbody>\n",
       "    <tr>\n",
       "      <th>1051</th>\n",
       "      <th>10</th>\n",
       "      <td>16</td>\n",
       "      <td>123</td>\n",
       "    </tr>\n",
       "    <tr>\n",
       "      <th>1071</th>\n",
       "      <th>5</th>\n",
       "      <td>52</td>\n",
       "      <td>365</td>\n",
       "    </tr>\n",
       "    <tr>\n",
       "      <th>1131</th>\n",
       "      <th>12</th>\n",
       "      <td>38</td>\n",
       "      <td>263</td>\n",
       "    </tr>\n",
       "    <tr>\n",
       "      <th>1093</th>\n",
       "      <th>9</th>\n",
       "      <td>106</td>\n",
       "      <td>825</td>\n",
       "    </tr>\n",
       "    <tr>\n",
       "      <th>1148</th>\n",
       "      <th>12</th>\n",
       "      <td>123</td>\n",
       "      <td>835</td>\n",
       "    </tr>\n",
       "  </tbody>\n",
       "</table>\n",
       "</div>"
      ],
      "text/plain": [
       "               calls  minutes\n",
       "user_id month                \n",
       "1051    10        16      123\n",
       "1071    5         52      365\n",
       "1131    12        38      263\n",
       "1093    9        106      825\n",
       "1148    12       123      835"
      ]
     },
     "execution_count": 30,
     "metadata": {},
     "output_type": "execute_result"
    }
   ],
   "source": [
    "# расчитаем по месяцам количество сделанных звонков и израсходованных минут разговора\n",
    "calls_per_month = calls.pivot_table(index=['user_id', 'month'], values='duration', aggfunc=['count', 'sum'])\n",
    "calls_per_month.columns = ['calls', 'minutes']\n",
    "calls_per_month.sample(5)"
   ]
  },
  {
   "cell_type": "code",
   "execution_count": 31,
   "id": "3a12d6b0",
   "metadata": {},
   "outputs": [
    {
     "data": {
      "text/html": [
       "<div>\n",
       "<style scoped>\n",
       "    .dataframe tbody tr th:only-of-type {\n",
       "        vertical-align: middle;\n",
       "    }\n",
       "\n",
       "    .dataframe tbody tr th {\n",
       "        vertical-align: top;\n",
       "    }\n",
       "\n",
       "    .dataframe thead th {\n",
       "        text-align: right;\n",
       "    }\n",
       "</style>\n",
       "<table border=\"1\" class=\"dataframe\">\n",
       "  <thead>\n",
       "    <tr style=\"text-align: right;\">\n",
       "      <th></th>\n",
       "      <th></th>\n",
       "      <th>messages</th>\n",
       "    </tr>\n",
       "    <tr>\n",
       "      <th>user_id</th>\n",
       "      <th>month</th>\n",
       "      <th></th>\n",
       "    </tr>\n",
       "  </thead>\n",
       "  <tbody>\n",
       "    <tr>\n",
       "      <th>1393</th>\n",
       "      <th>9</th>\n",
       "      <td>54</td>\n",
       "    </tr>\n",
       "    <tr>\n",
       "      <th>1294</th>\n",
       "      <th>5</th>\n",
       "      <td>27</td>\n",
       "    </tr>\n",
       "    <tr>\n",
       "      <th>1495</th>\n",
       "      <th>11</th>\n",
       "      <td>79</td>\n",
       "    </tr>\n",
       "    <tr>\n",
       "      <th>1087</th>\n",
       "      <th>12</th>\n",
       "      <td>38</td>\n",
       "    </tr>\n",
       "    <tr>\n",
       "      <th>1218</th>\n",
       "      <th>9</th>\n",
       "      <td>25</td>\n",
       "    </tr>\n",
       "  </tbody>\n",
       "</table>\n",
       "</div>"
      ],
      "text/plain": [
       "               messages\n",
       "user_id month          \n",
       "1393    9            54\n",
       "1294    5            27\n",
       "1495    11           79\n",
       "1087    12           38\n",
       "1218    9            25"
      ]
     },
     "execution_count": 31,
     "metadata": {},
     "output_type": "execute_result"
    }
   ],
   "source": [
    "# расчитаем по месяцам количество отправленных сообщений\n",
    "messages_per_month = messages.pivot_table(index=['user_id', 'month'], values='id', aggfunc='count')\n",
    "messages_per_month.columns = ['messages']\n",
    "messages_per_month.sample(5)"
   ]
  },
  {
   "cell_type": "code",
   "execution_count": 32,
   "id": "ef8c1615",
   "metadata": {},
   "outputs": [
    {
     "data": {
      "text/html": [
       "<div>\n",
       "<style scoped>\n",
       "    .dataframe tbody tr th:only-of-type {\n",
       "        vertical-align: middle;\n",
       "    }\n",
       "\n",
       "    .dataframe tbody tr th {\n",
       "        vertical-align: top;\n",
       "    }\n",
       "\n",
       "    .dataframe thead th {\n",
       "        text-align: right;\n",
       "    }\n",
       "</style>\n",
       "<table border=\"1\" class=\"dataframe\">\n",
       "  <thead>\n",
       "    <tr style=\"text-align: right;\">\n",
       "      <th></th>\n",
       "      <th></th>\n",
       "      <th>mb_used</th>\n",
       "    </tr>\n",
       "    <tr>\n",
       "      <th>user_id</th>\n",
       "      <th>month</th>\n",
       "      <th></th>\n",
       "    </tr>\n",
       "  </thead>\n",
       "  <tbody>\n",
       "    <tr>\n",
       "      <th>1168</th>\n",
       "      <th>5</th>\n",
       "      <td>26096.63</td>\n",
       "    </tr>\n",
       "    <tr>\n",
       "      <th>1059</th>\n",
       "      <th>5</th>\n",
       "      <td>21392.57</td>\n",
       "    </tr>\n",
       "    <tr>\n",
       "      <th>1478</th>\n",
       "      <th>11</th>\n",
       "      <td>17759.83</td>\n",
       "    </tr>\n",
       "    <tr>\n",
       "      <th>1245</th>\n",
       "      <th>11</th>\n",
       "      <td>9764.99</td>\n",
       "    </tr>\n",
       "    <tr>\n",
       "      <th>1176</th>\n",
       "      <th>2</th>\n",
       "      <td>13715.94</td>\n",
       "    </tr>\n",
       "  </tbody>\n",
       "</table>\n",
       "</div>"
      ],
      "text/plain": [
       "                mb_used\n",
       "user_id month          \n",
       "1168    5      26096.63\n",
       "1059    5      21392.57\n",
       "1478    11     17759.83\n",
       "1245    11      9764.99\n",
       "1176    2      13715.94"
      ]
     },
     "execution_count": 32,
     "metadata": {},
     "output_type": "execute_result"
    }
   ],
   "source": [
    "# расчитаем по месяцам объем израсходованного интернет-трафика по месяцам\n",
    "sessions_per_month = sessions.pivot_table(index=['user_id', 'month'], values='mb_used', aggfunc='sum')\n",
    "sessions_per_month.columns = ['mb_used']\n",
    "sessions_per_month.sample(5)"
   ]
  },
  {
   "cell_type": "code",
   "execution_count": 33,
   "id": "b436b8ba",
   "metadata": {},
   "outputs": [
    {
     "data": {
      "text/html": [
       "<div>\n",
       "<style scoped>\n",
       "    .dataframe tbody tr th:only-of-type {\n",
       "        vertical-align: middle;\n",
       "    }\n",
       "\n",
       "    .dataframe tbody tr th {\n",
       "        vertical-align: top;\n",
       "    }\n",
       "\n",
       "    .dataframe thead th {\n",
       "        text-align: right;\n",
       "    }\n",
       "</style>\n",
       "<table border=\"1\" class=\"dataframe\">\n",
       "  <thead>\n",
       "    <tr style=\"text-align: right;\">\n",
       "      <th></th>\n",
       "      <th>user_id</th>\n",
       "      <th>month</th>\n",
       "      <th>calls</th>\n",
       "      <th>minutes</th>\n",
       "      <th>messages</th>\n",
       "      <th>mb_used</th>\n",
       "      <th>age</th>\n",
       "      <th>churn_date</th>\n",
       "      <th>city</th>\n",
       "      <th>first_name</th>\n",
       "      <th>last_name</th>\n",
       "      <th>reg_date</th>\n",
       "      <th>tariff</th>\n",
       "    </tr>\n",
       "  </thead>\n",
       "  <tbody>\n",
       "    <tr>\n",
       "      <th>0</th>\n",
       "      <td>1000</td>\n",
       "      <td>5</td>\n",
       "      <td>22.0</td>\n",
       "      <td>159.0</td>\n",
       "      <td>22.0</td>\n",
       "      <td>2253.49</td>\n",
       "      <td>52</td>\n",
       "      <td>NaT</td>\n",
       "      <td>Краснодар</td>\n",
       "      <td>Рафаил</td>\n",
       "      <td>Верещагин</td>\n",
       "      <td>2018-05-25</td>\n",
       "      <td>ultra</td>\n",
       "    </tr>\n",
       "    <tr>\n",
       "      <th>1</th>\n",
       "      <td>1000</td>\n",
       "      <td>6</td>\n",
       "      <td>43.0</td>\n",
       "      <td>172.0</td>\n",
       "      <td>60.0</td>\n",
       "      <td>23233.77</td>\n",
       "      <td>52</td>\n",
       "      <td>NaT</td>\n",
       "      <td>Краснодар</td>\n",
       "      <td>Рафаил</td>\n",
       "      <td>Верещагин</td>\n",
       "      <td>2018-05-25</td>\n",
       "      <td>ultra</td>\n",
       "    </tr>\n",
       "    <tr>\n",
       "      <th>2</th>\n",
       "      <td>1000</td>\n",
       "      <td>7</td>\n",
       "      <td>47.0</td>\n",
       "      <td>340.0</td>\n",
       "      <td>75.0</td>\n",
       "      <td>14003.64</td>\n",
       "      <td>52</td>\n",
       "      <td>NaT</td>\n",
       "      <td>Краснодар</td>\n",
       "      <td>Рафаил</td>\n",
       "      <td>Верещагин</td>\n",
       "      <td>2018-05-25</td>\n",
       "      <td>ultra</td>\n",
       "    </tr>\n",
       "    <tr>\n",
       "      <th>3</th>\n",
       "      <td>1000</td>\n",
       "      <td>8</td>\n",
       "      <td>52.0</td>\n",
       "      <td>408.0</td>\n",
       "      <td>81.0</td>\n",
       "      <td>14055.93</td>\n",
       "      <td>52</td>\n",
       "      <td>NaT</td>\n",
       "      <td>Краснодар</td>\n",
       "      <td>Рафаил</td>\n",
       "      <td>Верещагин</td>\n",
       "      <td>2018-05-25</td>\n",
       "      <td>ultra</td>\n",
       "    </tr>\n",
       "    <tr>\n",
       "      <th>4</th>\n",
       "      <td>1000</td>\n",
       "      <td>9</td>\n",
       "      <td>58.0</td>\n",
       "      <td>466.0</td>\n",
       "      <td>57.0</td>\n",
       "      <td>14568.91</td>\n",
       "      <td>52</td>\n",
       "      <td>NaT</td>\n",
       "      <td>Краснодар</td>\n",
       "      <td>Рафаил</td>\n",
       "      <td>Верещагин</td>\n",
       "      <td>2018-05-25</td>\n",
       "      <td>ultra</td>\n",
       "    </tr>\n",
       "  </tbody>\n",
       "</table>\n",
       "</div>"
      ],
      "text/plain": [
       "   user_id  month  calls  minutes  messages   mb_used  ...  churn_date       city first_name  last_name   reg_date tariff\n",
       "0     1000      5   22.0    159.0      22.0   2253.49  ...         NaT  Краснодар     Рафаил  Верещагин 2018-05-25  ultra\n",
       "1     1000      6   43.0    172.0      60.0  23233.77  ...         NaT  Краснодар     Рафаил  Верещагин 2018-05-25  ultra\n",
       "2     1000      7   47.0    340.0      75.0  14003.64  ...         NaT  Краснодар     Рафаил  Верещагин 2018-05-25  ultra\n",
       "3     1000      8   52.0    408.0      81.0  14055.93  ...         NaT  Краснодар     Рафаил  Верещагин 2018-05-25  ultra\n",
       "4     1000      9   58.0    466.0      57.0  14568.91  ...         NaT  Краснодар     Рафаил  Верещагин 2018-05-25  ultra\n",
       "\n",
       "[5 rows x 13 columns]"
      ]
     },
     "execution_count": 33,
     "metadata": {},
     "output_type": "execute_result"
    }
   ],
   "source": [
    "user_behavior = calls_per_month\\\n",
    "    .merge(messages_per_month, left_index=True, right_index=True, how='outer')\\\n",
    "    .merge(sessions_per_month, left_index=True, right_index=True, how='outer')\\\n",
    "    .reset_index()\\\n",
    "    .merge(users, how='left', left_on='user_id', right_on='user_id')\\\n",
    "\n",
    "user_behavior.head()"
   ]
  },
  {
   "cell_type": "markdown",
   "id": "1ab7430c",
   "metadata": {},
   "source": [
    "Проверим пропуски в таблице `user_behavior` после объединения:"
   ]
  },
  {
   "cell_type": "code",
   "execution_count": 34,
   "id": "fcbdea16",
   "metadata": {},
   "outputs": [
    {
     "data": {
      "text/plain": [
       "user_id          0\n",
       "month            0\n",
       "calls           40\n",
       "minutes         40\n",
       "messages       497\n",
       "mb_used         11\n",
       "age              0\n",
       "churn_date    3027\n",
       "city             0\n",
       "first_name       0\n",
       "last_name        0\n",
       "reg_date         0\n",
       "tariff           0\n",
       "dtype: int64"
      ]
     },
     "execution_count": 34,
     "metadata": {},
     "output_type": "execute_result"
    }
   ],
   "source": [
    "user_behavior.isna().sum()"
   ]
  },
  {
   "cell_type": "code",
   "execution_count": 35,
   "id": "3b7edc70",
   "metadata": {},
   "outputs": [],
   "source": [
    "# заполним образовавшиеся пропуски в данных\n",
    "for column in ('calls', 'minutes', 'messages', 'mb_used'):\n",
    "    user_behavior[column] = user_behavior[column].fillna(0)"
   ]
  },
  {
   "cell_type": "markdown",
   "id": "0a872693",
   "metadata": {},
   "source": [
    "Присоединяем информацию о тарифах"
   ]
  },
  {
   "cell_type": "code",
   "execution_count": 36,
   "id": "e6e23fee",
   "metadata": {},
   "outputs": [],
   "source": [
    "# переименование столбца tariff_name на более простое tariff\n",
    "\n",
    "tariffs = tariffs.rename(\n",
    "    columns={\n",
    "        'tariff_name': 'tariff'\n",
    "    }\n",
    ")"
   ]
  },
  {
   "cell_type": "code",
   "execution_count": 37,
   "id": "f039cb3d",
   "metadata": {},
   "outputs": [],
   "source": [
    "user_behavior = user_behavior.merge(tariffs, on='tariff')"
   ]
  },
  {
   "cell_type": "markdown",
   "id": "daf208f3",
   "metadata": {},
   "source": [
    "Считаем количество минут разговора, сообщений и мегабайт, превышающих включенные в тариф"
   ]
  },
  {
   "cell_type": "code",
   "execution_count": 38,
   "id": "a6d77d36",
   "metadata": {},
   "outputs": [],
   "source": [
    "user_behavior['paid_minutes'] = user_behavior['minutes'] - user_behavior['minutes_included']\n",
    "user_behavior['paid_messages'] = user_behavior['messages'] - user_behavior['messages_included']\n",
    "user_behavior['paid_mb'] = user_behavior['mb_used'] - user_behavior['mb_per_month_included']\n",
    "\n",
    "for col in ['paid_messages', 'paid_minutes', 'paid_mb']:\n",
    "    user_behavior.loc[user_behavior[col] < 0, col] = 0"
   ]
  },
  {
   "cell_type": "markdown",
   "id": "253be0db",
   "metadata": {},
   "source": [
    "Переводим превышающие тариф мегабайты в гигабайты и сохраняем в столбец paid_gb"
   ]
  },
  {
   "cell_type": "code",
   "execution_count": 39,
   "id": "74f9f90b",
   "metadata": {},
   "outputs": [],
   "source": [
    "user_behavior['paid_gb'] = np.ceil(user_behavior['paid_mb'] / 1024).astype(int)"
   ]
  },
  {
   "cell_type": "markdown",
   "id": "2592d3ff",
   "metadata": {},
   "source": [
    "Считаем выручку за минуты разговора, сообщения и интернет"
   ]
  },
  {
   "cell_type": "code",
   "execution_count": 40,
   "id": "743605f8",
   "metadata": {},
   "outputs": [],
   "source": [
    "user_behavior['cost_minutes'] = user_behavior['paid_minutes'] * user_behavior['rub_per_minute']\n",
    "user_behavior['cost_messages'] = user_behavior['paid_messages'] * user_behavior['rub_per_message']\n",
    "user_behavior['cost_gb'] = user_behavior['paid_gb'] * user_behavior['rub_per_gb']"
   ]
  },
  {
   "cell_type": "markdown",
   "id": "800bd013",
   "metadata": {},
   "source": [
    "Считаем помесячную выручку с каждого пользователя, она будет храниться в столбец total_cost"
   ]
  },
  {
   "cell_type": "code",
   "execution_count": 41,
   "id": "0f658a85",
   "metadata": {},
   "outputs": [],
   "source": [
    "user_behavior['total_cost'] = \\\n",
    "      user_behavior['rub_monthly_fee']\\\n",
    "    + user_behavior['cost_minutes']\\\n",
    "    + user_behavior['cost_messages']\\\n",
    "    + user_behavior['cost_gb']"
   ]
  },
  {
   "cell_type": "code",
   "execution_count": 42,
   "id": "7211b934",
   "metadata": {},
   "outputs": [
    {
     "data": {
      "text/html": [
       "<div>\n",
       "<style scoped>\n",
       "    .dataframe tbody tr th:only-of-type {\n",
       "        vertical-align: middle;\n",
       "    }\n",
       "\n",
       "    .dataframe tbody tr th {\n",
       "        vertical-align: top;\n",
       "    }\n",
       "\n",
       "    .dataframe thead th {\n",
       "        text-align: right;\n",
       "    }\n",
       "</style>\n",
       "<table border=\"1\" class=\"dataframe\">\n",
       "  <thead>\n",
       "    <tr style=\"text-align: right;\">\n",
       "      <th></th>\n",
       "      <th></th>\n",
       "      <th>age</th>\n",
       "      <th>calls</th>\n",
       "      <th>cost_gb</th>\n",
       "      <th>cost_messages</th>\n",
       "      <th>cost_minutes</th>\n",
       "      <th>mb_per_month_included</th>\n",
       "      <th>mb_used</th>\n",
       "      <th>messages</th>\n",
       "      <th>messages_included</th>\n",
       "      <th>minutes</th>\n",
       "      <th>minutes_included</th>\n",
       "      <th>paid_gb</th>\n",
       "      <th>paid_mb</th>\n",
       "      <th>paid_messages</th>\n",
       "      <th>paid_minutes</th>\n",
       "      <th>rub_monthly_fee</th>\n",
       "      <th>rub_per_gb</th>\n",
       "      <th>rub_per_message</th>\n",
       "      <th>rub_per_minute</th>\n",
       "      <th>total_cost</th>\n",
       "    </tr>\n",
       "    <tr>\n",
       "      <th>user_id</th>\n",
       "      <th>month</th>\n",
       "      <th></th>\n",
       "      <th></th>\n",
       "      <th></th>\n",
       "      <th></th>\n",
       "      <th></th>\n",
       "      <th></th>\n",
       "      <th></th>\n",
       "      <th></th>\n",
       "      <th></th>\n",
       "      <th></th>\n",
       "      <th></th>\n",
       "      <th></th>\n",
       "      <th></th>\n",
       "      <th></th>\n",
       "      <th></th>\n",
       "      <th></th>\n",
       "      <th></th>\n",
       "      <th></th>\n",
       "      <th></th>\n",
       "      <th></th>\n",
       "    </tr>\n",
       "  </thead>\n",
       "  <tbody>\n",
       "    <tr>\n",
       "      <th rowspan=\"5\" valign=\"top\">1000</th>\n",
       "      <th>5</th>\n",
       "      <td>52</td>\n",
       "      <td>22.0</td>\n",
       "      <td>0</td>\n",
       "      <td>0.0</td>\n",
       "      <td>0.0</td>\n",
       "      <td>30720</td>\n",
       "      <td>2253.49</td>\n",
       "      <td>22.0</td>\n",
       "      <td>1000</td>\n",
       "      <td>159.0</td>\n",
       "      <td>3000</td>\n",
       "      <td>0</td>\n",
       "      <td>0.00</td>\n",
       "      <td>0.0</td>\n",
       "      <td>0.0</td>\n",
       "      <td>1950</td>\n",
       "      <td>150</td>\n",
       "      <td>1</td>\n",
       "      <td>1</td>\n",
       "      <td>1950.0</td>\n",
       "    </tr>\n",
       "    <tr>\n",
       "      <th>6</th>\n",
       "      <td>52</td>\n",
       "      <td>43.0</td>\n",
       "      <td>0</td>\n",
       "      <td>0.0</td>\n",
       "      <td>0.0</td>\n",
       "      <td>30720</td>\n",
       "      <td>23233.77</td>\n",
       "      <td>60.0</td>\n",
       "      <td>1000</td>\n",
       "      <td>172.0</td>\n",
       "      <td>3000</td>\n",
       "      <td>0</td>\n",
       "      <td>0.00</td>\n",
       "      <td>0.0</td>\n",
       "      <td>0.0</td>\n",
       "      <td>1950</td>\n",
       "      <td>150</td>\n",
       "      <td>1</td>\n",
       "      <td>1</td>\n",
       "      <td>1950.0</td>\n",
       "    </tr>\n",
       "    <tr>\n",
       "      <th>7</th>\n",
       "      <td>52</td>\n",
       "      <td>47.0</td>\n",
       "      <td>0</td>\n",
       "      <td>0.0</td>\n",
       "      <td>0.0</td>\n",
       "      <td>30720</td>\n",
       "      <td>14003.64</td>\n",
       "      <td>75.0</td>\n",
       "      <td>1000</td>\n",
       "      <td>340.0</td>\n",
       "      <td>3000</td>\n",
       "      <td>0</td>\n",
       "      <td>0.00</td>\n",
       "      <td>0.0</td>\n",
       "      <td>0.0</td>\n",
       "      <td>1950</td>\n",
       "      <td>150</td>\n",
       "      <td>1</td>\n",
       "      <td>1</td>\n",
       "      <td>1950.0</td>\n",
       "    </tr>\n",
       "    <tr>\n",
       "      <th>8</th>\n",
       "      <td>52</td>\n",
       "      <td>52.0</td>\n",
       "      <td>0</td>\n",
       "      <td>0.0</td>\n",
       "      <td>0.0</td>\n",
       "      <td>30720</td>\n",
       "      <td>14055.93</td>\n",
       "      <td>81.0</td>\n",
       "      <td>1000</td>\n",
       "      <td>408.0</td>\n",
       "      <td>3000</td>\n",
       "      <td>0</td>\n",
       "      <td>0.00</td>\n",
       "      <td>0.0</td>\n",
       "      <td>0.0</td>\n",
       "      <td>1950</td>\n",
       "      <td>150</td>\n",
       "      <td>1</td>\n",
       "      <td>1</td>\n",
       "      <td>1950.0</td>\n",
       "    </tr>\n",
       "    <tr>\n",
       "      <th>9</th>\n",
       "      <td>52</td>\n",
       "      <td>58.0</td>\n",
       "      <td>0</td>\n",
       "      <td>0.0</td>\n",
       "      <td>0.0</td>\n",
       "      <td>30720</td>\n",
       "      <td>14568.91</td>\n",
       "      <td>57.0</td>\n",
       "      <td>1000</td>\n",
       "      <td>466.0</td>\n",
       "      <td>3000</td>\n",
       "      <td>0</td>\n",
       "      <td>0.00</td>\n",
       "      <td>0.0</td>\n",
       "      <td>0.0</td>\n",
       "      <td>1950</td>\n",
       "      <td>150</td>\n",
       "      <td>1</td>\n",
       "      <td>1</td>\n",
       "      <td>1950.0</td>\n",
       "    </tr>\n",
       "    <tr>\n",
       "      <th>...</th>\n",
       "      <th>...</th>\n",
       "      <td>...</td>\n",
       "      <td>...</td>\n",
       "      <td>...</td>\n",
       "      <td>...</td>\n",
       "      <td>...</td>\n",
       "      <td>...</td>\n",
       "      <td>...</td>\n",
       "      <td>...</td>\n",
       "      <td>...</td>\n",
       "      <td>...</td>\n",
       "      <td>...</td>\n",
       "      <td>...</td>\n",
       "      <td>...</td>\n",
       "      <td>...</td>\n",
       "      <td>...</td>\n",
       "      <td>...</td>\n",
       "      <td>...</td>\n",
       "      <td>...</td>\n",
       "      <td>...</td>\n",
       "      <td>...</td>\n",
       "    </tr>\n",
       "    <tr>\n",
       "      <th>1498</th>\n",
       "      <th>10</th>\n",
       "      <td>68</td>\n",
       "      <td>41.0</td>\n",
       "      <td>1200</td>\n",
       "      <td>0.0</td>\n",
       "      <td>0.0</td>\n",
       "      <td>15360</td>\n",
       "      <td>20579.36</td>\n",
       "      <td>42.0</td>\n",
       "      <td>50</td>\n",
       "      <td>247.0</td>\n",
       "      <td>500</td>\n",
       "      <td>6</td>\n",
       "      <td>5219.36</td>\n",
       "      <td>0.0</td>\n",
       "      <td>0.0</td>\n",
       "      <td>550</td>\n",
       "      <td>200</td>\n",
       "      <td>3</td>\n",
       "      <td>3</td>\n",
       "      <td>1750.0</td>\n",
       "    </tr>\n",
       "    <tr>\n",
       "      <th rowspan=\"4\" valign=\"top\">1499</th>\n",
       "      <th>9</th>\n",
       "      <td>35</td>\n",
       "      <td>9.0</td>\n",
       "      <td>0</td>\n",
       "      <td>0.0</td>\n",
       "      <td>0.0</td>\n",
       "      <td>15360</td>\n",
       "      <td>1845.75</td>\n",
       "      <td>11.0</td>\n",
       "      <td>50</td>\n",
       "      <td>70.0</td>\n",
       "      <td>500</td>\n",
       "      <td>0</td>\n",
       "      <td>0.00</td>\n",
       "      <td>0.0</td>\n",
       "      <td>0.0</td>\n",
       "      <td>550</td>\n",
       "      <td>200</td>\n",
       "      <td>3</td>\n",
       "      <td>3</td>\n",
       "      <td>550.0</td>\n",
       "    </tr>\n",
       "    <tr>\n",
       "      <th>10</th>\n",
       "      <td>35</td>\n",
       "      <td>68.0</td>\n",
       "      <td>600</td>\n",
       "      <td>0.0</td>\n",
       "      <td>0.0</td>\n",
       "      <td>15360</td>\n",
       "      <td>17788.51</td>\n",
       "      <td>48.0</td>\n",
       "      <td>50</td>\n",
       "      <td>449.0</td>\n",
       "      <td>500</td>\n",
       "      <td>3</td>\n",
       "      <td>2428.51</td>\n",
       "      <td>0.0</td>\n",
       "      <td>0.0</td>\n",
       "      <td>550</td>\n",
       "      <td>200</td>\n",
       "      <td>3</td>\n",
       "      <td>3</td>\n",
       "      <td>1150.0</td>\n",
       "    </tr>\n",
       "    <tr>\n",
       "      <th>11</th>\n",
       "      <td>35</td>\n",
       "      <td>74.0</td>\n",
       "      <td>600</td>\n",
       "      <td>27.0</td>\n",
       "      <td>336.0</td>\n",
       "      <td>15360</td>\n",
       "      <td>17963.31</td>\n",
       "      <td>59.0</td>\n",
       "      <td>50</td>\n",
       "      <td>612.0</td>\n",
       "      <td>500</td>\n",
       "      <td>3</td>\n",
       "      <td>2603.31</td>\n",
       "      <td>9.0</td>\n",
       "      <td>112.0</td>\n",
       "      <td>550</td>\n",
       "      <td>200</td>\n",
       "      <td>3</td>\n",
       "      <td>3</td>\n",
       "      <td>1513.0</td>\n",
       "    </tr>\n",
       "    <tr>\n",
       "      <th>12</th>\n",
       "      <td>35</td>\n",
       "      <td>69.0</td>\n",
       "      <td>0</td>\n",
       "      <td>48.0</td>\n",
       "      <td>0.0</td>\n",
       "      <td>15360</td>\n",
       "      <td>13055.58</td>\n",
       "      <td>66.0</td>\n",
       "      <td>50</td>\n",
       "      <td>492.0</td>\n",
       "      <td>500</td>\n",
       "      <td>0</td>\n",
       "      <td>0.00</td>\n",
       "      <td>16.0</td>\n",
       "      <td>0.0</td>\n",
       "      <td>550</td>\n",
       "      <td>200</td>\n",
       "      <td>3</td>\n",
       "      <td>3</td>\n",
       "      <td>598.0</td>\n",
       "    </tr>\n",
       "  </tbody>\n",
       "</table>\n",
       "<p>3214 rows × 20 columns</p>\n",
       "</div>"
      ],
      "text/plain": [
       "               age  calls  cost_gb  cost_messages  ...  rub_per_gb  rub_per_message  rub_per_minute  total_cost\n",
       "user_id month                                      ...                                                         \n",
       "1000    5       52   22.0        0            0.0  ...         150                1               1      1950.0\n",
       "        6       52   43.0        0            0.0  ...         150                1               1      1950.0\n",
       "        7       52   47.0        0            0.0  ...         150                1               1      1950.0\n",
       "        8       52   52.0        0            0.0  ...         150                1               1      1950.0\n",
       "        9       52   58.0        0            0.0  ...         150                1               1      1950.0\n",
       "...            ...    ...      ...            ...  ...         ...              ...             ...         ...\n",
       "1498    10      68   41.0     1200            0.0  ...         200                3               3      1750.0\n",
       "1499    9       35    9.0        0            0.0  ...         200                3               3       550.0\n",
       "        10      35   68.0      600            0.0  ...         200                3               3      1150.0\n",
       "        11      35   74.0      600           27.0  ...         200                3               3      1513.0\n",
       "        12      35   69.0        0           48.0  ...         200                3               3       598.0\n",
       "\n",
       "[3214 rows x 20 columns]"
      ]
     },
     "execution_count": 42,
     "metadata": {},
     "output_type": "execute_result"
    }
   ],
   "source": [
    "user_behavior.pivot_table(index=['user_id', 'month']) # выведем сводную таблицу по пользователям и месяцам "
   ]
  },
  {
   "cell_type": "markdown",
   "id": "1561cf21",
   "metadata": {},
   "source": [
    "**Вывод:** Изменили типы данных, удалили лишний столбец и добавили новые в каждую таблицу новые столбцы с указанием номера месяца. Далее подсчитали выручку по каждому клиенту и собрали данные в один датасет. Пропуски после объединения заполнили нулями, т.к. предположим, что не все клиенты используют функции своего тарифа, например кто-то только для звонков или наоборот для интернета. "
   ]
  },
  {
   "cell_type": "markdown",
   "id": "a5bd1e70",
   "metadata": {},
   "source": [
    "## 4 Анализ данных."
   ]
  },
  {
   "cell_type": "markdown",
   "id": "f28b1550",
   "metadata": {},
   "source": [
    "### 4.1 Основные характерикстики.\n",
    "\n",
    "Датафрейм `stats_df` для каждой пары \"месяц-тариф\" будет хранить основные характеристики."
   ]
  },
  {
   "cell_type": "code",
   "execution_count": 43,
   "id": "8ff83248",
   "metadata": {},
   "outputs": [
    {
     "data": {
      "text/html": [
       "<div>\n",
       "<style scoped>\n",
       "    .dataframe tbody tr th:only-of-type {\n",
       "        vertical-align: middle;\n",
       "    }\n",
       "\n",
       "    .dataframe tbody tr th {\n",
       "        vertical-align: top;\n",
       "    }\n",
       "\n",
       "    .dataframe thead th {\n",
       "        text-align: right;\n",
       "    }\n",
       "</style>\n",
       "<table border=\"1\" class=\"dataframe\">\n",
       "  <thead>\n",
       "    <tr style=\"text-align: right;\">\n",
       "      <th></th>\n",
       "      <th>month</th>\n",
       "      <th>tariff</th>\n",
       "      <th>calls_mean</th>\n",
       "      <th>sessions_mean</th>\n",
       "      <th>messages_mean</th>\n",
       "      <th>minutes_mean</th>\n",
       "      <th>calls_std</th>\n",
       "      <th>sessions_std</th>\n",
       "      <th>messages_std</th>\n",
       "      <th>minutes_std</th>\n",
       "      <th>calls_median</th>\n",
       "      <th>sessions_median</th>\n",
       "      <th>messages_median</th>\n",
       "      <th>minutes_median</th>\n",
       "    </tr>\n",
       "  </thead>\n",
       "  <tbody>\n",
       "    <tr>\n",
       "      <th>0</th>\n",
       "      <td>1</td>\n",
       "      <td>smart</td>\n",
       "      <td>27.68</td>\n",
       "      <td>8513.72</td>\n",
       "      <td>18.24</td>\n",
       "      <td>203.85</td>\n",
       "      <td>20.81</td>\n",
       "      <td>6444.68</td>\n",
       "      <td>16.20</td>\n",
       "      <td>154.23</td>\n",
       "      <td>20.5</td>\n",
       "      <td>7096.18</td>\n",
       "      <td>15.0</td>\n",
       "      <td>162.5</td>\n",
       "    </tr>\n",
       "    <tr>\n",
       "      <th>1</th>\n",
       "      <td>1</td>\n",
       "      <td>ultra</td>\n",
       "      <td>59.44</td>\n",
       "      <td>13140.68</td>\n",
       "      <td>33.78</td>\n",
       "      <td>428.11</td>\n",
       "      <td>41.64</td>\n",
       "      <td>6865.35</td>\n",
       "      <td>30.67</td>\n",
       "      <td>269.76</td>\n",
       "      <td>51.0</td>\n",
       "      <td>14791.37</td>\n",
       "      <td>32.0</td>\n",
       "      <td>382.0</td>\n",
       "    </tr>\n",
       "    <tr>\n",
       "      <th>2</th>\n",
       "      <td>2</td>\n",
       "      <td>smart</td>\n",
       "      <td>40.19</td>\n",
       "      <td>11597.05</td>\n",
       "      <td>24.09</td>\n",
       "      <td>298.69</td>\n",
       "      <td>25.39</td>\n",
       "      <td>6247.35</td>\n",
       "      <td>21.75</td>\n",
       "      <td>190.82</td>\n",
       "      <td>38.5</td>\n",
       "      <td>12553.71</td>\n",
       "      <td>20.0</td>\n",
       "      <td>258.0</td>\n",
       "    </tr>\n",
       "    <tr>\n",
       "      <th>3</th>\n",
       "      <td>2</td>\n",
       "      <td>ultra</td>\n",
       "      <td>41.54</td>\n",
       "      <td>11775.94</td>\n",
       "      <td>21.96</td>\n",
       "      <td>297.12</td>\n",
       "      <td>40.97</td>\n",
       "      <td>10644.64</td>\n",
       "      <td>26.77</td>\n",
       "      <td>296.51</td>\n",
       "      <td>25.0</td>\n",
       "      <td>7327.12</td>\n",
       "      <td>5.5</td>\n",
       "      <td>168.0</td>\n",
       "    </tr>\n",
       "    <tr>\n",
       "      <th>4</th>\n",
       "      <td>3</td>\n",
       "      <td>smart</td>\n",
       "      <td>54.32</td>\n",
       "      <td>15104.16</td>\n",
       "      <td>31.86</td>\n",
       "      <td>390.05</td>\n",
       "      <td>25.54</td>\n",
       "      <td>5828.24</td>\n",
       "      <td>26.80</td>\n",
       "      <td>191.89</td>\n",
       "      <td>59.0</td>\n",
       "      <td>15670.25</td>\n",
       "      <td>23.0</td>\n",
       "      <td>409.0</td>\n",
       "    </tr>\n",
       "    <tr>\n",
       "      <th>5</th>\n",
       "      <td>3</td>\n",
       "      <td>ultra</td>\n",
       "      <td>67.68</td>\n",
       "      <td>17535.55</td>\n",
       "      <td>32.30</td>\n",
       "      <td>489.65</td>\n",
       "      <td>44.84</td>\n",
       "      <td>10951.79</td>\n",
       "      <td>41.62</td>\n",
       "      <td>333.74</td>\n",
       "      <td>57.0</td>\n",
       "      <td>17495.18</td>\n",
       "      <td>20.0</td>\n",
       "      <td>403.0</td>\n",
       "    </tr>\n",
       "    <tr>\n",
       "      <th>6</th>\n",
       "      <td>4</td>\n",
       "      <td>smart</td>\n",
       "      <td>51.31</td>\n",
       "      <td>13462.18</td>\n",
       "      <td>30.74</td>\n",
       "      <td>367.13</td>\n",
       "      <td>25.70</td>\n",
       "      <td>5698.25</td>\n",
       "      <td>24.54</td>\n",
       "      <td>186.49</td>\n",
       "      <td>52.0</td>\n",
       "      <td>14087.65</td>\n",
       "      <td>28.0</td>\n",
       "      <td>368.5</td>\n",
       "    </tr>\n",
       "    <tr>\n",
       "      <th>7</th>\n",
       "      <td>4</td>\n",
       "      <td>ultra</td>\n",
       "      <td>64.09</td>\n",
       "      <td>16828.13</td>\n",
       "      <td>31.56</td>\n",
       "      <td>458.02</td>\n",
       "      <td>36.27</td>\n",
       "      <td>9718.65</td>\n",
       "      <td>37.51</td>\n",
       "      <td>267.68</td>\n",
       "      <td>61.0</td>\n",
       "      <td>16645.78</td>\n",
       "      <td>17.0</td>\n",
       "      <td>453.0</td>\n",
       "    </tr>\n",
       "    <tr>\n",
       "      <th>8</th>\n",
       "      <td>5</td>\n",
       "      <td>smart</td>\n",
       "      <td>55.24</td>\n",
       "      <td>15805.18</td>\n",
       "      <td>33.77</td>\n",
       "      <td>387.36</td>\n",
       "      <td>25.38</td>\n",
       "      <td>5978.23</td>\n",
       "      <td>27.04</td>\n",
       "      <td>186.60</td>\n",
       "      <td>59.0</td>\n",
       "      <td>16323.94</td>\n",
       "      <td>30.0</td>\n",
       "      <td>433.0</td>\n",
       "    </tr>\n",
       "    <tr>\n",
       "      <th>9</th>\n",
       "      <td>5</td>\n",
       "      <td>ultra</td>\n",
       "      <td>72.51</td>\n",
       "      <td>19363.15</td>\n",
       "      <td>37.85</td>\n",
       "      <td>510.33</td>\n",
       "      <td>41.08</td>\n",
       "      <td>10046.11</td>\n",
       "      <td>40.31</td>\n",
       "      <td>289.60</td>\n",
       "      <td>75.0</td>\n",
       "      <td>18696.43</td>\n",
       "      <td>25.0</td>\n",
       "      <td>519.0</td>\n",
       "    </tr>\n",
       "  </tbody>\n",
       "</table>\n",
       "</div>"
      ],
      "text/plain": [
       "   month tariff  calls_mean  sessions_mean  ...  calls_median  sessions_median  messages_median  minutes_median\n",
       "0      1  smart       27.68        8513.72  ...          20.5          7096.18             15.0           162.5\n",
       "1      1  ultra       59.44       13140.68  ...          51.0         14791.37             32.0           382.0\n",
       "2      2  smart       40.19       11597.05  ...          38.5         12553.71             20.0           258.0\n",
       "3      2  ultra       41.54       11775.94  ...          25.0          7327.12              5.5           168.0\n",
       "4      3  smart       54.32       15104.16  ...          59.0         15670.25             23.0           409.0\n",
       "5      3  ultra       67.68       17535.55  ...          57.0         17495.18             20.0           403.0\n",
       "6      4  smart       51.31       13462.18  ...          52.0         14087.65             28.0           368.5\n",
       "7      4  ultra       64.09       16828.13  ...          61.0         16645.78             17.0           453.0\n",
       "8      5  smart       55.24       15805.18  ...          59.0         16323.94             30.0           433.0\n",
       "9      5  ultra       72.51       19363.15  ...          75.0         18696.43             25.0           519.0\n",
       "\n",
       "[10 rows x 14 columns]"
      ]
     },
     "execution_count": 43,
     "metadata": {},
     "output_type": "execute_result"
    }
   ],
   "source": [
    "# сохранение статистических метрик для каждой пары месяц-тариф\n",
    "# в одной таблице stats_df (среднее значение, стандартное отклонение, медиана)\n",
    "\n",
    "stats_df = user_behavior.pivot_table(\n",
    "            index=['month', 'tariff'],\\\n",
    "            values=['calls', 'minutes', 'messages', 'mb_used'],\\\n",
    "            aggfunc=['mean', 'std', 'median']\\\n",
    ").round(2).reset_index()\n",
    "\n",
    "stats_df.columns=['month', 'tariff', 'calls_mean', 'sessions_mean', 'messages_mean', 'minutes_mean',\n",
    "                                     'calls_std',  'sessions_std', 'messages_std', 'minutes_std', \n",
    "                                     'calls_median', 'sessions_median', 'messages_median',  'minutes_median']\n",
    "\n",
    "stats_df.head(10)"
   ]
  },
  {
   "cell_type": "markdown",
   "id": "57a7bfb0",
   "metadata": {},
   "source": [
    "### 4.2 Распределение среднего количества звонков по видам тарифов и месяцам."
   ]
  },
  {
   "cell_type": "code",
   "execution_count": 44,
   "id": "0263d2e4",
   "metadata": {},
   "outputs": [
    {
     "data": {
      "image/png": "[encoded data removed]",
      "text/plain": [
       "<Figure size 640x480 with 1 Axes>"
      ]
     },
     "metadata": {},
     "output_type": "display_data"
    }
   ],
   "source": [
    "ax = sns.barplot(x='month',\n",
    "            y='calls_mean',\n",
    "            hue=\"tariff\",\n",
    "            data=stats_df,\n",
    "            palette=['lightblue', 'blue'])\n",
    "\n",
    "ax.set_title('Распределение среднего количества звонков по видам тарифов и месяцам')\n",
    "ax.set(xlabel='Номер месяца', ylabel='Среднее количество звонков');"
   ]
  },
  {
   "cell_type": "code",
   "execution_count": 45,
   "id": "194bb220",
   "metadata": {},
   "outputs": [
    {
     "data": {
      "image/png": "[encoded data removed]",
      "text/plain": [
       "<Figure size 640x480 with 1 Axes>"
      ]
     },
     "metadata": {},
     "output_type": "display_data"
    }
   ],
   "source": [
    "user_behavior[user_behavior['tariff'] =='smart']['calls'].hist(bins=35, alpha=0.5, color='green')\n",
    "user_behavior[user_behavior['tariff'] =='ultra']['calls'].hist(bins=35, alpha=0.5, color='blue')\n",
    "plt.title('Сравнение количество звонков среди пользователей тарифов Smart и Ultra')\n",
    "plt.legend(['Smart', 'Ultra'])\n",
    "plt.xlabel('Количество звонков')\n",
    "plt.ylabel('Количество клиентов')\n",
    "plt.show();"
   ]
  },
  {
   "cell_type": "markdown",
   "id": "5865419c",
   "metadata": {},
   "source": [
    "Среднее количество звонков у абонентов тарифа Ultra больше, чем у абонентов тарифа Smart. В течение года пользователи обоих тарифов увеличивают среднее количество звонков. Рост среднего количества звонков у абонентов тарифа Smart более равномерный в течение года. Пользователи тарифа Ultra не проявляют подобной линейной стабильности. В феврале у абонентов Ultra наблюдались самые низкие показатели, они почти сравнялись с показателями абонентов тарифа Smart."
   ]
  },
  {
   "cell_type": "markdown",
   "id": "623ad22f",
   "metadata": {},
   "source": [
    "### 4.3 Распределение средней продолжительности звонков по видам тарифов и месяцам."
   ]
  },
  {
   "cell_type": "code",
   "execution_count": 46,
   "id": "debede82",
   "metadata": {},
   "outputs": [
    {
     "data": {
      "image/png": "[encoded data removed]",
      "text/plain": [
       "<Figure size 640x480 with 1 Axes>"
      ]
     },
     "metadata": {},
     "output_type": "display_data"
    }
   ],
   "source": [
    "ax = sns.barplot(x='month',\n",
    "            y='minutes_mean',\n",
    "            hue=\"tariff\",\n",
    "            data=stats_df,\n",
    "            palette=['lightblue', 'blue'])\n",
    "\n",
    "ax.set_title('Распределение средней продолжительности звонков по видам тарифов и месяцам')\n",
    "ax.set(xlabel='Номер месяца', ylabel='Средняя продолжительность звонков');"
   ]
  },
  {
   "cell_type": "code",
   "execution_count": 47,
   "id": "5904a767",
   "metadata": {},
   "outputs": [
    {
     "data": {
      "image/png": "[encoded data removed]",
      "text/plain": [
       "<Figure size 640x480 with 1 Axes>"
      ]
     },
     "metadata": {},
     "output_type": "display_data"
    }
   ],
   "source": [
    "user_behavior[user_behavior['tariff'] =='smart']['minutes'].hist(bins=35, alpha=0.5, color='green')\n",
    "user_behavior[user_behavior['tariff'] =='ultra']['minutes'].hist(bins=35, alpha=0.5, color='blue')\n",
    "plt.title('Сравнение продолжительности звонков среди пользователей тарифов Smart и Ultra')\n",
    "plt.legend(['Smart', 'Ultra'])\n",
    "plt.xlabel('Продолжительность звонков')\n",
    "plt.ylabel('Количество клиентов')\n",
    "plt.show();"
   ]
  },
  {
   "cell_type": "markdown",
   "id": "558d756b",
   "metadata": {},
   "source": [
    "Средняя длительность разговоров у абонентов тарифа Ultra больше, чем у абонентов тарифа Smart. В течение года пользователи обоих тарифов увеличивают среднюю продолжительность своих разговоров. Рост средней длительности разговоров у абонентов тарифа Smart более равномерный в течение года. Пользователи тарифа Ultra не проявляют подобной линейной стабильности. Стоит отметить, что в феврале у абонентов Ultra наблюдались самые низкие показатели, они почти сравнялись с показателями абонентов тарифа Smart. "
   ]
  },
  {
   "cell_type": "markdown",
   "id": "384b80d5",
   "metadata": {},
   "source": [
    "### 4.4 Распределение среднего количества сообщений по видам тарифов и месяцам. "
   ]
  },
  {
   "cell_type": "code",
   "execution_count": 48,
   "id": "68d24026",
   "metadata": {},
   "outputs": [
    {
     "data": {
      "image/png": "[encoded data removed]",
      "text/plain": [
       "<Figure size 640x480 with 1 Axes>"
      ]
     },
     "metadata": {},
     "output_type": "display_data"
    }
   ],
   "source": [
    "ax = sns.barplot(x='month',\n",
    "            y='messages_mean',\n",
    "            hue=\"tariff\",\n",
    "            data=stats_df,\n",
    "            palette=['lightblue', 'blue']\n",
    ")\n",
    "\n",
    "ax.set_title('Распределение среднего количества сообщений по видам тарифов и месяцам')\n",
    "ax.set(xlabel='Номер месяца', ylabel='Среднее количество сообщений');"
   ]
  },
  {
   "cell_type": "code",
   "execution_count": 49,
   "id": "18e35db3",
   "metadata": {},
   "outputs": [
    {
     "data": {
      "image/png": "[encoded data removed]",
      "text/plain": [
       "<Figure size 640x480 with 1 Axes>"
      ]
     },
     "metadata": {},
     "output_type": "display_data"
    }
   ],
   "source": [
    "user_behavior[user_behavior['tariff'] =='smart']['messages'].hist(bins=35, alpha=0.5, color='green')\n",
    "user_behavior[user_behavior['tariff'] =='ultra']['messages'].hist(bins=35, alpha=0.5, color='blue')\n",
    "plt.title('Сравнение количества сообщений среди пользователей тарифов Smart и Ultra')\n",
    "plt.legend(['Smart', 'Ultra'])\n",
    "plt.xlabel('Количество сообщений')\n",
    "plt.ylabel('Количество клиентов')\n",
    "plt.show();"
   ]
  },
  {
   "cell_type": "markdown",
   "id": "c9b6513e",
   "metadata": {},
   "source": [
    "В среднем количество сообщений пользователи тарифа Ultra отправляют больше - почти на 20 сообщений больше, чем пользователи тарифа Smart. Количество сообщений в течение года на обоих тарифак растет. Динамика по отправке сообщений схожа с тенденциями по длительности разговоров: в феврале отмечено наименьшее количество сообщений за год и пользователи тарифа Ultra также проявляют нелинейную положительную динамику."
   ]
  },
  {
   "cell_type": "markdown",
   "id": "fe23c958",
   "metadata": {},
   "source": [
    "### 4.5 Распределение среднего количества потраченного трафика по видам тарифов и месяцам."
   ]
  },
  {
   "cell_type": "code",
   "execution_count": 50,
   "id": "c810584a",
   "metadata": {},
   "outputs": [
    {
     "data": {
      "image/png": "[encoded data removed]",
      "text/plain": [
       "<Figure size 640x480 with 1 Axes>"
      ]
     },
     "metadata": {},
     "output_type": "display_data"
    }
   ],
   "source": [
    "ax = sns.barplot(x='month',\n",
    "            y='sessions_mean',\n",
    "            hue=\"tariff\",\n",
    "            data=stats_df,\n",
    "            palette=['lightblue', 'blue']\n",
    ")\n",
    "\n",
    "ax.set_title('Распределение среднего количества потраченного трафика (Мб) по видам тарифов и месяцам')\n",
    "ax.set(xlabel='Номер месяца', ylabel='Среднее количество мегабайт');"
   ]
  },
  {
   "cell_type": "code",
   "execution_count": 51,
   "id": "0cdf9de9",
   "metadata": {},
   "outputs": [
    {
     "data": {
      "image/png": "[encoded data removed]",
      "text/plain": [
       "<Figure size 640x480 with 1 Axes>"
      ]
     },
     "metadata": {},
     "output_type": "display_data"
    }
   ],
   "source": [
    "user_behavior[user_behavior['tariff'] =='smart']['mb_used'].hist(bins=35, alpha=0.5, color='green')\n",
    "user_behavior[user_behavior['tariff'] =='ultra']['mb_used'].hist(bins=35, alpha=0.5, color='blue')\n",
    "plt.title('Сравнение потраченных мегабайт среди пользователей тарифов Smart и Ultra')\n",
    "plt.legend(['Smart', 'Ultra'])\n",
    "plt.xlabel('Количество мегабайт')\n",
    "plt.ylabel('Количество клиентов')\n",
    "plt.show();"
   ]
  },
  {
   "cell_type": "markdown",
   "id": "527f9563",
   "metadata": {},
   "source": [
    "Меньше всего пользователи использовали интернет в январе, феврале и апреле. Чаще всего абоненты тарифа Smart тратят 15-17 Гб, а абоненты тарифного плана Ultra - 19-21 ГБ."
   ]
  },
  {
   "cell_type": "markdown",
   "id": "12ce2a56",
   "metadata": {},
   "source": [
    "**Вывод:**  При сравнении двух тарифов выяснили, что в тарифе Ultra в среднем наблюдается больший расход минут (на 25,93%), сообщений (на 47,78%) и интернет-трафика (на 19,32%). При этом в тарифе Smart расходуют минимум 3 ГБ интернета в месяц, в тарифе Ultra могут не пользоваться интернетом вообще."
   ]
  },
  {
   "cell_type": "markdown",
   "id": "58479ee2",
   "metadata": {},
   "source": [
    "## 5 Проверка гипотез."
   ]
  },
  {
   "cell_type": "markdown",
   "id": "4475a1ea",
   "metadata": {},
   "source": [
    "###  5.1 Гипотеза 1.\n",
    "\n",
    "Проверим, есть ли статистически значимое **различие в средней выручке** между клиентами на тарифах «Ультра» и «Смарт».\n",
    "\n",
    "В качестве нулевой и альтернативной гипотезы мы взяли следующее:\n",
    "\n",
    "- **H0:** статистически значимых **различий в средней выручке** между клиентами на тарифах «Ультра» и «Смарт» **нет**.\n",
    "\n",
    "- **H1:** статистически значимые **различия в средней выручке** между клиентами на тарифах «Ультра» и «Смарт» **есть**.\n",
    "\n",
    "Зададим значение alpha равное 0.05, это критический уровень статистической значимости если p-value окажется меньше него - отвергнем нулевую гипотезу.\n",
    "\n",
    "Проверять гипотезу будем c помощью t-критерия Стьюдента. Применять будем метод ttest_ind библиотеки scipy."
   ]
  },
  {
   "cell_type": "code",
   "execution_count": 52,
   "id": "9db51583",
   "metadata": {},
   "outputs": [],
   "source": [
    "smart = user_behavior.loc[user_behavior.tariff == 'smart', 'total_cost']\n",
    "ultra = user_behavior.loc[user_behavior.tariff == 'ultra', 'total_cost']"
   ]
  },
  {
   "cell_type": "code",
   "execution_count": 62,
   "id": "126706f8",
   "metadata": {},
   "outputs": [
    {
     "name": "stdout",
     "output_type": "stream",
     "text": [
      "p-значение:1.8783148636310733e-122\n",
      "Дисперсии не равны\n"
     ]
    }
   ],
   "source": [
    "# предварительно проверим равенство дисперсий тестом Левене\n",
    "\n",
    "alpha = .05\n",
    "stat, p = st.levene(\n",
    "    smart, \n",
    "    ultra\n",
    ")\n",
    "print(f\"p-значение:{p}\")\n",
    "if p < alpha:\n",
    "    print(\"Дисперсии не равны\")\n",
    "else:\n",
    "    print(\"Дисперсии равны\")"
   ]
  },
  {
   "cell_type": "code",
   "execution_count": 63,
   "id": "3c8d9098",
   "metadata": {},
   "outputs": [
    {
     "name": "stdout",
     "output_type": "stream",
     "text": [
      "4.2606313931076085e-250\n",
      "Отвергаем нулевую гипотезу\n"
     ]
    }
   ],
   "source": [
    "alpha = .05 # значение уровня значимости\n",
    "# так как дисперсии не равны, установим параметр equal_var = False\n",
    "\n",
    "results = st.ttest_ind(smart, ultra, equal_var = False)  # вызов метода для проверки гипотезы\n",
    "\n",
    "print(results.pvalue) # вывод значения p-value на экран\n",
    "\n",
    "if results.pvalue < alpha: # условный оператор с выводом строки с ответом\n",
    "    print(\"Отвергаем нулевую гипотезу\")\n",
    "else:\n",
    "    print(\"Не получилось отвергнуть нулевую гипотезу\")"
   ]
  },
  {
   "cell_type": "markdown",
   "id": "ccd3918a",
   "metadata": {},
   "source": [
    "**Вывод:** По результатам отвергаем нулевую гипотезу, а значит - **статистически значимые различия в средней выручке между клиентами на тарифах «Ультра» и «Смарт» скорее всего есть.**"
   ]
  },
  {
   "cell_type": "markdown",
   "id": "53e71b1d",
   "metadata": {},
   "source": [
    "###  5.2 Гипотеза 2.\n",
    "\n",
    "Проверим, есть ли статистически значимое **различие в средней выручке** между клиентами из Москвы и из других городов.\n",
    "\n",
    "В качестве нулевой и альтернативной гипотезы мы взяли следующее:\n",
    "\n",
    "- **H0:** статистически значимых **различий в средней выручке** между клиентами из Москвы и других городов **нет**.\n",
    "\n",
    "- **H1:** статистически значимые **различия в средней выручке** между клиентами из Москвы и других городов **есть**.\n",
    "\n",
    "Зададим значение alpha равное 0.05, это критический уровень статистической значимости если p-value окажется меньше него - отвергнем нулевую гипотезу.\n",
    "\n",
    "Проверять гипотезу будем c помощью t-критерия Стьюдента. Применять будем метод ttest_ind библиотеки scipy."
   ]
  },
  {
   "cell_type": "code",
   "execution_count": null,
   "id": "55c98dd1",
   "metadata": {},
   "outputs": [],
   "source": [
    "moscow = user_behavior.loc[user_behavior.city == 'Москва', 'total_cost']\n",
    "other_city = user_behavior.loc[user_behavior.city != 'Москва', 'total_cost']"
   ]
  },
  {
   "cell_type": "code",
   "execution_count": 61,
   "id": "c19e0db7",
   "metadata": {},
   "outputs": [
    {
     "name": "stdout",
     "output_type": "stream",
     "text": [
      "p-значение:0.014082487123270156\n",
      "Дисперсии не равны\n"
     ]
    }
   ],
   "source": [
    "# предварительно проверим равенство дисперсий тестом Левене\n",
    "\n",
    "alpha = .05\n",
    "stat, p = st.levene(\n",
    "    moscow, \n",
    "    other_city\n",
    ")\n",
    "print(f\"p-значение:{p}\")\n",
    "if p < alpha:\n",
    "    print(\"Дисперсии не равны\")\n",
    "else:\n",
    "    print(\"Дисперсии равны\")"
   ]
  },
  {
   "cell_type": "code",
   "execution_count": 64,
   "id": "30e2b4dc",
   "metadata": {},
   "outputs": [
    {
     "name": "stdout",
     "output_type": "stream",
     "text": [
      "0.5257376663729298\n",
      "Не получилось отвергнуть нулевую гипотезу\n"
     ]
    }
   ],
   "source": [
    "alpha = .05 # значение уровня значимости\n",
    "# так как дисперсии не равны, установим параметр equal_var = False\n",
    "\n",
    "results = st.ttest_ind(moscow, other_city, equal_var=False) # вызов метода для проверки гипотезы\n",
    "\n",
    "print(results.pvalue) # вывод значения p-value на экран \n",
    "\n",
    "if results.pvalue < alpha: # условный оператор с выводом строки с ответом\n",
    "    print(\"Отвергаем нулевую гипотезу\")\n",
    "else:\n",
    "    print(\"Не получилось отвергнуть нулевую гипотезу\")"
   ]
  },
  {
   "cell_type": "markdown",
   "id": "5df32155",
   "metadata": {},
   "source": [
    "**Вывод:** По результатам не получилось отвергнуть нулевую гипотезу, а значит - **статистически значимые различия в средней выручке между клиентами из Москвы и других городов нет.**"
   ]
  },
  {
   "cell_type": "markdown",
   "id": "7ffd0abb",
   "metadata": {},
   "source": [
    "### 5.3 Ответим на вопрос - Какой тариф лучше?\n",
    "\n",
    "Выясним, пользователи какого тарифа приносят больше выручки в месяц."
   ]
  },
  {
   "cell_type": "code",
   "execution_count": 60,
   "id": "c90be95f",
   "metadata": {},
   "outputs": [
    {
     "name": "stdout",
     "output_type": "stream",
     "text": [
      "Средняя месячная выручка пользователей тарифа Smart: 1290\n",
      "Средняя месячная выручка пользователей тарифа Ultra: 2070\n",
      "Разница между среднемесячной выручкой составляет: 62.31%\n"
     ]
    }
   ],
   "source": [
    "print(\n",
    "    f\"Средняя месячная выручка пользователей тарифа Smart: {round(smart.mean())}\")\n",
    "print(\n",
    "    f\"Средняя месячная выручка пользователей тарифа Ultra: {round(ultra.mean())}\")\n",
    "print(\n",
    "    f\"Разница между среднемесячной выручкой составляет: {smart.mean()/ultra.mean():.2%}\")"
   ]
  },
  {
   "cell_type": "markdown",
   "id": "16b04ad7",
   "metadata": {},
   "source": [
    "**Вывод:** Тариф Ultra приносит на 62,30% больше ежемесячной выручки, чем тариф Smart. На основании этих данных можно сделать вывод, что тариф Ultra лучше, так как он прибыльнее для оператора сотовой связи."
   ]
  },
  {
   "cell_type": "markdown",
   "id": "8e25c75e",
   "metadata": {},
   "source": [
    "## 6 Общие выводы: \n",
    "\n",
    "В этом проекте был проведен предварительный анализ тарифов федерального оператора сотовой связи «Мегалайн» на небольшой (500 человек) выборке клиентов. Своим клиентам компания предлагает два тарифных плана: «Смарт» и «Ультра». В нашем распоряжении были следующие данные пользователей «Мегалайна»: кто они, откуда, каким тарифом пользуются, сколько звонков и сообщений каждый отправил за 2018 год. Задачей исследования было понять, какой тариф приносит больше денег. Мы проанализировали поведение клиентов чтобы сделать вывод — какой тариф лучше.\n",
    "\n",
    "В ходе исследования удалось выяснить, что: \n",
    "- оба тарифа приносят разную ежемесячную выручку,\n",
    "- существенной разницы в ежемесячной выручке у пользователей из Москвы и пользователей из других регионов не наблюдается, \n",
    "- тариф Ultra приносит на 62,31% больше денег, чем тариф Smart, поэтому считаемм, что тариф Ultra лучше. "
   ]
  }
 ],
 "metadata": {
  "kernelspec": {
   "display_name": "Python 3 (ipykernel)",
   "language": "python",
   "name": "python3"
  },
  "language_info": {
   "codemirror_mode": {
    "name": "ipython",
    "version": 3
   },
   "file_extension": ".py",
   "mimetype": "text/x-python",
   "name": "python",
   "nbconvert_exporter": "python",
   "pygments_lexer": "ipython3",
   "version": "3.9.13"
  }
 },
 "nbformat": 4,
 "nbformat_minor": 5
}
