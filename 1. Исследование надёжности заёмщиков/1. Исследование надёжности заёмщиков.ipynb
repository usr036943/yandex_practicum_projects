{
 "cells": [
  {
   "cell_type": "markdown",
   "id": "a55f8196",
   "metadata": {},
   "source": [
    "# Проект - \"Исследование надежности заемщиков\".\n",
    "\n",
    "## 1 Описание проекта.\n",
    "\n",
    "**Общая информация о заказчике и данных:** Заказчик — кредитный отдел банка. \n",
    "\n",
    "Входные данные от банка — статистика о платёжеспособности клиентов.\n",
    
    "**Цель проекта** — Нужно разобраться, влияет ли семейное положение и количество детей клиента на факт погашения кредита в срок. \n", 
    "Результаты исследования будут учтены при построении модели кредитного скоринга — специальной системы, которая оценивает способность потенциального заёмщика вернуть кредит банку.\n",
    "\n",
    "\n",
    "**Задачи:** Ответить на вопросы: \n",
    "1. Есть ли зависимость между количеством детей и возвратом кредита в срок?\n",
    "2. Есть ли зависимость между семейным положением и возвратом кредита в срок?\n",
    "3. Есть ли зависимость между уровнем дохода и возвратом кредита в срок?\n",
    "4. Как разные цели кредита влияют на его возврат в срок?\n",
    "\n",
    "**План проекта:**\n",
    "1. Описание проекта. \n",
    "2. Загрузка данных и изучение общей информации.\n",
    "3. Предобработка данных.\n",
    "4. Исследование данных.\n",
    "5. Общий вывод."
   ]
  },
  {
   "cell_type": "markdown",
   "id": "06b60c74",
   "metadata": {},
   "source": [
    "## 2 Загрузка данных и изучение общей информации. \n",
    "\n",
    "Импортируем необходимые библиотеки, выведем основную информацию о датафрейме, проверим данные на дубликаты и пропуски. "
   ]
  },
  {
   "cell_type": "code",
   "execution_count": 1,
   "id": "b91d5367",
   "metadata": {},
   "outputs": [],
   "source": [
    "# Импортируем необходимые библиотеки.\n",
    "\n",
    "import pandas as pd"
   ]
  },
  {
   "cell_type": "code",
   "execution_count": 2,
   "id": "06aadd1e",
   "metadata": {},
   "outputs": [],
   "source": [
    "try:\n",
    "    data = pd.read_csv('/datasets/data.csv') # прочитаем файл и сохраним результат в датафрейме data\n",
    "except:\n",
    "    data = pd.read_csv('https://code.s3.yandex.net/datasets/data.csv')"
   ]
  },
  {
   "cell_type": "code",
   "execution_count": 3,
   "id": "aae8d116",
   "metadata": {},
   "outputs": [
    {
     "data": {
      "text/html": [
       "<div>\n",
       "<style scoped>\n",
       "    .dataframe tbody tr th:only-of-type {\n",
       "        vertical-align: middle;\n",
       "    }\n",
       "\n",
       "    .dataframe tbody tr th {\n",
       "        vertical-align: top;\n",
       "    }\n",
       "\n",
       "    .dataframe thead th {\n",
       "        text-align: right;\n",
       "    }\n",
       "</style>\n",
       "<table border=\"1\" class=\"dataframe\">\n",
       "  <thead>\n",
       "    <tr style=\"text-align: right;\">\n",
       "      <th></th>\n",
       "      <th>children</th>\n",
       "      <th>days_employed</th>\n",
       "      <th>dob_years</th>\n",
       "      <th>education</th>\n",
       "      <th>education_id</th>\n",
       "      <th>family_status</th>\n",
       "      <th>family_status_id</th>\n",
       "      <th>gender</th>\n",
       "      <th>income_type</th>\n",
       "      <th>debt</th>\n",
       "      <th>total_income</th>\n",
       "      <th>purpose</th>\n",
       "    </tr>\n",
       "  </thead>\n",
       "  <tbody>\n",
       "    <tr>\n",
       "      <th>0</th>\n",
       "      <td>1</td>\n",
       "      <td>-8437.673028</td>\n",
       "      <td>42</td>\n",
       "      <td>высшее</td>\n",
       "      <td>0</td>\n",
       "      <td>женат / замужем</td>\n",
       "      <td>0</td>\n",
       "      <td>F</td>\n",
       "      <td>сотрудник</td>\n",
       "      <td>0</td>\n",
       "      <td>253875.639453</td>\n",
       "      <td>покупка жилья</td>\n",
       "    </tr>\n",
       "    <tr>\n",
       "      <th>1</th>\n",
       "      <td>1</td>\n",
       "      <td>-4024.803754</td>\n",
       "      <td>36</td>\n",
       "      <td>среднее</td>\n",
       "      <td>1</td>\n",
       "      <td>женат / замужем</td>\n",
       "      <td>0</td>\n",
       "      <td>F</td>\n",
       "      <td>сотрудник</td>\n",
       "      <td>0</td>\n",
       "      <td>112080.014102</td>\n",
       "      <td>приобретение автомобиля</td>\n",
       "    </tr>\n",
       "    <tr>\n",
       "      <th>2</th>\n",
       "      <td>0</td>\n",
       "      <td>-5623.422610</td>\n",
       "      <td>33</td>\n",
       "      <td>Среднее</td>\n",
       "      <td>1</td>\n",
       "      <td>женат / замужем</td>\n",
       "      <td>0</td>\n",
       "      <td>M</td>\n",
       "      <td>сотрудник</td>\n",
       "      <td>0</td>\n",
       "      <td>145885.952297</td>\n",
       "      <td>покупка жилья</td>\n",
       "    </tr>\n",
       "    <tr>\n",
       "      <th>3</th>\n",
       "      <td>3</td>\n",
       "      <td>-4124.747207</td>\n",
       "      <td>32</td>\n",
       "      <td>среднее</td>\n",
       "      <td>1</td>\n",
       "      <td>женат / замужем</td>\n",
       "      <td>0</td>\n",
       "      <td>M</td>\n",
       "      <td>сотрудник</td>\n",
       "      <td>0</td>\n",
       "      <td>267628.550329</td>\n",
       "      <td>дополнительное образование</td>\n",
       "    </tr>\n",
       "    <tr>\n",
       "      <th>4</th>\n",
       "      <td>0</td>\n",
       "      <td>340266.072047</td>\n",
       "      <td>53</td>\n",
       "      <td>среднее</td>\n",
       "      <td>1</td>\n",
       "      <td>гражданский брак</td>\n",
       "      <td>1</td>\n",
       "      <td>F</td>\n",
       "      <td>пенсионер</td>\n",
       "      <td>0</td>\n",
       "      <td>158616.077870</td>\n",
       "      <td>сыграть свадьбу</td>\n",
       "    </tr>\n",
       "    <tr>\n",
       "      <th>5</th>\n",
       "      <td>0</td>\n",
       "      <td>-926.185831</td>\n",
       "      <td>27</td>\n",
       "      <td>высшее</td>\n",
       "      <td>0</td>\n",
       "      <td>гражданский брак</td>\n",
       "      <td>1</td>\n",
       "      <td>M</td>\n",
       "      <td>компаньон</td>\n",
       "      <td>0</td>\n",
       "      <td>255763.565419</td>\n",
       "      <td>покупка жилья</td>\n",
       "    </tr>\n",
       "    <tr>\n",
       "      <th>6</th>\n",
       "      <td>0</td>\n",
       "      <td>-2879.202052</td>\n",
       "      <td>43</td>\n",
       "      <td>высшее</td>\n",
       "      <td>0</td>\n",
       "      <td>женат / замужем</td>\n",
       "      <td>0</td>\n",
       "      <td>F</td>\n",
       "      <td>компаньон</td>\n",
       "      <td>0</td>\n",
       "      <td>240525.971920</td>\n",
       "      <td>операции с жильем</td>\n",
       "    </tr>\n",
       "    <tr>\n",
       "      <th>7</th>\n",
       "      <td>0</td>\n",
       "      <td>-152.779569</td>\n",
       "      <td>50</td>\n",
       "      <td>СРЕДНЕЕ</td>\n",
       "      <td>1</td>\n",
       "      <td>женат / замужем</td>\n",
       "      <td>0</td>\n",
       "      <td>M</td>\n",
       "      <td>сотрудник</td>\n",
       "      <td>0</td>\n",
       "      <td>135823.934197</td>\n",
       "      <td>образование</td>\n",
       "    </tr>\n",
       "    <tr>\n",
       "      <th>8</th>\n",
       "      <td>2</td>\n",
       "      <td>-6929.865299</td>\n",
       "      <td>35</td>\n",
       "      <td>ВЫСШЕЕ</td>\n",
       "      <td>0</td>\n",
       "      <td>гражданский брак</td>\n",
       "      <td>1</td>\n",
       "      <td>F</td>\n",
       "      <td>сотрудник</td>\n",
       "      <td>0</td>\n",
       "      <td>95856.832424</td>\n",
       "      <td>на проведение свадьбы</td>\n",
       "    </tr>\n",
       "    <tr>\n",
       "      <th>9</th>\n",
       "      <td>0</td>\n",
       "      <td>-2188.756445</td>\n",
       "      <td>41</td>\n",
       "      <td>среднее</td>\n",
       "      <td>1</td>\n",
       "      <td>женат / замужем</td>\n",
       "      <td>0</td>\n",
       "      <td>M</td>\n",
       "      <td>сотрудник</td>\n",
       "      <td>0</td>\n",
       "      <td>144425.938277</td>\n",
       "      <td>покупка жилья для семьи</td>\n",
       "    </tr>\n",
       "  </tbody>\n",
       "</table>\n",
       "</div>"
      ],
      "text/plain": [
       "   children  days_employed  dob_years education  education_id  \\\n",
       "0         1   -8437.673028         42    высшее             0   \n",
       "1         1   -4024.803754         36   среднее             1   \n",
       "2         0   -5623.422610         33   Среднее             1   \n",
       "3         3   -4124.747207         32   среднее             1   \n",
       "4         0  340266.072047         53   среднее             1   \n",
       "5         0    -926.185831         27    высшее             0   \n",
       "6         0   -2879.202052         43    высшее             0   \n",
       "7         0    -152.779569         50   СРЕДНЕЕ             1   \n",
       "8         2   -6929.865299         35    ВЫСШЕЕ             0   \n",
       "9         0   -2188.756445         41   среднее             1   \n",
       "\n",
       "      family_status  family_status_id gender income_type  debt   total_income  \\\n",
       "0   женат / замужем                 0      F   сотрудник     0  253875.639453   \n",
       "1   женат / замужем                 0      F   сотрудник     0  112080.014102   \n",
       "2   женат / замужем                 0      M   сотрудник     0  145885.952297   \n",
       "3   женат / замужем                 0      M   сотрудник     0  267628.550329   \n",
       "4  гражданский брак                 1      F   пенсионер     0  158616.077870   \n",
       "5  гражданский брак                 1      M   компаньон     0  255763.565419   \n",
       "6   женат / замужем                 0      F   компаньон     0  240525.971920   \n",
       "7   женат / замужем                 0      M   сотрудник     0  135823.934197   \n",
       "8  гражданский брак                 1      F   сотрудник     0   95856.832424   \n",
       "9   женат / замужем                 0      M   сотрудник     0  144425.938277   \n",
       "\n",
       "                      purpose  \n",
       "0               покупка жилья  \n",
       "1     приобретение автомобиля  \n",
       "2               покупка жилья  \n",
       "3  дополнительное образование  \n",
       "4             сыграть свадьбу  \n",
       "5               покупка жилья  \n",
       "6           операции с жильем  \n",
       "7                 образование  \n",
       "8       на проведение свадьбы  \n",
       "9     покупка жилья для семьи  "
      ]
     },
     "execution_count": 3,
     "metadata": {},
     "output_type": "execute_result"
    }
   ],
   "source": [
    "data.head(10) # выведем первые 10 строк таблицы на экран "
   ]
  },
  {
   "cell_type": "markdown",
   "id": "a4452980",
   "metadata": {},
   "source": [
    "Перед нами таблица содержашая 12 столбцов:\n",
    "- `children` — количество детей в семье;\n",
    "- `days_employed` — общий трудовой стаж в днях;\n",
    "- `dob_years` — возраст клиента в годах;\n",
    "- `education` — уровень образования клиента;\n",
    "- `education_id` — идентификатор уровня образования;\n",
    "- `family_status` — семейное положение;\n",
    "- `family_status_id` — идентификатор семейного положения;\n",
    "- `gender` — пол клиента;\n",
    "- `income_type` — тип занятости;\n",
    "- `debt` — имел ли задолженность по возврату кредитов;\n",
    "- `total_income` — ежемесячный доход;\n",
    "- `purpose` — цель получения кредита.\n",
    "\n",
    "Все названия в нижнем змеином регистре, нет необходимости делать изменения. Столбец `days_employed` — общий трудовой стаж в днях, содержит отрицательные значения, нужно устранить эти аномалии. "
   ]
  },
  {
   "cell_type": "code",
   "execution_count": 4,
   "id": "9833ec4c",
   "metadata": {},
   "outputs": [
    {
     "name": "stdout",
     "output_type": "stream",
     "text": [
      "<class 'pandas.core.frame.DataFrame'>\n",
      "RangeIndex: 21525 entries, 0 to 21524\n",
      "Data columns (total 12 columns):\n",
      " #   Column            Non-Null Count  Dtype  \n",
      "---  ------            --------------  -----  \n",
      " 0   children          21525 non-null  int64  \n",
      " 1   days_employed     19351 non-null  float64\n",
      " 2   dob_years         21525 non-null  int64  \n",
      " 3   education         21525 non-null  object \n",
      " 4   education_id      21525 non-null  int64  \n",
      " 5   family_status     21525 non-null  object \n",
      " 6   family_status_id  21525 non-null  int64  \n",
      " 7   gender            21525 non-null  object \n",
      " 8   income_type       21525 non-null  object \n",
      " 9   debt              21525 non-null  int64  \n",
      " 10  total_income      19351 non-null  float64\n",
      " 11  purpose           21525 non-null  object \n",
      "dtypes: float64(2), int64(5), object(5)\n",
      "memory usage: 2.0+ MB\n"
     ]
    }
   ],
   "source": [
    "data.info()  # выведем основную информацию о датафрейме с помощью метода info()"
   ]
  },
  {
   "cell_type": "markdown",
   "id": "dd1ebd3a",
   "metadata": {},
   "source": [
    "Всего 21 525 строк. Столбцы `education`, `family_status`, `gender`, `income_type` и `purpose` имееют тип - **object**, остальные столбцы - числовой. Нужно замените тип данных в столбце `total_income` на целочисленный."
   ]
  },
  {
   "cell_type": "code",
   "execution_count": 23,
   "id": "23f5f4e6",
   "metadata": {},
   "outputs": [
    {
     "name": "stdout",
     "output_type": "stream",
     "text": [
      "Уникальные значения столбца - количество детей в семье: [1 0 3 2 4 5]\n",
      "Уникальные значения столбца - возраст клиента в годах: [42 36 33 32 53 27 43 50 35 41 40 65 54 56 26 48 24 21 57 67 28 63 62 47\n",
      " 34 68 25 31 30 20 49 37 45 61 64 44 52 46 23 38 39 51  0 59 29 60 55 58\n",
      " 71 22 73 66 69 19 72 70 74 75]\n",
      "Уникальные значения столбца - уровень образования клиента: ['высшее' 'среднее' 'Среднее' 'СРЕДНЕЕ' 'ВЫСШЕЕ' 'неоконченное высшее'\n",
      " 'начальное' 'Высшее' 'НЕОКОНЧЕННОЕ ВЫСШЕЕ' 'Неоконченное высшее'\n",
      " 'НАЧАЛЬНОЕ' 'Начальное' 'Ученая степень' 'УЧЕНАЯ СТЕПЕНЬ'\n",
      " 'ученая степень']\n",
      "Уникальные значения столбца - пол клиента: ['F' 'M']\n",
      "Уникальные значения столбца - цель получения кредита: ['покупка жилья' 'приобретение автомобиля' 'дополнительное образование'\n",
      " 'сыграть свадьбу' 'операции с жильем' 'образование'\n",
      " 'на проведение свадьбы' 'покупка жилья для семьи' 'покупка недвижимости'\n",
      " 'покупка коммерческой недвижимости' 'покупка жилой недвижимости'\n",
      " 'строительство собственной недвижимости' 'недвижимость'\n",
      " 'строительство недвижимости' 'на покупку подержанного автомобиля'\n",
      " 'на покупку своего автомобиля' 'операции с коммерческой недвижимостью'\n",
      " 'строительство жилой недвижимости' 'жилье'\n",
      " 'операции со своей недвижимостью' 'автомобили' 'заняться образованием'\n",
      " 'сделка с подержанным автомобилем' 'получение образования' 'автомобиль'\n",
      " 'свадьба' 'получение дополнительного образования' 'покупка своего жилья'\n",
      " 'операции с недвижимостью' 'получение высшего образования'\n",
      " 'свой автомобиль' 'сделка с автомобилем' 'профильное образование'\n",
      " 'высшее образование' 'покупка жилья для сдачи' 'на покупку автомобиля'\n",
      " 'ремонт жилью' 'заняться высшим образованием']\n"
     ]
    }
   ],
   "source": [
    "print(f\"Уникальные значения столбца - количество детей в семье: {data['children'].unique()}\")\n",
    "print(f\"Уникальные значения столбца - возраст клиента в годах: {data['dob_years'].unique()}\")\n",
    "print(f\"Уникальные значения столбца - уровень образования клиента: {data['education'].unique()}\")\n",
    "print(f\"Уникальные значения столбца - пол клиента: {data['gender'].unique()}\")\n",
    "print(f\"Уникальные значения столбца - цель получения кредита: {data['purpose'].unique()}\")"
   ]
  },
  {
   "cell_type": "markdown",
   "id": "7329528a",
   "metadata": {},
   "source": [
    "- В столбце `children` есть два аномальных значения (-1 и 20). Нужно удалите строки, в которых встречаются такие аномальные значения из датафрейма data.\n",
    "\n",
    "- В столбце `education` есть одни и те же значения, но записанные по-разному: с использованием заглавных и строчных букв - нужно их привести к нижнему регистру.\n",
    "\n",
    "- В столбце `gender` есть непонятное значение - `XNA`, посмотрим сколько таких значений в данных. "
   ]
  },
  {
   "cell_type": "code",
   "execution_count": 8,
   "id": "35b367b4",
   "metadata": {},
   "outputs": [
    {
     "data": {
      "text/html": [
       "<div>\n",
       "<style scoped>\n",
       "    .dataframe tbody tr th:only-of-type {\n",
       "        vertical-align: middle;\n",
       "    }\n",
       "\n",
       "    .dataframe tbody tr th {\n",
       "        vertical-align: top;\n",
       "    }\n",
       "\n",
       "    .dataframe thead th {\n",
       "        text-align: right;\n",
       "    }\n",
       "</style>\n",
       "<table border=\"1\" class=\"dataframe\">\n",
       "  <thead>\n",
       "    <tr style=\"text-align: right;\">\n",
       "      <th></th>\n",
       "      <th>children</th>\n",
       "      <th>days_employed</th>\n",
       "      <th>dob_years</th>\n",
       "      <th>education</th>\n",
       "      <th>education_id</th>\n",
       "      <th>family_status</th>\n",
       "      <th>family_status_id</th>\n",
       "      <th>gender</th>\n",
       "      <th>income_type</th>\n",
       "      <th>debt</th>\n",
       "      <th>total_income</th>\n",
       "      <th>purpose</th>\n",
       "    </tr>\n",
       "  </thead>\n",
       "  <tbody>\n",
       "    <tr>\n",
       "      <th>10701</th>\n",
       "      <td>0</td>\n",
       "      <td>-2358.600502</td>\n",
       "      <td>24</td>\n",
       "      <td>неоконченное высшее</td>\n",
       "      <td>2</td>\n",
       "      <td>гражданский брак</td>\n",
       "      <td>1</td>\n",
       "      <td>XNA</td>\n",
       "      <td>компаньон</td>\n",
       "      <td>0</td>\n",
       "      <td>203905.157261</td>\n",
       "      <td>покупка недвижимости</td>\n",
       "    </tr>\n",
       "  </tbody>\n",
       "</table>\n",
       "</div>"
      ],
      "text/plain": [
       "       children  days_employed  dob_years            education  education_id  \\\n",
       "10701         0   -2358.600502         24  неоконченное высшее             2   \n",
       "\n",
       "          family_status  family_status_id gender income_type  debt  \\\n",
       "10701  гражданский брак                 1    XNA   компаньон     0   \n",
       "\n",
       "        total_income               purpose  \n",
       "10701  203905.157261  покупка недвижимости  "
      ]
     },
     "execution_count": 8,
     "metadata": {},
     "output_type": "execute_result"
    }
   ],
   "source": [
    "data.query('gender==\"XNA\"') # выведем строки с заданным значением \"XNA\" "
   ]
  },
  {
   "cell_type": "code",
   "execution_count": 15,
   "id": "fda5b87e",
   "metadata": {},
   "outputs": [
    {
     "data": {
      "text/plain": [
       "54"
      ]
     },
     "execution_count": 15,
     "metadata": {},
     "output_type": "execute_result"
    }
   ],
   "source": [
    "data.duplicated().sum() # выведем количество дубликатов"
   ]
  },
  {
   "cell_type": "markdown",
   "id": "c7372486",
   "metadata": {},
   "source": [
    "**Вывод:** \n",
    "- Датасет содержит данные о клиентах банка. Всего  21 525 строк и 12 столбцов. Все названия в нижнем змеином регистре, нет необходимости делать изменения. \n",
    "- Нужно замените тип данных в столбце `total_income` на целочисленный и удалите строки, в которых встречаются аномальные значения и дубликаты. \n",
    "- В столбце `education` есть одни и те же значения, но записанные по-разному: с использованием заглавных и строчных букв - нужно их привести к нижнему регистру.\n",
    "- Нужно удалить аномальные значения в столбцах `children`  и `gender` и удалить дубликаты. "
   ]
  },
  {
   "cell_type": "markdown",
   "id": "46c12b80",
   "metadata": {},
   "source": [
    "## 3 Предобработка данных. "
   ]
  },
  {
   "cell_type": "markdown",
   "id": "b1c9cb6a",
   "metadata": {},
   "source": [
    "### 3.1 Обработка аномальных значений. \n",
    "\n",
    "В данных встречаються артефакты (аномалии) — значения, которые не отражают действительность и появились по какой-то ошибке - это отрицательное количество дней трудового стажа в столбце `days_employed`. Заменим все отрицательные значения положительными с помощью метода abs()."
   ]
  },
  {
   "cell_type": "code",
   "execution_count": 10,
   "id": "a5861176",
   "metadata": {},
   "outputs": [],
   "source": [
    "data['days_employed'] = data['days_employed'].abs()"
   ]
  },
  {
   "cell_type": "markdown",
   "id": "dcde9598",
   "metadata": {},
   "source": [
    " Для каждого типа занятости выведем медианное значение трудового стажа `days_employed` в днях."
   ]
  },
  {
   "cell_type": "code",
   "execution_count": 11,
   "id": "fc93263b",
   "metadata": {},
   "outputs": [
    {
     "data": {
      "text/plain": [
       "income_type\n",
       "безработный        366413.652744\n",
       "в декрете            3296.759962\n",
       "госслужащий          2689.368353\n",
       "компаньон            1547.382223\n",
       "пенсионер          365213.306266\n",
       "предприниматель       520.848083\n",
       "сотрудник            1574.202821\n",
       "студент               578.751554\n",
       "Name: days_employed, dtype: float64"
      ]
     },
     "execution_count": 11,
     "metadata": {},
     "output_type": "execute_result"
    }
   ],
   "source": [
    "data.groupby('income_type')['days_employed'].agg('median')"
   ]
  },
  {
   "cell_type": "markdown",
   "id": "47a45119",
   "metadata": {},
   "source": [
    "У двух типов (безработные и пенсионеры) получатся аномально большие значения. Эти данные не понадобится для исследования поэтому оставим их как есть."
   ]
  },
  {
   "cell_type": "markdown",
   "id": "07753ffa",
   "metadata": {},
   "source": [
    "Удалим строки, в которых встречаются аномальные значения."
   ]
  },
  {
   "cell_type": "code",
   "execution_count": 12,
   "id": "90dbc8da",
   "metadata": {},
   "outputs": [],
   "source": [
    "data = data[(data['children'] != -1) & (data['children'] != 20) & (data['gender'] != \"XNA\")]"
   ]
  },
  {
   "cell_type": "markdown",
   "id": "c9296f11",
   "metadata": {},
   "source": [
    "### 3.2 Удаление пропусков."
   ]
  },
  {
   "cell_type": "code",
   "execution_count": 13,
   "id": "5110973e",
   "metadata": {},
   "outputs": [
    {
     "data": {
      "text/html": [
       "<style type=\"text/css\">\n",
       "#T_1a4ca_row0_col0, #T_1a4ca_row2_col0, #T_1a4ca_row3_col0, #T_1a4ca_row4_col0, #T_1a4ca_row5_col0, #T_1a4ca_row6_col0, #T_1a4ca_row7_col0, #T_1a4ca_row8_col0, #T_1a4ca_row9_col0, #T_1a4ca_row11_col0 {\n",
       "  background-color: #3b4cc0;\n",
       "  color: #f1f1f1;\n",
       "}\n",
       "#T_1a4ca_row1_col0, #T_1a4ca_row10_col0 {\n",
       "  background-color: #b40426;\n",
       "  color: #f1f1f1;\n",
       "}\n",
       "</style>\n",
       "<table id=\"T_1a4ca\">\n",
       "  <thead>\n",
       "    <tr>\n",
       "      <th class=\"blank level0\" >&nbsp;</th>\n",
       "      <th id=\"T_1a4ca_level0_col0\" class=\"col_heading level0 col0\" >0</th>\n",
       "    </tr>\n",
       "  </thead>\n",
       "  <tbody>\n",
       "    <tr>\n",
       "      <th id=\"T_1a4ca_level0_row0\" class=\"row_heading level0 row0\" >children</th>\n",
       "      <td id=\"T_1a4ca_row0_col0\" class=\"data row0 col0\" >0.000000</td>\n",
       "    </tr>\n",
       "    <tr>\n",
       "      <th id=\"T_1a4ca_level0_row1\" class=\"row_heading level0 row1\" >days_employed</th>\n",
       "      <td id=\"T_1a4ca_row1_col0\" class=\"data row1 col0\" >10.100000</td>\n",
       "    </tr>\n",
       "    <tr>\n",
       "      <th id=\"T_1a4ca_level0_row2\" class=\"row_heading level0 row2\" >dob_years</th>\n",
       "      <td id=\"T_1a4ca_row2_col0\" class=\"data row2 col0\" >0.000000</td>\n",
       "    </tr>\n",
       "    <tr>\n",
       "      <th id=\"T_1a4ca_level0_row3\" class=\"row_heading level0 row3\" >education</th>\n",
       "      <td id=\"T_1a4ca_row3_col0\" class=\"data row3 col0\" >0.000000</td>\n",
       "    </tr>\n",
       "    <tr>\n",
       "      <th id=\"T_1a4ca_level0_row4\" class=\"row_heading level0 row4\" >education_id</th>\n",
       "      <td id=\"T_1a4ca_row4_col0\" class=\"data row4 col0\" >0.000000</td>\n",
       "    </tr>\n",
       "    <tr>\n",
       "      <th id=\"T_1a4ca_level0_row5\" class=\"row_heading level0 row5\" >family_status</th>\n",
       "      <td id=\"T_1a4ca_row5_col0\" class=\"data row5 col0\" >0.000000</td>\n",
       "    </tr>\n",
       "    <tr>\n",
       "      <th id=\"T_1a4ca_level0_row6\" class=\"row_heading level0 row6\" >family_status_id</th>\n",
       "      <td id=\"T_1a4ca_row6_col0\" class=\"data row6 col0\" >0.000000</td>\n",
       "    </tr>\n",
       "    <tr>\n",
       "      <th id=\"T_1a4ca_level0_row7\" class=\"row_heading level0 row7\" >gender</th>\n",
       "      <td id=\"T_1a4ca_row7_col0\" class=\"data row7 col0\" >0.000000</td>\n",
       "    </tr>\n",
       "    <tr>\n",
       "      <th id=\"T_1a4ca_level0_row8\" class=\"row_heading level0 row8\" >income_type</th>\n",
       "      <td id=\"T_1a4ca_row8_col0\" class=\"data row8 col0\" >0.000000</td>\n",
       "    </tr>\n",
       "    <tr>\n",
       "      <th id=\"T_1a4ca_level0_row9\" class=\"row_heading level0 row9\" >debt</th>\n",
       "      <td id=\"T_1a4ca_row9_col0\" class=\"data row9 col0\" >0.000000</td>\n",
       "    </tr>\n",
       "    <tr>\n",
       "      <th id=\"T_1a4ca_level0_row10\" class=\"row_heading level0 row10\" >total_income</th>\n",
       "      <td id=\"T_1a4ca_row10_col0\" class=\"data row10 col0\" >10.100000</td>\n",
       "    </tr>\n",
       "    <tr>\n",
       "      <th id=\"T_1a4ca_level0_row11\" class=\"row_heading level0 row11\" >purpose</th>\n",
       "      <td id=\"T_1a4ca_row11_col0\" class=\"data row11 col0\" >0.000000</td>\n",
       "    </tr>\n",
       "  </tbody>\n",
       "</table>\n"
      ],
      "text/plain": [
       "<pandas.io.formats.style.Styler at 0x1a7f78f6b20>"
      ]
     },
     "execution_count": 13,
     "metadata": {},
     "output_type": "execute_result"
    }
   ],
   "source": [
    "# найдем процент пропущеных значений в каждом столбце\n",
    "pd.DataFrame(round((data.isna().mean()*100),2)).style.background_gradient('coolwarm')"
   ]
  },
  {
   "cell_type": "markdown",
   "id": "44a15284",
   "metadata": {},
   "source": [
    "В двух столбцах есть пропущенные значения: `total_income` — хранит данные о доходах и `days_employed`— общий трудовой стаж в днях. "
   ]
  },
  {
   "cell_type": "markdown",
   "id": "21e96f38",
   "metadata": {},
   "source": [
    "На сумму дохода сильнее всего влияет тип занятости, поэтому заполнить пропуски в этом столбце нужно медианным значением по каждому типу из столбца `income_type`. Например, у человека с типом занятости сотрудник пропуск в столбце `total_income` должен быть заполнен медианным доходом среди всех записей с тем же типом."
   ]
  },
  {
   "cell_type": "code",
   "execution_count": 14,
   "id": "84214bf9",
   "metadata": {},
   "outputs": [],
   "source": [
    "for t in data['income_type'].unique():\n",
    "    data.loc[(data['income_type'] == t) & (data['total_income'].isna()), 'total_income'] = \\\n",
    "    data.loc[(data['income_type'] == t), 'total_income'].median()"
   ]
  },
  {
   "cell_type": "markdown",
   "id": "79268132",
   "metadata": {},
   "source": [
    "Заполним пропуски в столбце `days_employed` медианными значениями по каждого типа занятости `income_type`."
   ]
  },
  {
   "cell_type": "code",
   "execution_count": 19,
   "id": "f1e8ab51",
   "metadata": {},
   "outputs": [],
   "source": [
    "for t in data['income_type'].unique():\n",
    "    data.loc[(data['income_type'] == t) & (data['days_employed'].isna()), 'days_employed'] = \\\n",
    "    data.loc[(data['income_type'] == t), 'days_employed'].median()"
   ]
  },
  {
   "cell_type": "code",
   "execution_count": 21,
   "id": "0b9a94aa",
   "metadata": {},
   "outputs": [
    {
     "data": {
      "text/plain": [
       "children            0\n",
       "days_employed       0\n",
       "dob_years           0\n",
       "education           0\n",
       "education_id        0\n",
       "family_status       0\n",
       "family_status_id    0\n",
       "gender              0\n",
       "income_type         0\n",
       "debt                0\n",
       "total_income        0\n",
       "purpose             0\n",
       "dtype: int64"
      ]
     },
     "execution_count": 21,
     "metadata": {},
     "output_type": "execute_result"
    }
   ],
   "source": [
    "data.isna().sum() # проверим количество пропущенных значений для каждого столбца"
   ]
  },
  {
   "cell_type": "markdown",
   "id": "ca3af625",
   "metadata": {},
   "source": [
    "### 3.3 Изменение типов данных.\n",
    "\n",
    "Замените тип данных в столбце `total_income` на целочисленный с помощью метода astype()."
   ]
  },
  {
   "cell_type": "code",
   "execution_count": 22,
   "id": "dd3b3c8f",
   "metadata": {},
   "outputs": [],
   "source": [
    "data['total_income'] = data['total_income'].astype(int)"
   ]
  },
  {
   "cell_type": "markdown",
   "id": "b7c11e08",
   "metadata": {},
   "source": [
    "### 3.4 Обработка дубликатов."
   ]
  },
  {
   "cell_type": "code",
   "execution_count": 24,
   "id": "68bec2e7",
   "metadata": {},
   "outputs": [],
   "source": [
    "data['education'] = data['education'].str.lower() # приведем к нижнему регистру значения столбца education"
   ]
  },
  {
   "cell_type": "code",
   "execution_count": 26,
   "id": "9c53f2e2",
   "metadata": {},
   "outputs": [],
   "source": [
    "data = data.drop_duplicates()  # удалим дубликаты "
   ]
  },
  {
   "cell_type": "markdown",
   "id": "a4c87761",
   "metadata": {},
   "source": [
    "### 3.5 Категоризация данных. \n",
    "\n",
    "На основании диапазонов, указанных ниже, создаем в датафрейме `data` столбец `total_income_category` с категориями:\n",
    "\n",
    "- 0 – 30 000 — `'E'`;\n",
    "- 30 001 – 50 000 — `'D'`;\n",
    "- 50 001 – 200 000 — `'C'`;\n",
    "- 200 001 – 1 000 000 — `'B'`;\n",
    "- 1 000 001 и выше — `'A'`."
   ]
  },
  {
   "cell_type": "code",
   "execution_count": 28,
   "id": "0aaedf67",
   "metadata": {},
   "outputs": [],
   "source": [
    "def categorize_income(income):\n",
    "    try:\n",
    "        if 0 <= income <= 30000:\n",
    "            return 'E'\n",
    "        elif 30001 <= income <= 50000:\n",
    "            return 'D'\n",
    "        elif 50001 <= income <= 200000:\n",
    "            return 'C'\n",
    "        elif 200001 <= income <= 1000000:\n",
    "            return 'B'\n",
    "        elif income >= 1000001:\n",
    "            return 'A'\n",
    "    except:\n",
    "        pass"
   ]
  },
  {
   "cell_type": "code",
   "execution_count": 29,
   "id": "caa01282",
   "metadata": {},
   "outputs": [],
   "source": [
    "data['total_income_category'] = data['total_income'].apply(categorize_income)"
   ]
  },
  {
   "cell_type": "markdown",
   "id": "3be50e2e",
   "metadata": {},
   "source": [
    "На основании данных из столбца `purpose` сформирует новый столбец `purpose_category`, в который войдут следующие категории:\n",
    "\n",
    "- `'операции с автомобилем'`,\n",
    "- `'операции с недвижимостью'`,\n",
    "- `'проведение свадьбы'`,\n",
    "- `'получение образования'`.\n",
    "\n",
    "Например, если в столбце `purpose` находится подстрока `'на покупку автомобиля'`, то в столбце `purpose_category` должна появиться строка `'операции с автомобилем'`."
   ]
  },
  {
   "cell_type": "code",
   "execution_count": 30,
   "id": "ace679e2",
   "metadata": {},
   "outputs": [],
   "source": [
    "def categorize_purpose(row):\n",
    "    try:\n",
    "        if 'автом' in row:\n",
    "            return 'операции с автомобилем'\n",
    "        elif 'жил' in row or 'недвиж' in row:\n",
    "            return 'операции с недвижимостью'\n",
    "        elif 'свад' in row:\n",
    "            return 'проведение свадьбы'\n",
    "        elif 'образов' in row:\n",
    "            return 'получение образования'\n",
    "    except:\n",
    "        return 'нет категории'"
   ]
  },
  {
   "cell_type": "code",
   "execution_count": 31,
   "id": "3cc6f0f1",
   "metadata": {},
   "outputs": [],
   "source": [
    "data['purpose_category'] = data['purpose'].apply(categorize_purpose)"
   ]
  },
  {
   "cell_type": "code",
   "execution_count": 32,
   "id": "9e3bef54",
   "metadata": {},
   "outputs": [
    {
     "data": {
      "text/html": [
       "<div>\n",
       "<style scoped>\n",
       "    .dataframe tbody tr th:only-of-type {\n",
       "        vertical-align: middle;\n",
       "    }\n",
       "\n",
       "    .dataframe tbody tr th {\n",
       "        vertical-align: top;\n",
       "    }\n",
       "\n",
       "    .dataframe thead th {\n",
       "        text-align: right;\n",
       "    }\n",
       "</style>\n",
       "<table border=\"1\" class=\"dataframe\">\n",
       "  <thead>\n",
       "    <tr style=\"text-align: right;\">\n",
       "      <th></th>\n",
       "      <th>children</th>\n",
       "      <th>days_employed</th>\n",
       "      <th>dob_years</th>\n",
       "      <th>education</th>\n",
       "      <th>education_id</th>\n",
       "      <th>family_status</th>\n",
       "      <th>family_status_id</th>\n",
       "      <th>gender</th>\n",
       "      <th>income_type</th>\n",
       "      <th>debt</th>\n",
       "      <th>total_income</th>\n",
       "      <th>purpose</th>\n",
       "      <th>total_income_category</th>\n",
       "      <th>purpose_category</th>\n",
       "    </tr>\n",
       "  </thead>\n",
       "  <tbody>\n",
       "    <tr>\n",
       "      <th>0</th>\n",
       "      <td>1</td>\n",
       "      <td>8437.673028</td>\n",
       "      <td>42</td>\n",
       "      <td>высшее</td>\n",
       "      <td>0</td>\n",
       "      <td>женат / замужем</td>\n",
       "      <td>0</td>\n",
       "      <td>F</td>\n",
       "      <td>сотрудник</td>\n",
       "      <td>0</td>\n",
       "      <td>253875</td>\n",
       "      <td>покупка жилья</td>\n",
       "      <td>B</td>\n",
       "      <td>операции с недвижимостью</td>\n",
       "    </tr>\n",
       "    <tr>\n",
       "      <th>1</th>\n",
       "      <td>1</td>\n",
       "      <td>4024.803754</td>\n",
       "      <td>36</td>\n",
       "      <td>среднее</td>\n",
       "      <td>1</td>\n",
       "      <td>женат / замужем</td>\n",
       "      <td>0</td>\n",
       "      <td>F</td>\n",
       "      <td>сотрудник</td>\n",
       "      <td>0</td>\n",
       "      <td>112080</td>\n",
       "      <td>приобретение автомобиля</td>\n",
       "      <td>C</td>\n",
       "      <td>операции с автомобилем</td>\n",
       "    </tr>\n",
       "    <tr>\n",
       "      <th>2</th>\n",
       "      <td>0</td>\n",
       "      <td>5623.422610</td>\n",
       "      <td>33</td>\n",
       "      <td>среднее</td>\n",
       "      <td>1</td>\n",
       "      <td>женат / замужем</td>\n",
       "      <td>0</td>\n",
       "      <td>M</td>\n",
       "      <td>сотрудник</td>\n",
       "      <td>0</td>\n",
       "      <td>145885</td>\n",
       "      <td>покупка жилья</td>\n",
       "      <td>C</td>\n",
       "      <td>операции с недвижимостью</td>\n",
       "    </tr>\n",
       "    <tr>\n",
       "      <th>3</th>\n",
       "      <td>3</td>\n",
       "      <td>4124.747207</td>\n",
       "      <td>32</td>\n",
       "      <td>среднее</td>\n",
       "      <td>1</td>\n",
       "      <td>женат / замужем</td>\n",
       "      <td>0</td>\n",
       "      <td>M</td>\n",
       "      <td>сотрудник</td>\n",
       "      <td>0</td>\n",
       "      <td>267628</td>\n",
       "      <td>дополнительное образование</td>\n",
       "      <td>B</td>\n",
       "      <td>получение образования</td>\n",
       "    </tr>\n",
       "    <tr>\n",
       "      <th>4</th>\n",
       "      <td>0</td>\n",
       "      <td>340266.072047</td>\n",
       "      <td>53</td>\n",
       "      <td>среднее</td>\n",
       "      <td>1</td>\n",
       "      <td>гражданский брак</td>\n",
       "      <td>1</td>\n",
       "      <td>F</td>\n",
       "      <td>пенсионер</td>\n",
       "      <td>0</td>\n",
       "      <td>158616</td>\n",
       "      <td>сыграть свадьбу</td>\n",
       "      <td>C</td>\n",
       "      <td>проведение свадьбы</td>\n",
       "    </tr>\n",
       "    <tr>\n",
       "      <th>5</th>\n",
       "      <td>0</td>\n",
       "      <td>926.185831</td>\n",
       "      <td>27</td>\n",
       "      <td>высшее</td>\n",
       "      <td>0</td>\n",
       "      <td>гражданский брак</td>\n",
       "      <td>1</td>\n",
       "      <td>M</td>\n",
       "      <td>компаньон</td>\n",
       "      <td>0</td>\n",
       "      <td>255763</td>\n",
       "      <td>покупка жилья</td>\n",
       "      <td>B</td>\n",
       "      <td>операции с недвижимостью</td>\n",
       "    </tr>\n",
       "    <tr>\n",
       "      <th>6</th>\n",
       "      <td>0</td>\n",
       "      <td>2879.202052</td>\n",
       "      <td>43</td>\n",
       "      <td>высшее</td>\n",
       "      <td>0</td>\n",
       "      <td>женат / замужем</td>\n",
       "      <td>0</td>\n",
       "      <td>F</td>\n",
       "      <td>компаньон</td>\n",
       "      <td>0</td>\n",
       "      <td>240525</td>\n",
       "      <td>операции с жильем</td>\n",
       "      <td>B</td>\n",
       "      <td>операции с недвижимостью</td>\n",
       "    </tr>\n",
       "    <tr>\n",
       "      <th>7</th>\n",
       "      <td>0</td>\n",
       "      <td>152.779569</td>\n",
       "      <td>50</td>\n",
       "      <td>среднее</td>\n",
       "      <td>1</td>\n",
       "      <td>женат / замужем</td>\n",
       "      <td>0</td>\n",
       "      <td>M</td>\n",
       "      <td>сотрудник</td>\n",
       "      <td>0</td>\n",
       "      <td>135823</td>\n",
       "      <td>образование</td>\n",
       "      <td>C</td>\n",
       "      <td>получение образования</td>\n",
       "    </tr>\n",
       "    <tr>\n",
       "      <th>8</th>\n",
       "      <td>2</td>\n",
       "      <td>6929.865299</td>\n",
       "      <td>35</td>\n",
       "      <td>высшее</td>\n",
       "      <td>0</td>\n",
       "      <td>гражданский брак</td>\n",
       "      <td>1</td>\n",
       "      <td>F</td>\n",
       "      <td>сотрудник</td>\n",
       "      <td>0</td>\n",
       "      <td>95856</td>\n",
       "      <td>на проведение свадьбы</td>\n",
       "      <td>C</td>\n",
       "      <td>проведение свадьбы</td>\n",
       "    </tr>\n",
       "    <tr>\n",
       "      <th>9</th>\n",
       "      <td>0</td>\n",
       "      <td>2188.756445</td>\n",
       "      <td>41</td>\n",
       "      <td>среднее</td>\n",
       "      <td>1</td>\n",
       "      <td>женат / замужем</td>\n",
       "      <td>0</td>\n",
       "      <td>M</td>\n",
       "      <td>сотрудник</td>\n",
       "      <td>0</td>\n",
       "      <td>144425</td>\n",
       "      <td>покупка жилья для семьи</td>\n",
       "      <td>C</td>\n",
       "      <td>операции с недвижимостью</td>\n",
       "    </tr>\n",
       "  </tbody>\n",
       "</table>\n",
       "</div>"
      ],
      "text/plain": [
       "   children  days_employed  dob_years education  education_id  \\\n",
       "0         1    8437.673028         42    высшее             0   \n",
       "1         1    4024.803754         36   среднее             1   \n",
       "2         0    5623.422610         33   среднее             1   \n",
       "3         3    4124.747207         32   среднее             1   \n",
       "4         0  340266.072047         53   среднее             1   \n",
       "5         0     926.185831         27    высшее             0   \n",
       "6         0    2879.202052         43    высшее             0   \n",
       "7         0     152.779569         50   среднее             1   \n",
       "8         2    6929.865299         35    высшее             0   \n",
       "9         0    2188.756445         41   среднее             1   \n",
       "\n",
       "      family_status  family_status_id gender income_type  debt  total_income  \\\n",
       "0   женат / замужем                 0      F   сотрудник     0        253875   \n",
       "1   женат / замужем                 0      F   сотрудник     0        112080   \n",
       "2   женат / замужем                 0      M   сотрудник     0        145885   \n",
       "3   женат / замужем                 0      M   сотрудник     0        267628   \n",
       "4  гражданский брак                 1      F   пенсионер     0        158616   \n",
       "5  гражданский брак                 1      M   компаньон     0        255763   \n",
       "6   женат / замужем                 0      F   компаньон     0        240525   \n",
       "7   женат / замужем                 0      M   сотрудник     0        135823   \n",
       "8  гражданский брак                 1      F   сотрудник     0         95856   \n",
       "9   женат / замужем                 0      M   сотрудник     0        144425   \n",
       "\n",
       "                      purpose total_income_category          purpose_category  \n",
       "0               покупка жилья                     B  операции с недвижимостью  \n",
       "1     приобретение автомобиля                     C    операции с автомобилем  \n",
       "2               покупка жилья                     C  операции с недвижимостью  \n",
       "3  дополнительное образование                     B     получение образования  \n",
       "4             сыграть свадьбу                     C        проведение свадьбы  \n",
       "5               покупка жилья                     B  операции с недвижимостью  \n",
       "6           операции с жильем                     B  операции с недвижимостью  \n",
       "7                 образование                     C     получение образования  \n",
       "8       на проведение свадьбы                     C        проведение свадьбы  \n",
       "9     покупка жилья для семьи                     C  операции с недвижимостью  "
      ]
     },
     "execution_count": 32,
     "metadata": {},
     "output_type": "execute_result"
    }
   ],
   "source": [
    "data.head(10) # выведем 10 строк таблицы после предобработки "
   ]
  },
  {
   "cell_type": "markdown",
   "id": "660673b8",
   "metadata": {},
   "source": [
    "## 4 Исследование данных. "
   ]
  },
  {
   "cell_type": "markdown",
   "id": "84f03fd7",
   "metadata": {},
   "source": [
    "### 4.1 Есть ли зависимость между количеством детей и возвратом кредита в срок? \n",
    "\n",
    "Для этого сгруппируем нужные столбцы. "
   ]
  },
  {
   "cell_type": "code",
   "execution_count": 43,
   "id": "8b5e2ba4",
   "metadata": {},
   "outputs": [
    {
     "data": {
      "text/html": [
       "<style type=\"text/css\">\n",
       "</style>\n",
       "<table id=\"T_a8534\">\n",
       "  <thead>\n",
       "    <tr>\n",
       "      <th class=\"blank level0\" >&nbsp;</th>\n",
       "      <th id=\"T_a8534_level0_col0\" class=\"col_heading level0 col0\" >% невозврата</th>\n",
       "      <th id=\"T_a8534_level0_col1\" class=\"col_heading level0 col1\" >количество заемщиков</th>\n",
       "    </tr>\n",
       "    <tr>\n",
       "      <th class=\"index_name level0\" >children</th>\n",
       "      <th class=\"blank col0\" >&nbsp;</th>\n",
       "      <th class=\"blank col1\" >&nbsp;</th>\n",
       "    </tr>\n",
       "  </thead>\n",
       "  <tbody>\n",
       "    <tr>\n",
       "      <th id=\"T_a8534_level0_row0\" class=\"row_heading level0 row0\" >0</th>\n",
       "      <td id=\"T_a8534_row0_col0\" class=\"data row0 col0\" >0.075444</td>\n",
       "      <td id=\"T_a8534_row0_col1\" class=\"data row0 col1\" >14090</td>\n",
       "    </tr>\n",
       "    <tr>\n",
       "      <th id=\"T_a8534_level0_row1\" class=\"row_heading level0 row1\" >1</th>\n",
       "      <td id=\"T_a8534_row1_col0\" class=\"data row1 col0\" >0.092346</td>\n",
       "      <td id=\"T_a8534_row1_col1\" class=\"data row1 col1\" >4808</td>\n",
       "    </tr>\n",
       "    <tr>\n",
       "      <th id=\"T_a8534_level0_row2\" class=\"row_heading level0 row2\" >2</th>\n",
       "      <td id=\"T_a8534_row2_col0\" class=\"data row2 col0\" >0.094542</td>\n",
       "      <td id=\"T_a8534_row2_col1\" class=\"data row2 col1\" >2052</td>\n",
       "    </tr>\n",
       "    <tr>\n",
       "      <th id=\"T_a8534_level0_row3\" class=\"row_heading level0 row3\" >3</th>\n",
       "      <td id=\"T_a8534_row3_col0\" class=\"data row3 col0\" >0.081818</td>\n",
       "      <td id=\"T_a8534_row3_col1\" class=\"data row3 col1\" >330</td>\n",
       "    </tr>\n",
       "    <tr>\n",
       "      <th id=\"T_a8534_level0_row4\" class=\"row_heading level0 row4\" >4</th>\n",
       "      <td id=\"T_a8534_row4_col0\" class=\"data row4 col0\" >0.097561</td>\n",
       "      <td id=\"T_a8534_row4_col1\" class=\"data row4 col1\" >41</td>\n",
       "    </tr>\n",
       "    <tr>\n",
       "      <th id=\"T_a8534_level0_row5\" class=\"row_heading level0 row5\" >5</th>\n",
       "      <td id=\"T_a8534_row5_col0\" class=\"data row5 col0\" >0.000000</td>\n",
       "      <td id=\"T_a8534_row5_col1\" class=\"data row5 col1\" >9</td>\n",
       "    </tr>\n",
       "  </tbody>\n",
       "</table>\n"
      ],
      "text/plain": [
       "<pandas.io.formats.style.Styler at 0x1a7f5521160>"
      ]
     },
     "execution_count": 43,
     "metadata": {},
     "output_type": "execute_result"
    }
   ],
   "source": [
    "grouped_debt_and_children=data.groupby('children').agg({'debt':['mean','count']})\n",
    "grouped_debt_and_children.columns=['% невозврата','количество заемщиков']\n",
    "grouped_debt_and_children.style.format({'%невозврата':'{:.2%}'})"
   ]
  },
  {
   "cell_type": "markdown",
   "id": "b48a362d",
   "metadata": {},
   "source": [
    "- Наиболее надежные заемщики - заемщики без детей (срядняя доля просрочек - 0,075). \n",
    "- Наименее надежные -  заемщики с детьми, средняя доля просрочки с 1 ребенком - 0,092, с 2 детьми - 0,094. \n",
    "- Показатели средней доли просрочки у заемщиков с тремя, четрымя и 5 детьми - 0,081, 0,097 и 0 соответственно, но тут эти показатели я предлгаю не учитывать, т.к. в выборке их колличество относительно маленькое: 330, 41, 9 соответсвтенно. Против 14091, 4808 и 2052."
   ]
  },
  {
   "cell_type": "markdown",
   "id": "7bad0edb",
   "metadata": {},
   "source": [
    "### 4.2 Есть ли зависимость между семейным положением и возвратом кредита в срок?"
   ]
  },
  {
   "cell_type": "code",
   "execution_count": 45,
   "id": "90e3706f",
   "metadata": {},
   "outputs": [
    {
     "data": {
      "text/html": [
       "<style type=\"text/css\">\n",
       "</style>\n",
       "<table id=\"T_6c16f\">\n",
       "  <thead>\n",
       "    <tr>\n",
       "      <th class=\"blank level0\" >&nbsp;</th>\n",
       "      <th id=\"T_6c16f_level0_col0\" class=\"col_heading level0 col0\" >% невозврата</th>\n",
       "      <th id=\"T_6c16f_level0_col1\" class=\"col_heading level0 col1\" >количество заемщиков</th>\n",
       "    </tr>\n",
       "    <tr>\n",
       "      <th class=\"index_name level0\" >family_status</th>\n",
       "      <th class=\"blank col0\" >&nbsp;</th>\n",
       "      <th class=\"blank col1\" >&nbsp;</th>\n",
       "    </tr>\n",
       "  </thead>\n",
       "  <tbody>\n",
       "    <tr>\n",
       "      <th id=\"T_6c16f_level0_row0\" class=\"row_heading level0 row0\" >Не женат / не замужем</th>\n",
       "      <td id=\"T_6c16f_row0_col0\" class=\"data row0 col0\" >0.097639</td>\n",
       "      <td id=\"T_6c16f_row0_col1\" class=\"data row0 col1\" >2796</td>\n",
       "    </tr>\n",
       "    <tr>\n",
       "      <th id=\"T_6c16f_level0_row1\" class=\"row_heading level0 row1\" >в разводе</th>\n",
       "      <td id=\"T_6c16f_row1_col0\" class=\"data row1 col0\" >0.070648</td>\n",
       "      <td id=\"T_6c16f_row1_col1\" class=\"data row1 col1\" >1189</td>\n",
       "    </tr>\n",
       "    <tr>\n",
       "      <th id=\"T_6c16f_level0_row2\" class=\"row_heading level0 row2\" >вдовец / вдова</th>\n",
       "      <td id=\"T_6c16f_row2_col0\" class=\"data row2 col0\" >0.066246</td>\n",
       "      <td id=\"T_6c16f_row2_col1\" class=\"data row2 col1\" >951</td>\n",
       "    </tr>\n",
       "    <tr>\n",
       "      <th id=\"T_6c16f_level0_row3\" class=\"row_heading level0 row3\" >гражданский брак</th>\n",
       "      <td id=\"T_6c16f_row3_col0\" class=\"data row3 col0\" >0.093153</td>\n",
       "      <td id=\"T_6c16f_row3_col1\" class=\"data row3 col1\" >4133</td>\n",
       "    </tr>\n",
       "    <tr>\n",
       "      <th id=\"T_6c16f_level0_row4\" class=\"row_heading level0 row4\" >женат / замужем</th>\n",
       "      <td id=\"T_6c16f_row4_col0\" class=\"data row4 col0\" >0.075606</td>\n",
       "      <td id=\"T_6c16f_row4_col1\" class=\"data row4 col1\" >12261</td>\n",
       "    </tr>\n",
       "  </tbody>\n",
       "</table>\n"
      ],
      "text/plain": [
       "<pandas.io.formats.style.Styler at 0x1a7f7918160>"
      ]
     },
     "execution_count": 45,
     "metadata": {},
     "output_type": "execute_result"
    }
   ],
   "source": [
    "grouped_debt_and_family = data.groupby('family_status').agg({'debt':['mean','count']})\n",
    "grouped_debt_and_family.columns=['% невозврата','количество заемщиков']\n",
    "grouped_debt_and_family.style.format({'%невозврата':'{:.2%}'})"
   ]
  },
  {
   "cell_type": "markdown",
   "id": "3a50e79a",
   "metadata": {},
   "source": [
    "Наименьшая доля просрочек (0,066) с семейным статусом - вдовец/вдова, ближе к ним люди в разводе (0,070) и женатые/ замужние (0,075). Для банка наиболее надежные заемщики, те кто хоть раз был женат/замужем. Наиболяя доля просрочек (0,097) у не женатых и не замужних."
   ]
  },
  {
   "cell_type": "markdown",
   "id": "a711502e",
   "metadata": {},
   "source": [
    "### 4.3 Есть ли зависимость между уровнем дохода и возвратом кредита в срок?"
   ]
  },
  {
   "cell_type": "code",
   "execution_count": 46,
   "id": "49321a5b",
   "metadata": {},
   "outputs": [
    {
     "data": {
      "text/html": [
       "<style type=\"text/css\">\n",
       "</style>\n",
       "<table id=\"T_83b25\">\n",
       "  <thead>\n",
       "    <tr>\n",
       "      <th class=\"blank level0\" >&nbsp;</th>\n",
       "      <th id=\"T_83b25_level0_col0\" class=\"col_heading level0 col0\" >% невозврата</th>\n",
       "      <th id=\"T_83b25_level0_col1\" class=\"col_heading level0 col1\" >количество заемщиков</th>\n",
       "    </tr>\n",
       "    <tr>\n",
       "      <th class=\"index_name level0\" >total_income_category</th>\n",
       "      <th class=\"blank col0\" >&nbsp;</th>\n",
       "      <th class=\"blank col1\" >&nbsp;</th>\n",
       "    </tr>\n",
       "  </thead>\n",
       "  <tbody>\n",
       "    <tr>\n",
       "      <th id=\"T_83b25_level0_row0\" class=\"row_heading level0 row0\" >A</th>\n",
       "      <td id=\"T_83b25_row0_col0\" class=\"data row0 col0\" >0.080000</td>\n",
       "      <td id=\"T_83b25_row0_col1\" class=\"data row0 col1\" >25</td>\n",
       "    </tr>\n",
       "    <tr>\n",
       "      <th id=\"T_83b25_level0_row1\" class=\"row_heading level0 row1\" >B</th>\n",
       "      <td id=\"T_83b25_row1_col0\" class=\"data row1 col0\" >0.070616</td>\n",
       "      <td id=\"T_83b25_row1_col1\" class=\"data row1 col1\" >5013</td>\n",
       "    </tr>\n",
       "    <tr>\n",
       "      <th id=\"T_83b25_level0_row2\" class=\"row_heading level0 row2\" >C</th>\n",
       "      <td id=\"T_83b25_row2_col0\" class=\"data row2 col0\" >0.084982</td>\n",
       "      <td id=\"T_83b25_row2_col1\" class=\"data row2 col1\" >15921</td>\n",
       "    </tr>\n",
       "    <tr>\n",
       "      <th id=\"T_83b25_level0_row3\" class=\"row_heading level0 row3\" >D</th>\n",
       "      <td id=\"T_83b25_row3_col0\" class=\"data row3 col0\" >0.060172</td>\n",
       "      <td id=\"T_83b25_row3_col1\" class=\"data row3 col1\" >349</td>\n",
       "    </tr>\n",
       "    <tr>\n",
       "      <th id=\"T_83b25_level0_row4\" class=\"row_heading level0 row4\" >E</th>\n",
       "      <td id=\"T_83b25_row4_col0\" class=\"data row4 col0\" >0.090909</td>\n",
       "      <td id=\"T_83b25_row4_col1\" class=\"data row4 col1\" >22</td>\n",
       "    </tr>\n",
       "  </tbody>\n",
       "</table>\n"
      ],
      "text/plain": [
       "<pandas.io.formats.style.Styler at 0x1a7f979abb0>"
      ]
     },
     "execution_count": 46,
     "metadata": {},
     "output_type": "execute_result"
    }
   ],
   "source": [
    "grouped_debt_and_category = data.groupby('total_income_category').agg({'debt':['mean','count']})\n",
    "grouped_debt_and_category.columns=['% невозврата','количество заемщиков']\n",
    "grouped_debt_and_category.style.format({'%невозврата':'{:.2%}'})"
   ]
  },
  {
   "cell_type": "markdown",
   "id": "35004074",
   "metadata": {},
   "source": [
    "- Наиболее надежные заемщики для банка (доля просрочек 0,060) - заемщики из категории D (уровень дохода 30 001–50 000).\n",
    "- Наименее надежные заемщики для банка (доля просрочек 0,090) - заемщики из категории Е (уровень дохода 0–30 000),  но по этим категориям выборка маленькая - 349 и 22 соответственно, поэтому рекомендую провести дополнительное исследование с большеми данными, это же косается для категории А (от 1 000 001), всего 25 случаев. \n",
    "- Среди категорий С (50 001–200 000) и В (200 001–1 000 000) наиболее надженые заемщики в категории B - доля 0,070. В категрии C - 0,084."
   ]
  },
  {
   "cell_type": "markdown",
   "id": "68ef1c26",
   "metadata": {},
   "source": [
    "### 4.4 Как разные цели кредита влияют на его возврат в срок?"
   ]
  },
  {
   "cell_type": "code",
   "execution_count": 48,
   "id": "73840b5f",
   "metadata": {},
   "outputs": [
    {
     "data": {
      "text/html": [
       "<style type=\"text/css\">\n",
       "</style>\n",
       "<table id=\"T_23fa6\">\n",
       "  <thead>\n",
       "    <tr>\n",
       "      <th class=\"blank level0\" >&nbsp;</th>\n",
       "      <th id=\"T_23fa6_level0_col0\" class=\"col_heading level0 col0\" >% невозврата</th>\n",
       "      <th id=\"T_23fa6_level0_col1\" class=\"col_heading level0 col1\" >количество заемщиков</th>\n",
       "    </tr>\n",
       "    <tr>\n",
       "      <th class=\"index_name level0\" >purpose_category</th>\n",
       "      <th class=\"blank col0\" >&nbsp;</th>\n",
       "      <th class=\"blank col1\" >&nbsp;</th>\n",
       "    </tr>\n",
       "  </thead>\n",
       "  <tbody>\n",
       "    <tr>\n",
       "      <th id=\"T_23fa6_level0_row0\" class=\"row_heading level0 row0\" >операции с автомобилем</th>\n",
       "      <td id=\"T_23fa6_row0_col0\" class=\"data row0 col0\" >0.093480</td>\n",
       "      <td id=\"T_23fa6_row0_col1\" class=\"data row0 col1\" >4279</td>\n",
       "    </tr>\n",
       "    <tr>\n",
       "      <th id=\"T_23fa6_level0_row1\" class=\"row_heading level0 row1\" >операции с недвижимостью</th>\n",
       "      <td id=\"T_23fa6_row1_col0\" class=\"data row1 col0\" >0.072558</td>\n",
       "      <td id=\"T_23fa6_row1_col1\" class=\"data row1 col1\" >10750</td>\n",
       "    </tr>\n",
       "    <tr>\n",
       "      <th id=\"T_23fa6_level0_row2\" class=\"row_heading level0 row2\" >получение образования</th>\n",
       "      <td id=\"T_23fa6_row2_col0\" class=\"data row2 col0\" >0.092528</td>\n",
       "      <td id=\"T_23fa6_row2_col1\" class=\"data row2 col1\" >3988</td>\n",
       "    </tr>\n",
       "    <tr>\n",
       "      <th id=\"T_23fa6_level0_row3\" class=\"row_heading level0 row3\" >проведение свадьбы</th>\n",
       "      <td id=\"T_23fa6_row3_col0\" class=\"data row3 col0\" >0.079118</td>\n",
       "      <td id=\"T_23fa6_row3_col1\" class=\"data row3 col1\" >2313</td>\n",
       "    </tr>\n",
       "  </tbody>\n",
       "</table>\n"
      ],
      "text/plain": [
       "<pandas.io.formats.style.Styler at 0x1a7f9a5b2e0>"
      ]
     },
     "execution_count": 48,
     "metadata": {},
     "output_type": "execute_result"
    }
   ],
   "source": [
    "grouped_debt_and_purpose = data.groupby('purpose_category').agg({'debt':['mean','count']})\n",
    "grouped_debt_and_purpose.columns=['% невозврата','количество заемщиков']\n",
    "grouped_debt_and_purpose.style.format({'%невозврата':'{:.2%}'})"
   ]
  },
  {
   "cell_type": "markdown",
   "id": "72fadca4",
   "metadata": {},
   "source": [
    "Наиболее надежные заемщики для банка - люди, которые берут кредиты с целью соверщения операций с недвижимостью (доля просрочек 0,072) и для проведения свадьбы (0,092). Наименее надежные замещики - те, кто берут кредиты на оперции связанные с автомобилями (0,093) и для получения оброзования (0,092)."
   ]
  },
  {
   "cell_type": "markdown",
   "id": "f27ab781",
   "metadata": {},
   "source": [
    "## 5 Общий вывод. \n",
    "\n",
    "Было проведено исследование, чтобы выявить влияние разных факторов на факт погашения кредита в срок. Входные данные - статистика о платежеспособности клиентов. Результаты исследования будут учтены при построение модели кредитного скоринга - специальной системы, которая оценивает способность потенциального заемщика вернуть кредит банку.\n",
    "\n",
    "Перед проведением исследования были поставлены несколько гипотез:\n",
    "\n",
    "1. Есть ли зависимость между количеством детей и возвратом кредита в срок?\n",
    "2. Есть ли зависимость между семейным положением и возвратом кредита в срок?\n",
    "3. Есть ли зависимость между уровнем дохода и возвратом кредита в срок?\n",
    "4. Как разные цели кредита влияют на его возврат в срок?\n",
    "\n",
    "**В результате удалось выявить зависимости:**\n",
    "\n",
    "**1. Гипотеза 1 частично подтверждена** - для более точных выводов необходимо больше данных по клиентам с 3,4,5 детьми. \n",
    "- Доля просрочек у заемщиков без детей - 0,075. \n",
    "- Доля просрочек у заемщиков с 1 ребенком - 0,092. \n",
    "- Доля просрочек у заемщиков с 2 детьми - 0,094.\n",
    "\n",
    "Рекомендация: провести дополнительное исследование на большей выборке данных.\n",
    "\n",
    "**2. Гипотеза 2 подтверждена.**\n",
    "- Наименьшая доля просрочек (0,066) с семейным статусом - вдовец/вдова, ближе к ним люди в разводе (0,070) и женатые/ замужние (0,075). Для банка наиболее надежные заемщики, те кто хоть раз был женат/замужем. Наиболяя доля просрочек (0,097) у не женатых и не замужних.\n",
    "\n",
    "**3. Гипотеза 3 частично подтвержена** - для более точных выводов необходимо больше данных по клиентам с уровнем дохода категории D (от 30 001 до 50 000), А (от 1 000 001), Е (до 30 000).\n",
    "\n",
    "- Среди категорий С (50 001–200 000) и В (200 001–1 000 000) наиболее надженые заемщики в категории B - доля 0,070. В категрии C - 0,084.\n",
    "\n",
    "Рекомендация: провести дополнительное исследование на большей выборке данных.\n",
    "\n",
    "**4. Гипотеза 4 подтверждена.** \n",
    "- Наиболее надежные заемщики для банка - люди, которые берут кредиты с целью соверщения операций с недвижимостью (доля просрочек 0,072) и для проведения свадьбы (0,092). \n",
    "- Наименее надежные замещики - те, кто берут кредиты на оперции связанные с автомобилями (0,093) и для получения оброзования (0,092).\n",
    "\n",
    "**Общие рекомендации:**\n",
    "\n",
    "Можно использовать зависимости из второй и четвертой гипотезы (семейное положение и цели кредита). Необходимо собрать более полную выборку для повторной проверки первой и третьей гипотез.\n",
    "\n",
    "**Рекомедации кредитному отделу:** \n",
    "\n",
    "1. Если считать, что любая разница между группами есть повод для «разделения» классов, то можно сделал такой вывод: кредитополучатели без детей являются более ответственными, чем клиенты, у которых есть дети. Видимо, наличие ребенка накладывает на клиента дополнительные финансовое бремя (обязательства) и клиенты либо менее ответственно относятся к своим кредитным обязательствам, либо не имеют возможности в срок оплачивать обязательства.\n",
    "\n",
    "\n",
    "2. Кредитному отделу следует с осторожностью относиться к клиентам, которые не состоят или не состояли в браке. Согласно данным такие клиенты менее ответственные. Получается, что узаконенные отношения ведут к более ответственному отношению к своим обязательствам. Ну вроде как совпадает со здравым смыслом - семейные люди более скрупулёзно берегут свой семейное спокойствие и несут за него ответственность.\n",
    "\n",
    "\n",
    "3. Для ответа на вопрос - есть ли зависимость между уровнем дохода и возвратом кредита в срок? мой вывод таков: выборка по заемщикам, как с наименьшим доходом, так и с наибольшим крайне недостаточна для формирования однозначных выводов. Можно думать, что E-категория самая низкооплачиваемая не может корректно распоряжаться деньгами и «влезает» в кредиты, но тогда неясно почему у А-категории также достаточно высокий процент задолженности. В общем вывод по группам неочевиден, мало данных.\n",
    "\n",
    "\n",
    "4. Всё подтверждается и цифрами, и здравым смыслом: Машины люди покупают в кредит гораздо дорогие, нежели могут соответствовать им своим доходом (ну кому не хочется красивую иномарку). А вот рисковать ипотечным жильём люди не хотят. Интересно конечно, что с образованием не так - как правило такие кредиты берут люди мотивированные, имеющие цель впереди, да и суммы таких кредитов судя по рынку онлайн образования не так велики. "
   ]
  }
 ],
 "metadata": {
  "kernelspec": {
   "display_name": "Python 3 (ipykernel)",
   "language": "python",
   "name": "python3"
  },
  "language_info": {
   "codemirror_mode": {
    "name": "ipython",
    "version": 3
   },
   "file_extension": ".py",
   "mimetype": "text/x-python",
   "name": "python",
   "nbconvert_exporter": "python",
   "pygments_lexer": "ipython3",
   "version": "3.9.13"
  }
 },
 "nbformat": 4,
 "nbformat_minor": 5
}
