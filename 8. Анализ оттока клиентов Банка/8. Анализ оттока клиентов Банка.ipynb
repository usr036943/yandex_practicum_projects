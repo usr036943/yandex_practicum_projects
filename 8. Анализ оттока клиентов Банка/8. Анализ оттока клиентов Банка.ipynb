{
 "cells": [
  {
   "cell_type": "markdown",
   "metadata": {},
   "source": [
    "# Проект -  \"Анализ оттока клиентов Банка\"."
   ]
  },
  {
   "cell_type": "markdown",
   "metadata": {},
   "source": [
    "**Материалы:** \n",
    "- Ссылка на дашборд - https://public.tableau.com/app/profile/usr036943/viz/final_project2_16768084185420/Dashboard2 \n",
    "- Ссылка на презентацию - https://disk.yandex.ru/i/BZePBptY_eAnQA"
   ]
  },
  {
   "cell_type": "markdown",
   "metadata": {},
   "source": [
    "## 1 Описание проекта. \n",
    "\n",
    "Опишем общую информацию о заказчике, план проекта и цели.\n",
    "\n",
    "**Общая информация о заказчике:**\n",
    "\n",
    "В одном из лучших банков страны требуются услуги аналитика с уверенным владением Python. Необходимо проанализировать клиентов регионального банка и выделите сегменты клиентов, которые склонны уходить из банка. Сегментация покажет, как клиенты пользуются услугами банка. Данный проект служит для выявления портрета клиентов, которые склонны уходить из банка и для проверки гипотез, и прежде всего для снижения оттока. \n",
    "\n",
    "\n",
    "Датасет содержит данные о клиентах банка. Банк располагается в Ярославле и областных городах: Ростов Великий и Рыбинск.\n",
    "\n",
    "**Задачи:**\n",
    "\n",
    "Проведести исследовательский анализ данных,\n",
    "Выделить портреты клиентов, которые склонны уходить из банка,\n",
    "Сформулировать и проверить статистические гипотезы.\n",
    "\n",
    "**План проекта:**\n",
    "\n",
    "1. Описание проекта.\n",
    "2. Загрузка данных и изучение общей информации.\n",
    "3. Предобработка данных.\n",
    "4. Исследовательский анализ данных.\n",
    "5. Проверка гипотез.\n",
    "6. Общие выводы."
   ]
  },
  {
   "cell_type": "markdown",
   "metadata": {},
   "source": [
    "## 2 Загрузка данных и изучение общей информации. \n",
    "\n",
    "Импортируем необходимые библиотеки, выведем основную информацию о датафрейме, проверим данные на дубликаты и пропуски. "
   ]
  },
  {
   "cell_type": "code",
   "execution_count": 1,
   "metadata": {},
   "outputs": [],
   "source": [
    "# Импортируем необходимые библиотеки.\n",
    "\n",
    "import pandas as pd\n",
    "import numpy as np\n",
    "import seaborn as sns\n",
    "import re\n",
    "pd.set_option('display.max_columns', 0)\n",
    "import matplotlib.pyplot as plt\n",
    "import plotly.express as px\n",
    "import plotly.graph_objects as go\n",
    "from scipy import stats as st \n",
    "import warnings \n",
    "\n",
    "# отключаем предупреждения\n",
    "warnings.filterwarnings('ignore') "
   ]
  },
  {
   "cell_type": "code",
   "execution_count": 2,
   "metadata": {},
   "outputs": [
    {
     "data": {
      "text/html": [
       "<div>\n",
       "<style scoped>\n",
       "    .dataframe tbody tr th:only-of-type {\n",
       "        vertical-align: middle;\n",
       "    }\n",
       "\n",
       "    .dataframe tbody tr th {\n",
       "        vertical-align: top;\n",
       "    }\n",
       "\n",
       "    .dataframe thead th {\n",
       "        text-align: right;\n",
       "    }\n",
       "</style>\n",
       "<table border=\"1\" class=\"dataframe\">\n",
       "  <thead>\n",
       "    <tr style=\"text-align: right;\">\n",
       "      <th></th>\n",
       "      <th>userid</th>\n",
       "      <th>score</th>\n",
       "      <th>City</th>\n",
       "      <th>Gender</th>\n",
       "      <th>Age</th>\n",
       "      <th>Objects</th>\n",
       "      <th>Balance</th>\n",
       "      <th>Products</th>\n",
       "      <th>CreditCard</th>\n",
       "      <th>Loyalty</th>\n",
       "      <th>estimated_salary</th>\n",
       "      <th>Churn</th>\n",
       "    </tr>\n",
       "  </thead>\n",
       "  <tbody>\n",
       "    <tr>\n",
       "      <th>0</th>\n",
       "      <td>15677338</td>\n",
       "      <td>619</td>\n",
       "      <td>Ярославль</td>\n",
       "      <td>Ж</td>\n",
       "      <td>42</td>\n",
       "      <td>2</td>\n",
       "      <td>NaN</td>\n",
       "      <td>1</td>\n",
       "      <td>1</td>\n",
       "      <td>1</td>\n",
       "      <td>101348.88</td>\n",
       "      <td>1</td>\n",
       "    </tr>\n",
       "    <tr>\n",
       "      <th>1</th>\n",
       "      <td>15690047</td>\n",
       "      <td>608</td>\n",
       "      <td>Рыбинск</td>\n",
       "      <td>Ж</td>\n",
       "      <td>41</td>\n",
       "      <td>1</td>\n",
       "      <td>83807.86</td>\n",
       "      <td>1</td>\n",
       "      <td>0</td>\n",
       "      <td>1</td>\n",
       "      <td>112542.58</td>\n",
       "      <td>0</td>\n",
       "    </tr>\n",
       "    <tr>\n",
       "      <th>2</th>\n",
       "      <td>15662040</td>\n",
       "      <td>502</td>\n",
       "      <td>Ярославль</td>\n",
       "      <td>Ж</td>\n",
       "      <td>42</td>\n",
       "      <td>8</td>\n",
       "      <td>159660.80</td>\n",
       "      <td>3</td>\n",
       "      <td>1</td>\n",
       "      <td>0</td>\n",
       "      <td>113931.57</td>\n",
       "      <td>1</td>\n",
       "    </tr>\n",
       "    <tr>\n",
       "      <th>3</th>\n",
       "      <td>15744090</td>\n",
       "      <td>699</td>\n",
       "      <td>Ярославль</td>\n",
       "      <td>Ж</td>\n",
       "      <td>39</td>\n",
       "      <td>1</td>\n",
       "      <td>NaN</td>\n",
       "      <td>2</td>\n",
       "      <td>0</td>\n",
       "      <td>0</td>\n",
       "      <td>93826.63</td>\n",
       "      <td>0</td>\n",
       "    </tr>\n",
       "    <tr>\n",
       "      <th>4</th>\n",
       "      <td>15780624</td>\n",
       "      <td>850</td>\n",
       "      <td>Рыбинск</td>\n",
       "      <td>Ж</td>\n",
       "      <td>43</td>\n",
       "      <td>2</td>\n",
       "      <td>125510.82</td>\n",
       "      <td>1</td>\n",
       "      <td>1</td>\n",
       "      <td>1</td>\n",
       "      <td>79084.10</td>\n",
       "      <td>0</td>\n",
       "    </tr>\n",
       "  </tbody>\n",
       "</table>\n",
       "</div>"
      ],
      "text/plain": [
       "     userid  score       City  ... Loyalty  estimated_salary  Churn\n",
       "0  15677338    619  Ярославль  ...       1         101348.88      1\n",
       "1  15690047    608    Рыбинск  ...       1         112542.58      0\n",
       "2  15662040    502  Ярославль  ...       0         113931.57      1\n",
       "3  15744090    699  Ярославль  ...       0          93826.63      0\n",
       "4  15780624    850    Рыбинск  ...       1          79084.10      0\n",
       "\n",
       "[5 rows x 12 columns]"
      ]
     },
     "execution_count": 2,
     "metadata": {},
     "output_type": "execute_result"
    }
   ],
   "source": [
    "df = pd.read_csv('/datasets/bank_dataset.csv') # прочитаем файл с гипотезами и сохраним результат в датафрейме df\n",
    "df.head() # выведем первые 5 строк таблицы на экран "
   ]
  },
  {
   "cell_type": "markdown",
   "metadata": {},
   "source": [
    "Перед нами таблица содержашая 12 столбцов:\n",
    "    \n",
    "- `userid` — идентификатор пользователя,\n",
    "- `score` — баллы кредитного скоринга,\n",
    "- `City` — город,\n",
    "- `Gender` — пол,\n",
    "- `Age` — возраст,\n",
    "- `Objects` — количество объектов в собственности,\n",
    "- `Balance` — баланс на счёте,\n",
    "- `Products` — количество продуктов, которыми пользуется клиент,\n",
    "- `CreditCard` — есть ли кредитная карта,\n",
    "- `Loyalty` — активный клиент,\n",
    "- `estimated_salary` — заработная плата клиента,\n",
    "- `Churn` — ушёл или нет.\n",
    "\n",
    "Необходимо привести названия столбцов к нижнему регистру. "
   ]
  },
  {
   "cell_type": "code",
   "execution_count": 3,
   "metadata": {},
   "outputs": [
    {
     "name": "stdout",
     "output_type": "stream",
     "text": [
      "<class 'pandas.core.frame.DataFrame'>\n",
      "RangeIndex: 10000 entries, 0 to 9999\n",
      "Data columns (total 12 columns):\n",
      " #   Column            Non-Null Count  Dtype  \n",
      "---  ------            --------------  -----  \n",
      " 0   userid            10000 non-null  int64  \n",
      " 1   score             10000 non-null  int64  \n",
      " 2   City              10000 non-null  object \n",
      " 3   Gender            10000 non-null  object \n",
      " 4   Age               10000 non-null  int64  \n",
      " 5   Objects           10000 non-null  int64  \n",
      " 6   Balance           6383 non-null   float64\n",
      " 7   Products          10000 non-null  int64  \n",
      " 8   CreditCard        10000 non-null  int64  \n",
      " 9   Loyalty           10000 non-null  int64  \n",
      " 10  estimated_salary  10000 non-null  float64\n",
      " 11  Churn             10000 non-null  int64  \n",
      "dtypes: float64(2), int64(8), object(2)\n",
      "memory usage: 937.6+ KB\n"
     ]
    }
   ],
   "source": [
    "df.info() # выведем основную информацию о датафрейме с помощью метода info()"
   ]
  },
  {
   "cell_type": "markdown",
   "metadata": {},
   "source": [
    "Всего 10 000 строк. Столбцы `City` и `Gender` имееют тип - object, остальные столбцы - числовой. "
   ]
  },
  {
   "cell_type": "code",
   "execution_count": 4,
   "metadata": {},
   "outputs": [
    {
     "data": {
      "text/plain": [
       "array(['Ярославль', 'Рыбинск', 'Ростов Великий'], dtype=object)"
      ]
     },
     "execution_count": 4,
     "metadata": {},
     "output_type": "execute_result"
    }
   ],
   "source": [
    "df['City'].unique() # выведем уникальные названия городов в столбце City."
   ]
  },
  {
   "cell_type": "markdown",
   "metadata": {},
   "source": [
    "В данных 3 города, что соответствует описанию проекта. "
   ]
  },
  {
   "cell_type": "code",
   "execution_count": 5,
   "metadata": {},
   "outputs": [
    {
     "data": {
      "text/plain": [
       "0"
      ]
     },
     "execution_count": 5,
     "metadata": {},
     "output_type": "execute_result"
    }
   ],
   "source": [
    "df.duplicated().sum() #выведем количество дубликатов"
   ]
  },
  {
   "cell_type": "markdown",
   "metadata": {},
   "source": [
    "В таблице дубликатов нет."
   ]
  },
  {
   "cell_type": "code",
   "execution_count": 6,
   "metadata": {},
   "outputs": [
    {
     "data": {
      "text/plain": [
       "10000"
      ]
     },
     "execution_count": 6,
     "metadata": {},
     "output_type": "execute_result"
    }
   ],
   "source": [
    "df['userid'].nunique() # посмотрим на количество уникальных значений клиентов банка"
   ]
  },
  {
   "cell_type": "markdown",
   "metadata": {},
   "source": [
    "Количество уникальных клиентов сооветствует количеству строк в таблице. "
   ]
  },
  {
   "cell_type": "code",
   "execution_count": 7,
   "metadata": {},
   "outputs": [
    {
     "data": {
      "text/html": [
       "<style  type=\"text/css\" >\n",
       "#T_bb504_row0_col0,#T_bb504_row1_col0,#T_bb504_row2_col0,#T_bb504_row3_col0,#T_bb504_row4_col0,#T_bb504_row5_col0,#T_bb504_row7_col0,#T_bb504_row8_col0,#T_bb504_row9_col0,#T_bb504_row10_col0,#T_bb504_row11_col0{\n",
       "            background-color:  #3b4cc0;\n",
       "            color:  #f1f1f1;\n",
       "        }#T_bb504_row6_col0{\n",
       "            background-color:  #b40426;\n",
       "            color:  #f1f1f1;\n",
       "        }</style><table id=\"T_bb504_\" ><thead>    <tr>        <th class=\"blank level0\" ></th>        <th class=\"col_heading level0 col0\" >0</th>    </tr></thead><tbody>\n",
       "                <tr>\n",
       "                        <th id=\"T_bb504_level0_row0\" class=\"row_heading level0 row0\" >userid</th>\n",
       "                        <td id=\"T_bb504_row0_col0\" class=\"data row0 col0\" >0.000000</td>\n",
       "            </tr>\n",
       "            <tr>\n",
       "                        <th id=\"T_bb504_level0_row1\" class=\"row_heading level0 row1\" >score</th>\n",
       "                        <td id=\"T_bb504_row1_col0\" class=\"data row1 col0\" >0.000000</td>\n",
       "            </tr>\n",
       "            <tr>\n",
       "                        <th id=\"T_bb504_level0_row2\" class=\"row_heading level0 row2\" >City</th>\n",
       "                        <td id=\"T_bb504_row2_col0\" class=\"data row2 col0\" >0.000000</td>\n",
       "            </tr>\n",
       "            <tr>\n",
       "                        <th id=\"T_bb504_level0_row3\" class=\"row_heading level0 row3\" >Gender</th>\n",
       "                        <td id=\"T_bb504_row3_col0\" class=\"data row3 col0\" >0.000000</td>\n",
       "            </tr>\n",
       "            <tr>\n",
       "                        <th id=\"T_bb504_level0_row4\" class=\"row_heading level0 row4\" >Age</th>\n",
       "                        <td id=\"T_bb504_row4_col0\" class=\"data row4 col0\" >0.000000</td>\n",
       "            </tr>\n",
       "            <tr>\n",
       "                        <th id=\"T_bb504_level0_row5\" class=\"row_heading level0 row5\" >Objects</th>\n",
       "                        <td id=\"T_bb504_row5_col0\" class=\"data row5 col0\" >0.000000</td>\n",
       "            </tr>\n",
       "            <tr>\n",
       "                        <th id=\"T_bb504_level0_row6\" class=\"row_heading level0 row6\" >Balance</th>\n",
       "                        <td id=\"T_bb504_row6_col0\" class=\"data row6 col0\" >36.170000</td>\n",
       "            </tr>\n",
       "            <tr>\n",
       "                        <th id=\"T_bb504_level0_row7\" class=\"row_heading level0 row7\" >Products</th>\n",
       "                        <td id=\"T_bb504_row7_col0\" class=\"data row7 col0\" >0.000000</td>\n",
       "            </tr>\n",
       "            <tr>\n",
       "                        <th id=\"T_bb504_level0_row8\" class=\"row_heading level0 row8\" >CreditCard</th>\n",
       "                        <td id=\"T_bb504_row8_col0\" class=\"data row8 col0\" >0.000000</td>\n",
       "            </tr>\n",
       "            <tr>\n",
       "                        <th id=\"T_bb504_level0_row9\" class=\"row_heading level0 row9\" >Loyalty</th>\n",
       "                        <td id=\"T_bb504_row9_col0\" class=\"data row9 col0\" >0.000000</td>\n",
       "            </tr>\n",
       "            <tr>\n",
       "                        <th id=\"T_bb504_level0_row10\" class=\"row_heading level0 row10\" >estimated_salary</th>\n",
       "                        <td id=\"T_bb504_row10_col0\" class=\"data row10 col0\" >0.000000</td>\n",
       "            </tr>\n",
       "            <tr>\n",
       "                        <th id=\"T_bb504_level0_row11\" class=\"row_heading level0 row11\" >Churn</th>\n",
       "                        <td id=\"T_bb504_row11_col0\" class=\"data row11 col0\" >0.000000</td>\n",
       "            </tr>\n",
       "    </tbody></table>"
      ],
      "text/plain": [
       "<pandas.io.formats.style.Styler at 0x7fedfaae15e0>"
      ]
     },
     "execution_count": 7,
     "metadata": {},
     "output_type": "execute_result"
    }
   ],
   "source": [
    "# найдем процент пропущеных значений в каждом столбце\n",
    "pd.DataFrame(round((df.isna().mean()*100),2)).style.background_gradient('coolwarm')"
   ]
  },
  {
   "cell_type": "markdown",
   "metadata": {},
   "source": [
    "Как видим, есть пропуски в столбце `Balance` (36,17%). Число пропусков значимое (более 5%)."
   ]
  },
  {
   "cell_type": "code",
   "execution_count": 8,
   "metadata": {},
   "outputs": [
    {
     "data": {
      "text/html": [
       "<div>\n",
       "<style scoped>\n",
       "    .dataframe tbody tr th:only-of-type {\n",
       "        vertical-align: middle;\n",
       "    }\n",
       "\n",
       "    .dataframe tbody tr th {\n",
       "        vertical-align: top;\n",
       "    }\n",
       "\n",
       "    .dataframe thead th {\n",
       "        text-align: right;\n",
       "    }\n",
       "</style>\n",
       "<table border=\"1\" class=\"dataframe\">\n",
       "  <thead>\n",
       "    <tr style=\"text-align: right;\">\n",
       "      <th></th>\n",
       "      <th>userid</th>\n",
       "      <th>score</th>\n",
       "      <th>City</th>\n",
       "      <th>Gender</th>\n",
       "      <th>Age</th>\n",
       "      <th>Objects</th>\n",
       "      <th>Balance</th>\n",
       "      <th>Products</th>\n",
       "      <th>CreditCard</th>\n",
       "      <th>Loyalty</th>\n",
       "      <th>estimated_salary</th>\n",
       "      <th>Churn</th>\n",
       "    </tr>\n",
       "  </thead>\n",
       "  <tbody>\n",
       "    <tr>\n",
       "      <th>0</th>\n",
       "      <td>15677338</td>\n",
       "      <td>619</td>\n",
       "      <td>Ярославль</td>\n",
       "      <td>Ж</td>\n",
       "      <td>42</td>\n",
       "      <td>2</td>\n",
       "      <td>NaN</td>\n",
       "      <td>1</td>\n",
       "      <td>1</td>\n",
       "      <td>1</td>\n",
       "      <td>101348.88</td>\n",
       "      <td>1</td>\n",
       "    </tr>\n",
       "    <tr>\n",
       "      <th>3</th>\n",
       "      <td>15744090</td>\n",
       "      <td>699</td>\n",
       "      <td>Ярославль</td>\n",
       "      <td>Ж</td>\n",
       "      <td>39</td>\n",
       "      <td>1</td>\n",
       "      <td>NaN</td>\n",
       "      <td>2</td>\n",
       "      <td>0</td>\n",
       "      <td>0</td>\n",
       "      <td>93826.63</td>\n",
       "      <td>0</td>\n",
       "    </tr>\n",
       "    <tr>\n",
       "      <th>6</th>\n",
       "      <td>15635267</td>\n",
       "      <td>822</td>\n",
       "      <td>Ярославль</td>\n",
       "      <td>М</td>\n",
       "      <td>50</td>\n",
       "      <td>7</td>\n",
       "      <td>NaN</td>\n",
       "      <td>2</td>\n",
       "      <td>1</td>\n",
       "      <td>1</td>\n",
       "      <td>10062.80</td>\n",
       "      <td>0</td>\n",
       "    </tr>\n",
       "    <tr>\n",
       "      <th>11</th>\n",
       "      <td>15779909</td>\n",
       "      <td>497</td>\n",
       "      <td>Рыбинск</td>\n",
       "      <td>М</td>\n",
       "      <td>24</td>\n",
       "      <td>3</td>\n",
       "      <td>NaN</td>\n",
       "      <td>2</td>\n",
       "      <td>1</td>\n",
       "      <td>0</td>\n",
       "      <td>76390.01</td>\n",
       "      <td>0</td>\n",
       "    </tr>\n",
       "    <tr>\n",
       "      <th>12</th>\n",
       "      <td>15675000</td>\n",
       "      <td>476</td>\n",
       "      <td>Ярославль</td>\n",
       "      <td>Ж</td>\n",
       "      <td>34</td>\n",
       "      <td>10</td>\n",
       "      <td>NaN</td>\n",
       "      <td>2</td>\n",
       "      <td>1</td>\n",
       "      <td>0</td>\n",
       "      <td>26260.98</td>\n",
       "      <td>0</td>\n",
       "    </tr>\n",
       "    <tr>\n",
       "      <th>...</th>\n",
       "      <td>...</td>\n",
       "      <td>...</td>\n",
       "      <td>...</td>\n",
       "      <td>...</td>\n",
       "      <td>...</td>\n",
       "      <td>...</td>\n",
       "      <td>...</td>\n",
       "      <td>...</td>\n",
       "      <td>...</td>\n",
       "      <td>...</td>\n",
       "      <td>...</td>\n",
       "      <td>...</td>\n",
       "    </tr>\n",
       "    <tr>\n",
       "      <th>9989</th>\n",
       "      <td>15648358</td>\n",
       "      <td>841</td>\n",
       "      <td>Рыбинск</td>\n",
       "      <td>М</td>\n",
       "      <td>28</td>\n",
       "      <td>4</td>\n",
       "      <td>NaN</td>\n",
       "      <td>2</td>\n",
       "      <td>1</td>\n",
       "      <td>1</td>\n",
       "      <td>179436.60</td>\n",
       "      <td>0</td>\n",
       "    </tr>\n",
       "    <tr>\n",
       "      <th>9992</th>\n",
       "      <td>15699841</td>\n",
       "      <td>726</td>\n",
       "      <td>Рыбинск</td>\n",
       "      <td>М</td>\n",
       "      <td>36</td>\n",
       "      <td>2</td>\n",
       "      <td>NaN</td>\n",
       "      <td>1</td>\n",
       "      <td>1</td>\n",
       "      <td>0</td>\n",
       "      <td>195192.40</td>\n",
       "      <td>0</td>\n",
       "    </tr>\n",
       "    <tr>\n",
       "      <th>9994</th>\n",
       "      <td>15762030</td>\n",
       "      <td>800</td>\n",
       "      <td>Ярославль</td>\n",
       "      <td>Ж</td>\n",
       "      <td>29</td>\n",
       "      <td>2</td>\n",
       "      <td>NaN</td>\n",
       "      <td>2</td>\n",
       "      <td>0</td>\n",
       "      <td>0</td>\n",
       "      <td>167773.55</td>\n",
       "      <td>0</td>\n",
       "    </tr>\n",
       "    <tr>\n",
       "      <th>9995</th>\n",
       "      <td>15648965</td>\n",
       "      <td>771</td>\n",
       "      <td>Ярославль</td>\n",
       "      <td>М</td>\n",
       "      <td>39</td>\n",
       "      <td>5</td>\n",
       "      <td>NaN</td>\n",
       "      <td>2</td>\n",
       "      <td>1</td>\n",
       "      <td>0</td>\n",
       "      <td>96270.64</td>\n",
       "      <td>0</td>\n",
       "    </tr>\n",
       "    <tr>\n",
       "      <th>9997</th>\n",
       "      <td>15627268</td>\n",
       "      <td>709</td>\n",
       "      <td>Ярославль</td>\n",
       "      <td>Ж</td>\n",
       "      <td>36</td>\n",
       "      <td>7</td>\n",
       "      <td>NaN</td>\n",
       "      <td>1</td>\n",
       "      <td>0</td>\n",
       "      <td>1</td>\n",
       "      <td>42085.58</td>\n",
       "      <td>1</td>\n",
       "    </tr>\n",
       "  </tbody>\n",
       "</table>\n",
       "<p>3617 rows × 12 columns</p>\n",
       "</div>"
      ],
      "text/plain": [
       "        userid  score       City  ... Loyalty  estimated_salary  Churn\n",
       "0     15677338    619  Ярославль  ...       1         101348.88      1\n",
       "3     15744090    699  Ярославль  ...       0          93826.63      0\n",
       "6     15635267    822  Ярославль  ...       1          10062.80      0\n",
       "11    15779909    497    Рыбинск  ...       0          76390.01      0\n",
       "12    15675000    476  Ярославль  ...       0          26260.98      0\n",
       "...        ...    ...        ...  ...     ...               ...    ...\n",
       "9989  15648358    841    Рыбинск  ...       1         179436.60      0\n",
       "9992  15699841    726    Рыбинск  ...       0         195192.40      0\n",
       "9994  15762030    800  Ярославль  ...       0         167773.55      0\n",
       "9995  15648965    771  Ярославль  ...       0          96270.64      0\n",
       "9997  15627268    709  Ярославль  ...       1          42085.58      1\n",
       "\n",
       "[3617 rows x 12 columns]"
      ]
     },
     "execution_count": 8,
     "metadata": {},
     "output_type": "execute_result"
    }
   ],
   "source": [
    "df.loc[df.isnull().any(axis=1)] # выводем клиентов с пропусками"
   ]
  },
  {
   "cell_type": "markdown",
   "metadata": {},
   "source": [
    "Клиенты с пропусками в столбце `Balance` встречаются во всех 3 городах, как у действующих клиентов и тех кто ушел, имеют подключенные продукты (например кредитные карты) -  делаем вывод, что это клиенты которые не имеют лицевой счет в банке и пользуются только кредитыми продуктами. В данном случае с пропусками ничего не делаем, оставляем все как есть. "
   ]
  },
  {
   "cell_type": "markdown",
   "metadata": {},
   "source": [
    "**Вывод:** Датасет содержит данные о клиентах банка. Всего 10 000 строк и 12 столбцов. В данных 3 города: Ярославль, Ростов Великий и Рыбинск. Дубликатов и пропусков нет. Типы данных соответсвуют значениям. Для дальнейшего удобства работы с датсетом необходимо привести названия столбцов к нижнему регистру."
   ]
  },
  {
   "cell_type": "markdown",
   "metadata": {},
   "source": [
    "## 3 Предобработка данных. \n",
    "\n",
    "Приведем названия столбцов к единому стилю и город клиента в бинарный формат - добавим 3 столбца, где значение 1 будет соответствовать городу клиента."
   ]
  },
  {
   "cell_type": "code",
   "execution_count": 9,
   "metadata": {},
   "outputs": [],
   "source": [
    "df.columns = df.columns.str.lower() # приводим названия столбцов к нижнему регистру"
   ]
  },
  {
   "cell_type": "code",
   "execution_count": 10,
   "metadata": {},
   "outputs": [],
   "source": [
    "df = df.rename(columns = {'userid':'user_id','creditcard':'credit_card'}) # заменим названия столбцов в более читабельный формат"
   ]
  },
  {
   "cell_type": "markdown",
   "metadata": {},
   "source": [
    "Создадим словарь с рускими наименованиями столбцов для дальнейшей визиуализации на графиках. "
   ]
  },
  {
   "cell_type": "code",
   "execution_count": 11,
   "metadata": {},
   "outputs": [
    {
     "data": {
      "text/plain": [
       "{'user_id': 'id пользователя',\n",
       " 'score': 'кредитный скоринг',\n",
       " 'city': 'город',\n",
       " 'gender': 'пол',\n",
       " 'age': 'возраст',\n",
       " 'objects': 'объекты в собственности',\n",
       " 'balance': 'остаток на счете',\n",
       " 'products': 'используемые продукты',\n",
       " 'credit_card': 'кредитная карта',\n",
       " 'loyalty': 'активный клиент',\n",
       " 'estimated_salary': 'оценка зарплаты',\n",
       " 'churn': 'отток'}"
      ]
     },
     "execution_count": 11,
     "metadata": {},
     "output_type": "execute_result"
    }
   ],
   "source": [
    "rus_columns = ['id пользователя', 'кредитный скоринг', 'город', 'пол', 'возраст', 'объекты в собственности',\n",
    "              'остаток на счете', 'используемые продукты', 'кредитная карта', 'активный клиент', 'оценка зарплаты',\n",
    "              'отток']\n",
    "df_columns_dict = dict(zip(df.columns, rus_columns))\n",
    "df_columns_dict"
   ]
  },
  {
   "cell_type": "markdown",
   "metadata": {},
   "source": [
    "**Вывод:** Привели названия столбцов к единому стилю - к нижнему змеиному регистру. Предобработка данных завершена."
   ]
  },
  {
   "cell_type": "markdown",
   "metadata": {},
   "source": [
    "## 4 Исследовательский анализ данных. \n",
    "\n",
    "Целью анализа является определение характерных портретов клиентов банка. Построим гистограммы распределения значений и Матрицу корреляций."
   ]
  },
  {
   "cell_type": "markdown",
   "metadata": {},
   "source": [
    "### 4.1 Анализ средних значений. "
   ]
  },
  {
   "cell_type": "code",
   "execution_count": 12,
   "metadata": {},
   "outputs": [
    {
     "data": {
      "text/html": [
       "<div>\n",
       "<style scoped>\n",
       "    .dataframe tbody tr th:only-of-type {\n",
       "        vertical-align: middle;\n",
       "    }\n",
       "\n",
       "    .dataframe tbody tr th {\n",
       "        vertical-align: top;\n",
       "    }\n",
       "\n",
       "    .dataframe thead th {\n",
       "        text-align: right;\n",
       "    }\n",
       "</style>\n",
       "<table border=\"1\" class=\"dataframe\">\n",
       "  <thead>\n",
       "    <tr style=\"text-align: right;\">\n",
       "      <th></th>\n",
       "      <th>score</th>\n",
       "      <th>age</th>\n",
       "      <th>objects</th>\n",
       "      <th>balance</th>\n",
       "      <th>products</th>\n",
       "      <th>credit_card</th>\n",
       "      <th>loyalty</th>\n",
       "      <th>estimated_salary</th>\n",
       "    </tr>\n",
       "    <tr>\n",
       "      <th>churn</th>\n",
       "      <th></th>\n",
       "      <th></th>\n",
       "      <th></th>\n",
       "      <th></th>\n",
       "      <th></th>\n",
       "      <th></th>\n",
       "      <th></th>\n",
       "      <th></th>\n",
       "    </tr>\n",
       "  </thead>\n",
       "  <tbody>\n",
       "    <tr>\n",
       "      <th>0</th>\n",
       "      <td>651.85</td>\n",
       "      <td>37.41</td>\n",
       "      <td>5.03</td>\n",
       "      <td>119535.86</td>\n",
       "      <td>1.54</td>\n",
       "      <td>0.71</td>\n",
       "      <td>0.55</td>\n",
       "      <td>99738.39</td>\n",
       "    </tr>\n",
       "    <tr>\n",
       "      <th>1</th>\n",
       "      <td>645.35</td>\n",
       "      <td>44.84</td>\n",
       "      <td>4.93</td>\n",
       "      <td>120746.97</td>\n",
       "      <td>1.48</td>\n",
       "      <td>0.70</td>\n",
       "      <td>0.36</td>\n",
       "      <td>101465.68</td>\n",
       "    </tr>\n",
       "  </tbody>\n",
       "</table>\n",
       "</div>"
      ],
      "text/plain": [
       "        score    age  objects  ...  credit_card  loyalty  estimated_salary\n",
       "churn                          ...                                        \n",
       "0      651.85  37.41     5.03  ...         0.71     0.55          99738.39\n",
       "1      645.35  44.84     4.93  ...         0.70     0.36         101465.68\n",
       "\n",
       "[2 rows x 8 columns]"
      ]
     },
     "execution_count": 12,
     "metadata": {},
     "output_type": "execute_result"
    }
   ],
   "source": [
    "df.drop('user_id', axis=1).groupby(by='churn').mean().round(2)"
   ]
  },
  {
   "cell_type": "markdown",
   "metadata": {},
   "source": [
    "Что видим по средним показателям:\n",
    "\n",
    "- срединий скоринговый балл слабо отличается;\n",
    "- средний возраст ушедших клиентов заметно выше - 45 лет против 38 лет; \n",
    "- количество объектов в собственности +/- одинаковое;\n",
    "- разница в количестве денег на счету минимальная;\n",
    "- среднее количество используемых продуктов банка незначительно различается;\n",
    "- наличие кредитки у обеих групп на одном уровне;\n",
    "- у клиентов оттока ниже показатель активности;\n",
    "- уровень дохода практически одинаковый. "
   ]
  },
  {
   "cell_type": "markdown",
   "metadata": {},
   "source": [
    "### 4.2 Количественные признаки.\n",
    "\n",
    "Посмотрим признаки: \n",
    "- `score` — баллы кредитного скоринга,\n",
    "- `age` — возраст,\n",
    "- `objects` — количество объектов в собственности,\n",
    "- `balance` — баланс на счёте,\n",
    "- `products` — количество продуктов, которыми пользуется клиент,\n",
    "- `estimated_salary` — заработная плата клиента,"
   ]
  },
  {
   "cell_type": "code",
   "execution_count": 13,
   "metadata": {},
   "outputs": [
    {
     "data": {
      "image/png": "[encoded data removed]",
      "text/plain": [
       "<Figure size 864x864 with 6 Axes>"
      ]
     },
     "metadata": {
      "needs_background": "light"
     },
     "output_type": "display_data"
    }
   ],
   "source": [
    "params = ['score', 'age', 'objects','balance', 'products', 'estimated_salary']\n",
    "col_count, row_count = 2, 3\n",
    "\n",
    "plt.figure(figsize=(12, 12))\n",
    "\n",
    "for i, param in enumerate(params):\n",
    "    for churn in df['churn'].unique():\n",
    "        current = df.query('churn == @churn')\n",
    "        sns.distplot(current[param], \n",
    "                     kde=True,\n",
    "                     hist_kws={'edgecolor':'black'}, \n",
    "                     ax = plt.subplot(row_count, col_count, i + 1)\n",
    "                    )\n",
    "    plt.title(f'Распределение признака - {df_columns_dict[param]}')\n",
    "    #plt.title('Распределение по признаку '+param)\n",
    "    #plt.legend(df['churn'], title = 'Отток')\n",
    "    plt.legend(['Ушли', 'Остались'])\n",
    "    plt.ylabel('Плотность распределения')\n",
    "plt.tight_layout() \n",
    "plt.show()"
   ]
  },
  {
   "cell_type": "markdown",
   "metadata": {},
   "source": [
    "Приблизительно одинаковое поведение клиентов по признакам: кредитный скоринг, количество объектов, оценочная зарплата, что может говроить о том, что эти признаки не оказывают существенного влияния на факт оттока клиентов.\n",
    "\n",
    "Также видны  **различия** в поведении клиентов по признакам: **возраст, количество используемых продуктов и баланс лицевого счета**."
   ]
  },
  {
   "cell_type": "markdown",
   "metadata": {},
   "source": [
    "### 4.3 Категоральные и дискретные признаки.\n",
    "\n",
    "Анализируем признаки: \n",
    "\n",
    "- `gender` — пол: Ж - женский, М - мужской;\n",
    "- `credit_card` — есть ли кредитная карта: 0 - нет карты, 1 - есть кредитная карта;\n",
    "- `loyalty` — активный клиент: 0 - не актиный, 1 - активный. "
   ]
  },
  {
   "cell_type": "code",
   "execution_count": 14,
   "metadata": {},
   "outputs": [
    {
     "data": {
      "image/png": "[encoded data removed]",
      "text/plain": [
       "<Figure size 864x720 with 4 Axes>"
      ]
     },
     "metadata": {
      "needs_background": "light"
     },
     "output_type": "display_data"
    }
   ],
   "source": [
    "params = ['gender', 'credit_card', 'loyalty', 'city']\n",
    "col_count, row_count = 2, 2\n",
    "\n",
    "plt.figure(figsize=(12, 10))\n",
    "\n",
    "for i, param in enumerate(params):\n",
    "    for churn in df['churn'].unique():\n",
    "        current = df.query('churn == @churn')\n",
    "        sns.countplot(current[param], hue=df['churn'],\n",
    "                      ax = plt.subplot(row_count, col_count, i + 1)\n",
    "                     )\n",
    "    plt.title(f'Распределение признака - {df_columns_dict[param]}')\n",
    "    #plt.title('Распределение по признаку '+param)\n",
    "    #plt.legend(df['churn'], title = 'Отток')\n",
    "    plt.legend({'Остались', 'Ушли'}, loc='upper right')\n",
    "    plt.ylabel('Плотность распределения')\n",
    "plt.tight_layout()    \n",
    "plt.show()"
   ]
  },
  {
   "cell_type": "markdown",
   "metadata": {},
   "source": [
    "Проанализировав распределение признаков по полу, наличию кредитной карты и активности клиентов с разбивкой по факту оттока делаем следующие выводы:\n",
    "\n",
    "- среди женщин процент ушедших в отток выше, чем среди мужчин;\n",
    "\n",
    "- кредитные карты скорее влияют на отток, чем нет;\n",
    "\n",
    "- среди тех клиентов, кто не проявлял активности отток выше, чем среди тех, кто является активным пользователем банковских услуг;\n",
    "\n",
    "- в Рыбинске и Ростове Великим отток клиентов проходит более активнее чем в Ярославле. "
   ]
  },
  {
   "cell_type": "markdown",
   "metadata": {},
   "source": [
    "### 4.4 Матрица корреляций.\n",
    "\n",
    "Для создании матрицы кореляции для всех парметров необходимо перевести пол клиента и город в бинарный формат."
   ]
  },
  {
   "cell_type": "code",
   "execution_count": 15,
   "metadata": {},
   "outputs": [],
   "source": [
    "df['gender'] = df['gender'].map({'М':1, 'Ж':0}) # в столбце `gender` изменим значения на числовые"
   ]
  },
  {
   "cell_type": "code",
   "execution_count": 16,
   "metadata": {},
   "outputs": [
    {
     "data": {
      "text/html": [
       "<div>\n",
       "<style scoped>\n",
       "    .dataframe tbody tr th:only-of-type {\n",
       "        vertical-align: middle;\n",
       "    }\n",
       "\n",
       "    .dataframe tbody tr th {\n",
       "        vertical-align: top;\n",
       "    }\n",
       "\n",
       "    .dataframe thead th {\n",
       "        text-align: right;\n",
       "    }\n",
       "</style>\n",
       "<table border=\"1\" class=\"dataframe\">\n",
       "  <thead>\n",
       "    <tr style=\"text-align: right;\">\n",
       "      <th></th>\n",
       "      <th>user_id</th>\n",
       "      <th>score</th>\n",
       "      <th>gender</th>\n",
       "      <th>age</th>\n",
       "      <th>objects</th>\n",
       "      <th>balance</th>\n",
       "      <th>products</th>\n",
       "      <th>credit_card</th>\n",
       "      <th>loyalty</th>\n",
       "      <th>estimated_salary</th>\n",
       "      <th>churn</th>\n",
       "      <th>city_Ростов Великий</th>\n",
       "      <th>city_Рыбинск</th>\n",
       "      <th>city_Ярославль</th>\n",
       "    </tr>\n",
       "  </thead>\n",
       "  <tbody>\n",
       "    <tr>\n",
       "      <th>0</th>\n",
       "      <td>15677338</td>\n",
       "      <td>619</td>\n",
       "      <td>0</td>\n",
       "      <td>42</td>\n",
       "      <td>2</td>\n",
       "      <td>NaN</td>\n",
       "      <td>1</td>\n",
       "      <td>1</td>\n",
       "      <td>1</td>\n",
       "      <td>101348.88</td>\n",
       "      <td>1</td>\n",
       "      <td>0</td>\n",
       "      <td>0</td>\n",
       "      <td>1</td>\n",
       "    </tr>\n",
       "    <tr>\n",
       "      <th>1</th>\n",
       "      <td>15690047</td>\n",
       "      <td>608</td>\n",
       "      <td>0</td>\n",
       "      <td>41</td>\n",
       "      <td>1</td>\n",
       "      <td>83807.86</td>\n",
       "      <td>1</td>\n",
       "      <td>0</td>\n",
       "      <td>1</td>\n",
       "      <td>112542.58</td>\n",
       "      <td>0</td>\n",
       "      <td>0</td>\n",
       "      <td>1</td>\n",
       "      <td>0</td>\n",
       "    </tr>\n",
       "    <tr>\n",
       "      <th>2</th>\n",
       "      <td>15662040</td>\n",
       "      <td>502</td>\n",
       "      <td>0</td>\n",
       "      <td>42</td>\n",
       "      <td>8</td>\n",
       "      <td>159660.80</td>\n",
       "      <td>3</td>\n",
       "      <td>1</td>\n",
       "      <td>0</td>\n",
       "      <td>113931.57</td>\n",
       "      <td>1</td>\n",
       "      <td>0</td>\n",
       "      <td>0</td>\n",
       "      <td>1</td>\n",
       "    </tr>\n",
       "    <tr>\n",
       "      <th>3</th>\n",
       "      <td>15744090</td>\n",
       "      <td>699</td>\n",
       "      <td>0</td>\n",
       "      <td>39</td>\n",
       "      <td>1</td>\n",
       "      <td>NaN</td>\n",
       "      <td>2</td>\n",
       "      <td>0</td>\n",
       "      <td>0</td>\n",
       "      <td>93826.63</td>\n",
       "      <td>0</td>\n",
       "      <td>0</td>\n",
       "      <td>0</td>\n",
       "      <td>1</td>\n",
       "    </tr>\n",
       "    <tr>\n",
       "      <th>4</th>\n",
       "      <td>15780624</td>\n",
       "      <td>850</td>\n",
       "      <td>0</td>\n",
       "      <td>43</td>\n",
       "      <td>2</td>\n",
       "      <td>125510.82</td>\n",
       "      <td>1</td>\n",
       "      <td>1</td>\n",
       "      <td>1</td>\n",
       "      <td>79084.10</td>\n",
       "      <td>0</td>\n",
       "      <td>0</td>\n",
       "      <td>1</td>\n",
       "      <td>0</td>\n",
       "    </tr>\n",
       "  </tbody>\n",
       "</table>\n",
       "</div>"
      ],
      "text/plain": [
       "    user_id  score  gender  ...  city_Ростов Великий  city_Рыбинск  city_Ярославль\n",
       "0  15677338    619       0  ...                    0             0               1\n",
       "1  15690047    608       0  ...                    0             1               0\n",
       "2  15662040    502       0  ...                    0             0               1\n",
       "3  15744090    699       0  ...                    0             0               1\n",
       "4  15780624    850       0  ...                    0             1               0\n",
       "\n",
       "[5 rows x 14 columns]"
      ]
     },
     "execution_count": 16,
     "metadata": {},
     "output_type": "execute_result"
    }
   ],
   "source": [
    "df = pd.get_dummies(df, columns=['city']) # переведем город клиента в бинарный формат\n",
    "df.head() # выведем первые 5 строк таблицы на экран "
   ]
  },
  {
   "cell_type": "markdown",
   "metadata": {},
   "source": [
    "Заменили \"М\" и \"Ж\" в столбце `gender` на 1 и 0 соответственно. Получили 3 новых столбца: `city_Ростов Великий`, `city_Рыбинск`, `city_Ярославль` со значениями 1 и 0, где 1 - соответсвует городу клиента, 0 - нет. "
   ]
  },
  {
   "cell_type": "code",
   "execution_count": 17,
   "metadata": {},
   "outputs": [
    {
     "data": {
      "image/png": "[encoded data removed]",
      "text/plain": [
       "<Figure size 864x720 with 2 Axes>"
      ]
     },
     "metadata": {
      "needs_background": "light"
     },
     "output_type": "display_data"
    }
   ],
   "source": [
    "# отобразим heatmap\n",
    "corr_m = df.corr()\n",
    "plt.figure(figsize=(12, 10))\n",
    "sns.heatmap(corr_m, cmap=\"YlGnBu\", annot = True, fmt='.2f', linewidths=1) \n",
    "plt.title('Матрица корреляций всех признаков');"
   ]
  },
  {
   "cell_type": "markdown",
   "metadata": {},
   "source": [
    "Мультиколлинеарности не обнаружено, все признаки незначительно коррелируют друг с другом. С целевой переменной `churn` больше всего коррелируют:\n",
    "- **age (0,29)** - линейная связь слабая, но она положительная (чем больше возраст, тем выше отток);\n",
    "- **city_Ростов Великий (0,17)** - тут линейная связь тоже положительнаясвязь, но еще слабее;\n",
    "- **loyalty (-0,16)** - линейная связь слабо-отрицательная;\n",
    "- **gender (-0,11)** - линейная связь слабо-отрицательная."
   ]
  },
  {
   "cell_type": "markdown",
   "metadata": {},
   "source": [
    "**Вывод:**\n",
    "\n",
    "По средним показателям:\n",
    "\n",
    "- срединий скоринговый балл слабо отличается;\n",
    "- средний возраст ушедших клиентов заметно выше - 45 лет против 38 лет; \n",
    "- количество объектов в собственности +/- одинаковое;\n",
    "- разница в количестве денег на счету минимальная;\n",
    "- среднее количество используемых продуктов банка незначительно различается;\n",
    "- наличие кредитки у обеих групп на одном уровне;\n",
    "- у клиентов оттока ниже показатель активности;\n",
    "- уровень дохода практически одинаковый. \n",
    "\n",
    "Приблизительно одинаковое поведение клиентов в диаграмме распределения по признакам: кредитный скоринг, количество объектов, оценочная зарплата, что может говроить о том, что эти признаки не оказывают существенного влияния на факт оттока клиентов.\n",
    "\n",
    "Также видны **различия** в поведении клиентов по признакам: **возраст, количество используемых продуктов и баланс лицевого счета**.\n",
    "\n",
    "Проанализировав распределение признаков по полу, наличию кредитной карты и активности клиентов с разбивкой по факту оттока делаем следующие выводы:\n",
    "\n",
    "- **среди женщин процент ушедших в отток выше, чем среди мужчин**;\n",
    "\n",
    "- **кредитные карты скорее влияют на отток, чем нет**;\n",
    "\n",
    "- **среди тех клиентов, кто не проявлял активности отток выше, чем среди тех, кто является активным пользователем банковских услуг**;\n",
    "\n",
    "- **в Рыбинске и Ростове Великим отток клиентов проходит более активнее чем в Ярославле**.\n",
    "    \n",
    "Построив матрицу корреляций видим, что мультиколлинеарности не обнаружено, все признаки незначительно коррелируют друг с другом. С целевой переменной **churn** больше всего коррелируют:\n",
    "\n",
    "- **age (0,29)** - линейная связь слабая, но она положительная (чем больше возраст, тем выше отток);\n",
    "- **city_Ростов Великий (0,17)** - тут линейная связь тоже положительнаясвязь, но еще слабее;\n",
    "- **loyalty (-0,16)** - линейная связь слабо-отрицательная;\n",
    "- **gender (-0,11)** - линейная связь слабо-отрицательная."
   ]
  },
  {
   "cell_type": "markdown",
   "metadata": {},
   "source": [
    "## 5 Проверка гипотез:\n",
    "\n",
    "###  5.1 Гипотеза 1.\n",
    "\n",
    "Проверим, есть ли статистически значимое **различие в уровне доходов** между клиентами, ушедшими в отток, и клиентами, которые продолжают пользоваться услугами банка.\n",
    "\n",
    "В качестве нулевой и альтернативной гипотезы мы взяли следующее:\n",
    "\n",
    "- **H0:** статистически значимых **различий** в средних выборок доходов между клиентами, ушедшими в отток, и клиентами, которые продолжают пользоваться услугами банка **нет**.\n",
    "\n",
    "- **H1:** статистически значимые **различия** в средних выборок доходов между клиентами, ушедшими в отток, и клиентами, которые продолжают пользоваться услугами банка **есть**.\n",
    "\n",
    "Зададим значение alpha равное 0.05, это критический уровень статистической значимости если p-value окажется меньше него - отвергнем нулевую гипотезу.\n",
    "\n",
    "Исходя из пункта 4.1. в распределение признака - оценка зарплаты, наши выборки имеют равномерное распределение и обладают достаточной величиной данных, значит проверять гипотезу будем c помощью t-критерия Стьюдента. Применять будем метод ttest_ind библиотеки scipy для сравнения средних двух независимых выборок с различной дисперсией."
   ]
  },
  {
   "cell_type": "code",
   "execution_count": 18,
   "metadata": {},
   "outputs": [
    {
     "name": "stdout",
     "output_type": "stream",
     "text": [
      "p-значение:  0.22644042802223352\n",
      "Не получилось отвергнуть нулевую гипотезу\n"
     ]
    }
   ],
   "source": [
    "alpha = .05\n",
    "\n",
    "# Создадим две выборки - те, кто является клиентом банка, и те, кто покинул\n",
    "results = st.ttest_ind(\n",
    "    df.query('churn == 0')['estimated_salary'], \n",
    "    df.query('churn == 1')['estimated_salary']\n",
    ")\n",
    "\n",
    "print('p-значение: ', results.pvalue)\n",
    "\n",
    "if results.pvalue < alpha:\n",
    "    print('Отвергаем нулевую гипотезу')\n",
    "else:\n",
    "    print('Не получилось отвергнуть нулевую гипотезу')"
   ]
  },
  {
   "cell_type": "markdown",
   "metadata": {},
   "source": [
    "По результатам не отвергаем нулевую гипотезу, а значит - **статистически значимые различия в средних выборок доходов между клиентами, ушедшими в отток, и клиентами, которые продолжают пользоваться услугами банка нет.**"
   ]
  },
  {
   "cell_type": "markdown",
   "metadata": {},
   "source": [
    "### 5.2 Гипотеза 2. \n",
    "\n",
    "Проверим, есть ли статистически значимое **различие в количестве используемых продуктов банка** между клиентами, ушедшими в отток, и клиентами, которые продолжают пользоваться услугами банка.\n",
    "\n",
    "В качестве нулевой и альтернативной гипотезы мы взяли следующее:\n",
    "\n",
    "- **Н0:** статистически значимых **различий** в распределении количества используемых продуктов банка между клиентами, ушедшими в отток, и клиентами, которые продолжают пользоваться услугами банка **нет**.\n",
    "\n",
    "- **Н1:** статистически значимые **различия** в распределении количества используемых продуктов банка между клиентами, ушедшими в отток, и клиентами, которые продолжают пользоваться услугами банка **есть**.\n",
    "\n",
    "Зададим значение alpha равное 0.05, это критический уровень статистической значимости если p-value окажется меньше него - отвергнем нулевую гипотезу.\n",
    "\n",
    "Исходя из пункта 4.1. в распределение признака - используемые продукты, наши выборки имеют не равномерное распределение. Если данные в A/B-тесте не из нормального распределения, то T-test использовать нельзя. Применим тест Манн-Уитни."
   ]
  },
  {
   "cell_type": "code",
   "execution_count": 19,
   "metadata": {},
   "outputs": [
    {
     "name": "stdout",
     "output_type": "stream",
     "text": [
      "p-значение:  5.275105212817194e-36\n",
      "Отвергаем нулевую гипотезу\n"
     ]
    }
   ],
   "source": [
    "alpha = .05\n",
    "\n",
    "# Создадим две выборки - те, кто является клиентом банка, и те, кто покинул\n",
    "results_prod = st.mannwhitneyu(\n",
    "    df.query('churn == 0')['products'], \n",
    "    df.query('churn == 1')['products'],\n",
    "    alternative='two-sided'\n",
    ")\n",
    "\n",
    "print('p-значение: ', results_prod.pvalue)\n",
    "\n",
    "if results_prod.pvalue < alpha:\n",
    "    print('Отвергаем нулевую гипотезу')\n",
    "else:\n",
    "    print('Не получилось отвергнуть нулевую гипотезу')"
   ]
  },
  {
   "cell_type": "markdown",
   "metadata": {},
   "source": [
    "По результатам отвергаем нулевую гипотезу, а значит - **статистически значимые различия в распределении количества используемых продуктов банка между клиентами, ушедшими в отток, и клиентами, которые продолжают пользоваться услугами банка есть.**"
   ]
  },
  {
   "cell_type": "markdown",
   "metadata": {},
   "source": [
    "## 6 Общие выводы. \n",
    "\n",
    "Опишем портеры работающих клиентов и тех, кто ушел. Дадим рекомендации по итогам проекта.\n",
    "\n",
    "### 6.1 Выводы: \n",
    "По средним показателям:\n",
    "\n",
    "- срединий скоринговый балл слабо отличается;\n",
    "- средний возраст ушедших клиентов заметно выше - 45 лет против 38 лет; \n",
    "- количество объектов в собственности +/- одинаковое;\n",
    "- разница в количестве денег на счету минимальная;\n",
    "- среднее количество используемых продуктов банка незначительно различается;\n",
    "- наличие кредитки у обеих групп на одном уровне;\n",
    "- у клиентов оттока ниже показатель активности;\n",
    "- уровень дохода практически одинаковый. \n",
    "\n",
    "Приблизительно одинаковое поведение клиентов в диаграмме распределения по признакам: кредитный скоринг, количество объектов, оценочная зарплата, что может говроить о том, что эти признаки не оказывают существенного влияния на факт оттока клиентов.\n",
    "\n",
    "Также видны **различия** в поведении клиентов по признакам: **возраст, количество используемых продуктов и баланс лицевого счета**.\n",
    "\n",
    "Проанализировав распределение признаков по полу, наличию кредитной карты и активности клиентов с разбивкой по факту оттока делаем следующие выводы:\n",
    "\n",
    "- **среди женщин процент ушедших в отток выше, чем среди мужчин**;\n",
    "\n",
    "- **кредитные карты скорее влияют на отток, чем нет**;\n",
    "\n",
    "- **среди тех клиентов, кто не проявлял активности отток выше, чем среди тех, кто является активным пользователем банковских услуг**;\n",
    "\n",
    "- **в Рыбинске и Ростове Великим отток клиентов проходит более активнее чем в Ярославле**.\n",
    "    \n",
    "Построив матрицу корреляций видим, что мультиколлинеарности не обнаружено, все признаки незначительно коррелируют друг с другом. С целевой переменной **churn** больше всего коррелируют:\n",
    "\n",
    "- **age (0,29)** - линейная связь слабая, но она положительная (чем больше возраст, тем выше отток);\n",
    "- **city_Ростов Великий (0,17)** - тут линейная связь тоже положительнаясвязь, но еще слабее;\n",
    "- **loyalty (-0,16)** - линейная связь слабо-отрицательная;\n",
    "- **gender (-0,11)** - линейная связь слабо-отрицательная.\n",
    "\n",
    "### 6.2 Портреты клентов: \n",
    "\n",
    "По итогам исследования можно выделить следующие характерные портреты клиентов.\n",
    "\n",
    "**Клиент склонен к оттоку:**\n",
    "\n",
    "- Проживает в Ростове Великом;\n",
    "- Женщина;\n",
    "- Старше 40 лет;\n",
    "- Использует 1 продукт или же 3, 4 продукта;\n",
    "- Не активный пользователь.\n",
    "\n",
    "**Клиент склонен остаться:**\n",
    "\n",
    "- Проживает в Ярославле или Рыбинске;\n",
    "- Мужчина;\n",
    "- Моложе 40 лет;\n",
    "- Использует ровно 2 продукта;\n",
    "- Активный пользователь.\n",
    "\n",
    "**Статистически значимые различия в средних выборок доходов между клиентами, ушедшими в отток, и клиентами, которые продолжают пользоваться услугами банка нет.**\n",
    "\n",
    "**По средним показателям количество объектов в собственности и количество денег на счету у действующих клиентов и тех кто ушел +/- одинаковые.**"
   ]
  },
  {
   "cell_type": "markdown",
   "metadata": {},
   "source": [
    "###  6.3 Рекомендации по удержанию клиентов:\n",
    "\n",
    "1. Подробнее изучить клиетов из города - Ростов Великий. \n",
    "\n",
    "2. Придумать программы для удержания женщин, возможно повышенный кешбек на товары, которые чаще покупают женщины. \n",
    "\n",
    "3. Для клиентов старше 40 возможно сложно использовать интерфейс интернет-банка или приложение. Стоить провести UX-исследование в этом направление. \n",
    "\n",
    "4. Большинство клиентов склонные к оттоку использовали 1 продукт, среди тех же кто осталься - 2 продукта, рекомендация отделу продаж осуществить продажу дополнительного (одного) продукта тем, кто уже пользуется одним продутом банка. Наличие кредитной карты в данном случае не сильно влияет на отток.  \n",
    "\n",
    "5. Стоит мотивировать клиентов различными акциями для того, чтобы они активно пользовались продуктами банка. Например присылать пуш-сообщения в приложение или информацию на почту. \n",
    "\n",
    "6. Для клиентов с остатком более 200 тыс. предложить повыешенную ставку годовых на остатке на счете или на депозиты. \n",
    " "
   ]
  },
  {
   "cell_type": "markdown",
   "metadata": {},
   "source": [
    "### 6.4 Дашборд. \n",
    "\n",
    "Для данного проекта были обозначены следующие задачи по дашборду: \n",
    "\n",
    "1. Постройте диаграмму, отражающую количество клиентов в зависимости от числа используемых продуктов.\n",
    "2. Добавьте индикатор процента ушедших клиентов.\n",
    "3. Добавьте фильтр дашборда по городу.\n",
    "\n",
    "Ссылка на дашборд - https://public.tableau.com/app/profile/usr036943/viz/final_project2_16768084185420/Dashboard2 "
   ]
  },
  {
   "cell_type": "markdown",
   "metadata": {},
   "source": [
    "### 6.5 Ссылка на презентацию - \n",
    "\n",
    "https://disk.yandex.ru/i/BZePBptY_eAnQA"
   ]
  }
 ],
 "metadata": {
  "ExecuteTimeLog": [
   {
    "duration": 1415,
    "start_time": "2023-02-09T10:34:13.057Z"
   },
   {
    "duration": 133,
    "start_time": "2023-02-09T10:35:24.060Z"
   },
   {
    "duration": 43,
    "start_time": "2023-02-09T10:38:52.606Z"
   },
   {
    "duration": 3,
    "start_time": "2023-02-09T10:45:58.291Z"
   },
   {
    "duration": 48,
    "start_time": "2023-02-09T10:46:06.325Z"
   },
   {
    "duration": 134,
    "start_time": "2023-02-09T11:08:34.642Z"
   },
   {
    "duration": 70,
    "start_time": "2023-02-09T11:09:07.314Z"
   },
   {
    "duration": 33,
    "start_time": "2023-02-09T11:11:20.453Z"
   },
   {
    "duration": 57,
    "start_time": "2023-02-09T11:11:32.936Z"
   },
   {
    "duration": 12,
    "start_time": "2023-02-09T11:13:41.660Z"
   },
   {
    "duration": 3,
    "start_time": "2023-02-09T11:16:49.421Z"
   },
   {
    "duration": 3,
    "start_time": "2023-02-09T11:17:03.463Z"
   },
   {
    "duration": 20,
    "start_time": "2023-02-09T11:17:11.169Z"
   },
   {
    "duration": 53,
    "start_time": "2023-02-09T11:20:17.426Z"
   },
   {
    "duration": 11,
    "start_time": "2023-02-09T11:20:56.722Z"
   },
   {
    "duration": 1166,
    "start_time": "2023-02-09T11:22:03.673Z"
   },
   {
    "duration": 1308,
    "start_time": "2023-02-09T11:22:26.075Z"
   },
   {
    "duration": 55,
    "start_time": "2023-02-09T11:22:27.385Z"
   },
   {
    "duration": 13,
    "start_time": "2023-02-09T11:22:27.441Z"
   },
   {
    "duration": 5,
    "start_time": "2023-02-09T11:22:27.456Z"
   },
   {
    "duration": 9,
    "start_time": "2023-02-09T11:22:27.463Z"
   },
   {
    "duration": 6,
    "start_time": "2023-02-09T11:22:27.474Z"
   },
   {
    "duration": 42,
    "start_time": "2023-02-09T11:22:27.481Z"
   },
   {
    "duration": 51,
    "start_time": "2023-02-09T11:22:27.525Z"
   },
   {
    "duration": 102,
    "start_time": "2023-02-09T11:50:16.848Z"
   },
   {
    "duration": 6,
    "start_time": "2023-02-09T11:53:19.189Z"
   },
   {
    "duration": 1407,
    "start_time": "2023-02-09T11:55:44.793Z"
   },
   {
    "duration": 1265,
    "start_time": "2023-02-09T11:55:52.407Z"
   },
   {
    "duration": 1224,
    "start_time": "2023-02-09T11:56:00.970Z"
   },
   {
    "duration": 1261,
    "start_time": "2023-02-09T11:56:07.501Z"
   },
   {
    "duration": 61,
    "start_time": "2023-02-09T11:56:08.764Z"
   },
   {
    "duration": 11,
    "start_time": "2023-02-09T11:56:08.828Z"
   },
   {
    "duration": 6,
    "start_time": "2023-02-09T11:56:08.841Z"
   },
   {
    "duration": 26,
    "start_time": "2023-02-09T11:56:08.848Z"
   },
   {
    "duration": 9,
    "start_time": "2023-02-09T11:56:08.876Z"
   },
   {
    "duration": 62,
    "start_time": "2023-02-09T11:56:08.887Z"
   },
   {
    "duration": 3,
    "start_time": "2023-02-09T11:56:08.951Z"
   },
   {
    "duration": 23,
    "start_time": "2023-02-09T11:56:08.955Z"
   },
   {
    "duration": 1408,
    "start_time": "2023-02-09T11:56:12.578Z"
   },
   {
    "duration": 1314,
    "start_time": "2023-02-09T11:56:18.968Z"
   },
   {
    "duration": 1240,
    "start_time": "2023-02-09T11:56:33.798Z"
   },
   {
    "duration": 58,
    "start_time": "2023-02-09T11:56:35.040Z"
   },
   {
    "duration": 23,
    "start_time": "2023-02-09T11:56:35.100Z"
   },
   {
    "duration": 6,
    "start_time": "2023-02-09T11:56:35.126Z"
   },
   {
    "duration": 9,
    "start_time": "2023-02-09T11:56:35.135Z"
   },
   {
    "duration": 5,
    "start_time": "2023-02-09T11:56:35.146Z"
   },
   {
    "duration": 55,
    "start_time": "2023-02-09T11:56:35.152Z"
   },
   {
    "duration": 8,
    "start_time": "2023-02-09T11:56:35.211Z"
   },
   {
    "duration": 41,
    "start_time": "2023-02-09T11:56:35.222Z"
   },
   {
    "duration": 1220,
    "start_time": "2023-02-09T11:57:08.896Z"
   },
   {
    "duration": 54,
    "start_time": "2023-02-09T11:57:10.118Z"
   },
   {
    "duration": 12,
    "start_time": "2023-02-09T11:57:10.174Z"
   },
   {
    "duration": 5,
    "start_time": "2023-02-09T11:57:10.188Z"
   },
   {
    "duration": 18,
    "start_time": "2023-02-09T11:57:10.194Z"
   },
   {
    "duration": 5,
    "start_time": "2023-02-09T11:57:10.213Z"
   },
   {
    "duration": 56,
    "start_time": "2023-02-09T11:57:10.219Z"
   },
   {
    "duration": 3,
    "start_time": "2023-02-09T11:57:10.277Z"
   },
   {
    "duration": 40,
    "start_time": "2023-02-09T11:57:10.281Z"
   },
   {
    "duration": 88,
    "start_time": "2023-02-09T12:06:35.405Z"
   },
   {
    "duration": 7,
    "start_time": "2023-02-09T12:08:25.502Z"
   },
   {
    "duration": 32,
    "start_time": "2023-02-09T12:09:30.723Z"
   },
   {
    "duration": 29,
    "start_time": "2023-02-09T12:21:17.223Z"
   },
   {
    "duration": 109,
    "start_time": "2023-02-09T12:34:41.617Z"
   },
   {
    "duration": 1153,
    "start_time": "2023-02-09T12:34:51.449Z"
   },
   {
    "duration": 54,
    "start_time": "2023-02-09T12:34:52.604Z"
   },
   {
    "duration": 11,
    "start_time": "2023-02-09T12:34:52.660Z"
   },
   {
    "duration": 4,
    "start_time": "2023-02-09T12:34:52.673Z"
   },
   {
    "duration": 18,
    "start_time": "2023-02-09T12:34:52.678Z"
   },
   {
    "duration": 4,
    "start_time": "2023-02-09T12:34:52.698Z"
   },
   {
    "duration": 65,
    "start_time": "2023-02-09T12:34:52.703Z"
   },
   {
    "duration": 27,
    "start_time": "2023-02-09T12:34:52.770Z"
   },
   {
    "duration": 3,
    "start_time": "2023-02-09T12:34:52.799Z"
   },
   {
    "duration": 30,
    "start_time": "2023-02-09T12:34:52.804Z"
   },
   {
    "duration": 136,
    "start_time": "2023-02-09T12:34:52.836Z"
   },
   {
    "duration": 35,
    "start_time": "2023-02-09T12:38:19.810Z"
   },
   {
    "duration": 30,
    "start_time": "2023-02-09T12:44:38.302Z"
   },
   {
    "duration": 29,
    "start_time": "2023-02-09T12:45:17.909Z"
   },
   {
    "duration": 25,
    "start_time": "2023-02-09T12:52:51.796Z"
   },
   {
    "duration": 34,
    "start_time": "2023-02-09T12:53:16.704Z"
   },
   {
    "duration": 5,
    "start_time": "2023-02-09T12:53:22.264Z"
   },
   {
    "duration": 24,
    "start_time": "2023-02-09T12:53:28.601Z"
   },
   {
    "duration": 50,
    "start_time": "2023-02-09T12:55:21.936Z"
   },
   {
    "duration": 14,
    "start_time": "2023-02-09T12:55:39.568Z"
   },
   {
    "duration": 12,
    "start_time": "2023-02-09T12:55:45.105Z"
   },
   {
    "duration": 1225,
    "start_time": "2023-02-09T12:55:50.182Z"
   },
   {
    "duration": 53,
    "start_time": "2023-02-09T12:55:51.409Z"
   },
   {
    "duration": 10,
    "start_time": "2023-02-09T12:55:51.464Z"
   },
   {
    "duration": 9,
    "start_time": "2023-02-09T12:55:51.476Z"
   },
   {
    "duration": 34,
    "start_time": "2023-02-09T12:55:51.487Z"
   },
   {
    "duration": 9,
    "start_time": "2023-02-09T12:55:51.523Z"
   },
   {
    "duration": 51,
    "start_time": "2023-02-09T12:55:51.533Z"
   },
   {
    "duration": 30,
    "start_time": "2023-02-09T12:55:51.585Z"
   },
   {
    "duration": 3,
    "start_time": "2023-02-09T12:55:51.616Z"
   },
   {
    "duration": 29,
    "start_time": "2023-02-09T12:55:51.621Z"
   },
   {
    "duration": 3,
    "start_time": "2023-02-09T12:57:21.999Z"
   },
   {
    "duration": 1566,
    "start_time": "2023-02-10T10:01:55.339Z"
   },
   {
    "duration": 192,
    "start_time": "2023-02-10T10:01:56.907Z"
   },
   {
    "duration": 12,
    "start_time": "2023-02-10T10:01:57.100Z"
   },
   {
    "duration": 5,
    "start_time": "2023-02-10T10:01:57.114Z"
   },
   {
    "duration": 16,
    "start_time": "2023-02-10T10:01:57.120Z"
   },
   {
    "duration": 8,
    "start_time": "2023-02-10T10:01:57.137Z"
   },
   {
    "duration": 75,
    "start_time": "2023-02-10T10:01:57.146Z"
   },
   {
    "duration": 29,
    "start_time": "2023-02-10T10:01:57.223Z"
   },
   {
    "duration": 4,
    "start_time": "2023-02-10T10:01:57.254Z"
   },
   {
    "duration": 47,
    "start_time": "2023-02-10T10:01:57.261Z"
   },
   {
    "duration": 899,
    "start_time": "2023-02-10T10:44:28.801Z"
   },
   {
    "duration": 793,
    "start_time": "2023-02-10T10:44:36.164Z"
   },
   {
    "duration": 791,
    "start_time": "2023-02-10T10:44:47.299Z"
   },
   {
    "duration": 12,
    "start_time": "2023-02-10T11:12:04.282Z"
   },
   {
    "duration": 2354,
    "start_time": "2023-02-10T11:12:31.857Z"
   },
   {
    "duration": 4,
    "start_time": "2023-02-10T11:14:34.376Z"
   },
   {
    "duration": 1698,
    "start_time": "2023-02-10T11:14:40.773Z"
   },
   {
    "duration": 111,
    "start_time": "2023-02-10T11:14:42.475Z"
   },
   {
    "duration": 18,
    "start_time": "2023-02-10T11:14:42.596Z"
   },
   {
    "duration": 7,
    "start_time": "2023-02-10T11:14:42.617Z"
   },
   {
    "duration": 15,
    "start_time": "2023-02-10T11:14:42.627Z"
   },
   {
    "duration": 12,
    "start_time": "2023-02-10T11:14:42.644Z"
   },
   {
    "duration": 114,
    "start_time": "2023-02-10T11:14:42.659Z"
   },
   {
    "duration": 40,
    "start_time": "2023-02-10T11:14:42.775Z"
   },
   {
    "duration": 4,
    "start_time": "2023-02-10T11:14:42.817Z"
   },
   {
    "duration": 31,
    "start_time": "2023-02-10T11:14:42.822Z"
   },
   {
    "duration": 5,
    "start_time": "2023-02-10T11:14:42.855Z"
   },
   {
    "duration": 2289,
    "start_time": "2023-02-10T11:14:42.862Z"
   },
   {
    "duration": 125,
    "start_time": "2023-02-10T12:32:16.643Z"
   },
   {
    "duration": 9,
    "start_time": "2023-02-10T12:32:36.804Z"
   },
   {
    "duration": 474,
    "start_time": "2023-02-10T12:44:56.900Z"
   },
   {
    "duration": 15,
    "start_time": "2023-02-10T12:45:53.978Z"
   },
   {
    "duration": 460,
    "start_time": "2023-02-10T12:46:16.784Z"
   },
   {
    "duration": 341,
    "start_time": "2023-02-10T12:47:19.462Z"
   },
   {
    "duration": 384,
    "start_time": "2023-02-10T12:49:27.848Z"
   },
   {
    "duration": 405,
    "start_time": "2023-02-10T13:00:01.349Z"
   },
   {
    "duration": 478,
    "start_time": "2023-02-10T13:00:15.762Z"
   },
   {
    "duration": 378,
    "start_time": "2023-02-10T13:00:20.306Z"
   },
   {
    "duration": 400,
    "start_time": "2023-02-10T13:00:39.373Z"
   },
   {
    "duration": 1406,
    "start_time": "2023-02-11T10:20:18.062Z"
   },
   {
    "duration": 99,
    "start_time": "2023-02-11T10:20:19.470Z"
   },
   {
    "duration": 11,
    "start_time": "2023-02-11T10:20:19.571Z"
   },
   {
    "duration": 4,
    "start_time": "2023-02-11T10:20:19.584Z"
   },
   {
    "duration": 16,
    "start_time": "2023-02-11T10:20:19.589Z"
   },
   {
    "duration": 8,
    "start_time": "2023-02-11T10:20:19.611Z"
   },
   {
    "duration": 50,
    "start_time": "2023-02-11T10:20:19.623Z"
   },
   {
    "duration": 38,
    "start_time": "2023-02-11T10:20:19.674Z"
   },
   {
    "duration": 2,
    "start_time": "2023-02-11T10:20:19.714Z"
   },
   {
    "duration": 28,
    "start_time": "2023-02-11T10:20:19.719Z"
   },
   {
    "duration": 5,
    "start_time": "2023-02-11T10:20:19.749Z"
   },
   {
    "duration": 1954,
    "start_time": "2023-02-11T10:20:19.755Z"
   },
   {
    "duration": 475,
    "start_time": "2023-02-11T10:20:21.711Z"
   },
   {
    "duration": 375,
    "start_time": "2023-02-11T10:20:22.187Z"
   },
   {
    "duration": 266,
    "start_time": "2023-02-11T10:23:35.440Z"
   },
   {
    "duration": 388,
    "start_time": "2023-02-11T10:23:47.976Z"
   },
   {
    "duration": 339,
    "start_time": "2023-02-11T10:25:12.729Z"
   },
   {
    "duration": 174,
    "start_time": "2023-02-11T10:26:22.257Z"
   },
   {
    "duration": 226,
    "start_time": "2023-02-11T10:27:49.113Z"
   },
   {
    "duration": 339,
    "start_time": "2023-02-11T10:28:31.502Z"
   },
   {
    "duration": 343,
    "start_time": "2023-02-11T10:29:27.664Z"
   },
   {
    "duration": 360,
    "start_time": "2023-02-11T10:30:06.447Z"
   },
   {
    "duration": 351,
    "start_time": "2023-02-11T10:30:18.319Z"
   },
   {
    "duration": 335,
    "start_time": "2023-02-11T10:30:29.018Z"
   },
   {
    "duration": 424,
    "start_time": "2023-02-11T10:36:46.578Z"
   },
   {
    "duration": 365,
    "start_time": "2023-02-11T10:37:35.012Z"
   },
   {
    "duration": 342,
    "start_time": "2023-02-11T10:39:32.585Z"
   },
   {
    "duration": 193,
    "start_time": "2023-02-11T10:41:19.339Z"
   },
   {
    "duration": 317,
    "start_time": "2023-02-11T10:41:25.815Z"
   },
   {
    "duration": 402,
    "start_time": "2023-02-11T10:41:34.141Z"
   },
   {
    "duration": 12,
    "start_time": "2023-02-11T11:26:06.270Z"
   },
   {
    "duration": 11,
    "start_time": "2023-02-11T11:27:02.510Z"
   },
   {
    "duration": 10,
    "start_time": "2023-02-11T11:27:20.428Z"
   },
   {
    "duration": 378,
    "start_time": "2023-02-11T11:27:33.982Z"
   },
   {
    "duration": 458,
    "start_time": "2023-02-11T11:49:27.890Z"
   },
   {
    "duration": 176,
    "start_time": "2023-02-11T11:49:53.326Z"
   },
   {
    "duration": 139,
    "start_time": "2023-02-11T11:54:33.523Z"
   },
   {
    "duration": 13,
    "start_time": "2023-02-11T11:55:31.954Z"
   },
   {
    "duration": 13,
    "start_time": "2023-02-11T11:56:04.289Z"
   },
   {
    "duration": 11,
    "start_time": "2023-02-11T12:00:06.597Z"
   },
   {
    "duration": 12,
    "start_time": "2023-02-11T12:00:39.041Z"
   },
   {
    "duration": 1283,
    "start_time": "2023-02-11T12:01:51.837Z"
   },
   {
    "duration": 1239,
    "start_time": "2023-02-11T12:03:25.857Z"
   },
   {
    "duration": 1287,
    "start_time": "2023-02-11T12:03:41.478Z"
   },
   {
    "duration": 1336,
    "start_time": "2023-02-11T12:04:22.953Z"
   },
   {
    "duration": 362,
    "start_time": "2023-02-11T12:07:48.670Z"
   },
   {
    "duration": 1414,
    "start_time": "2023-02-13T09:14:35.474Z"
   },
   {
    "duration": 107,
    "start_time": "2023-02-13T09:14:36.890Z"
   },
   {
    "duration": 12,
    "start_time": "2023-02-13T09:14:36.999Z"
   },
   {
    "duration": 8,
    "start_time": "2023-02-13T09:14:37.013Z"
   },
   {
    "duration": 17,
    "start_time": "2023-02-13T09:14:37.022Z"
   },
   {
    "duration": 6,
    "start_time": "2023-02-13T09:14:37.040Z"
   },
   {
    "duration": 70,
    "start_time": "2023-02-13T09:14:37.047Z"
   },
   {
    "duration": 35,
    "start_time": "2023-02-13T09:14:37.119Z"
   },
   {
    "duration": 4,
    "start_time": "2023-02-13T09:14:37.156Z"
   },
   {
    "duration": 44,
    "start_time": "2023-02-13T09:14:37.163Z"
   },
   {
    "duration": 381,
    "start_time": "2023-02-13T09:14:37.209Z"
   },
   {
    "duration": 365,
    "start_time": "2023-02-13T09:14:37.592Z"
   },
   {
    "duration": 342,
    "start_time": "2023-02-13T09:14:37.959Z"
   },
   {
    "duration": 1929,
    "start_time": "2023-02-13T09:16:46.792Z"
   },
   {
    "duration": 5,
    "start_time": "2023-02-13T09:17:08.427Z"
   },
   {
    "duration": 1845,
    "start_time": "2023-02-13T09:22:43.850Z"
   },
   {
    "duration": 187,
    "start_time": "2023-02-13T09:23:44.377Z"
   },
   {
    "duration": 115,
    "start_time": "2023-02-13T09:23:54.268Z"
   },
   {
    "duration": 102,
    "start_time": "2023-02-13T09:24:07.862Z"
   },
   {
    "duration": 2018,
    "start_time": "2023-02-13T09:24:16.748Z"
   },
   {
    "duration": 451,
    "start_time": "2023-02-13T09:24:33.600Z"
   },
   {
    "duration": 342,
    "start_time": "2023-02-13T09:24:47.549Z"
   },
   {
    "duration": 110,
    "start_time": "2023-02-13T09:24:52.378Z"
   },
   {
    "duration": 347,
    "start_time": "2023-02-13T09:25:09.010Z"
   },
   {
    "duration": 349,
    "start_time": "2023-02-13T09:25:15.947Z"
   },
   {
    "duration": 105,
    "start_time": "2023-02-13T09:25:26.387Z"
   },
   {
    "duration": 1996,
    "start_time": "2023-02-13T09:25:45.268Z"
   },
   {
    "duration": 1990,
    "start_time": "2023-02-13T09:26:16.936Z"
   },
   {
    "duration": 2384,
    "start_time": "2023-02-13T09:26:38.970Z"
   },
   {
    "duration": 106,
    "start_time": "2023-02-13T09:27:16.566Z"
   },
   {
    "duration": 2614,
    "start_time": "2023-02-13T09:27:32.336Z"
   },
   {
    "duration": 101,
    "start_time": "2023-02-13T09:29:38.405Z"
   },
   {
    "duration": 1409,
    "start_time": "2023-02-13T09:29:45.964Z"
   },
   {
    "duration": 2500,
    "start_time": "2023-02-13T09:29:58.944Z"
   },
   {
    "duration": 2475,
    "start_time": "2023-02-13T09:30:18.601Z"
   },
   {
    "duration": 0,
    "start_time": "2023-02-13T09:31:29.678Z"
   },
   {
    "duration": 0,
    "start_time": "2023-02-13T09:31:29.679Z"
   },
   {
    "duration": 17,
    "start_time": "2023-02-13T09:32:16.511Z"
   },
   {
    "duration": 19,
    "start_time": "2023-02-13T09:32:38.987Z"
   },
   {
    "duration": 19,
    "start_time": "2023-02-13T09:33:16.505Z"
   },
   {
    "duration": 89,
    "start_time": "2023-02-13T09:33:32.104Z"
   },
   {
    "duration": 1919,
    "start_time": "2023-02-13T09:33:38.225Z"
   },
   {
    "duration": 1869,
    "start_time": "2023-02-13T09:33:53.684Z"
   },
   {
    "duration": 1322,
    "start_time": "2023-02-13T09:35:47.997Z"
   },
   {
    "duration": 1863,
    "start_time": "2023-02-13T09:36:24.350Z"
   },
   {
    "duration": 2071,
    "start_time": "2023-02-13T09:36:32.558Z"
   },
   {
    "duration": 1955,
    "start_time": "2023-02-13T09:38:52.480Z"
   },
   {
    "duration": 109,
    "start_time": "2023-02-13T09:40:01.433Z"
   },
   {
    "duration": 76,
    "start_time": "2023-02-13T09:41:17.651Z"
   },
   {
    "duration": 1996,
    "start_time": "2023-02-13T09:41:27.922Z"
   },
   {
    "duration": 1813,
    "start_time": "2023-02-13T09:41:46.873Z"
   },
   {
    "duration": 1959,
    "start_time": "2023-02-13T09:41:52.949Z"
   },
   {
    "duration": 2111,
    "start_time": "2023-02-13T09:43:34.177Z"
   },
   {
    "duration": 1802,
    "start_time": "2023-02-13T09:43:43.233Z"
   },
   {
    "duration": 2162,
    "start_time": "2023-02-13T09:43:59.570Z"
   },
   {
    "duration": 1972,
    "start_time": "2023-02-13T09:48:56.037Z"
   },
   {
    "duration": 1832,
    "start_time": "2023-02-13T10:01:44.386Z"
   },
   {
    "duration": 2100,
    "start_time": "2023-02-13T10:02:41.501Z"
   },
   {
    "duration": 1900,
    "start_time": "2023-02-13T10:05:27.067Z"
   },
   {
    "duration": 2010,
    "start_time": "2023-02-13T10:09:12.780Z"
   },
   {
    "duration": 2079,
    "start_time": "2023-02-13T10:09:35.438Z"
   },
   {
    "duration": 1829,
    "start_time": "2023-02-13T10:10:03.132Z"
   },
   {
    "duration": 2077,
    "start_time": "2023-02-13T10:10:27.650Z"
   },
   {
    "duration": 5,
    "start_time": "2023-02-13T10:10:39.296Z"
   },
   {
    "duration": 1623,
    "start_time": "2023-02-13T10:11:42.711Z"
   },
   {
    "duration": 2051,
    "start_time": "2023-02-13T10:12:32.182Z"
   },
   {
    "duration": 1923,
    "start_time": "2023-02-13T10:13:04.181Z"
   },
   {
    "duration": 1376,
    "start_time": "2023-02-13T10:13:21.241Z"
   },
   {
    "duration": 114,
    "start_time": "2023-02-13T10:14:00.432Z"
   },
   {
    "duration": 264,
    "start_time": "2023-02-13T10:14:11.892Z"
   },
   {
    "duration": 1475,
    "start_time": "2023-02-13T10:14:18.468Z"
   },
   {
    "duration": 1945,
    "start_time": "2023-02-13T10:14:48.706Z"
   },
   {
    "duration": 1311,
    "start_time": "2023-02-13T10:21:13.592Z"
   },
   {
    "duration": 56,
    "start_time": "2023-02-13T10:21:14.906Z"
   },
   {
    "duration": 17,
    "start_time": "2023-02-13T10:21:14.964Z"
   },
   {
    "duration": 13,
    "start_time": "2023-02-13T10:21:14.983Z"
   },
   {
    "duration": 38,
    "start_time": "2023-02-13T10:21:14.998Z"
   },
   {
    "duration": 6,
    "start_time": "2023-02-13T10:21:15.037Z"
   },
   {
    "duration": 63,
    "start_time": "2023-02-13T10:21:15.045Z"
   },
   {
    "duration": 33,
    "start_time": "2023-02-13T10:21:15.109Z"
   },
   {
    "duration": 3,
    "start_time": "2023-02-13T10:21:15.144Z"
   },
   {
    "duration": 32,
    "start_time": "2023-02-13T10:21:15.149Z"
   },
   {
    "duration": 2154,
    "start_time": "2023-02-13T10:21:15.183Z"
   },
   {
    "duration": 2060,
    "start_time": "2023-02-13T10:41:36.567Z"
   },
   {
    "duration": 2193,
    "start_time": "2023-02-13T10:42:03.563Z"
   },
   {
    "duration": 1919,
    "start_time": "2023-02-13T10:47:56.027Z"
   },
   {
    "duration": 2321,
    "start_time": "2023-02-13T10:48:38.900Z"
   },
   {
    "duration": 646,
    "start_time": "2023-02-13T10:52:13.840Z"
   },
   {
    "duration": 2034,
    "start_time": "2023-02-13T10:53:03.627Z"
   },
   {
    "duration": 2181,
    "start_time": "2023-02-13T10:54:02.961Z"
   },
   {
    "duration": 2441,
    "start_time": "2023-02-13T10:55:26.554Z"
   },
   {
    "duration": 601,
    "start_time": "2023-02-13T10:55:51.658Z"
   },
   {
    "duration": 653,
    "start_time": "2023-02-13T11:00:32.863Z"
   },
   {
    "duration": 2210,
    "start_time": "2023-02-13T11:00:43.847Z"
   },
   {
    "duration": 2311,
    "start_time": "2023-02-13T11:00:53.611Z"
   },
   {
    "duration": 651,
    "start_time": "2023-02-13T11:01:03.683Z"
   },
   {
    "duration": 686,
    "start_time": "2023-02-13T11:01:39.162Z"
   },
   {
    "duration": 121,
    "start_time": "2023-02-13T11:02:12.837Z"
   },
   {
    "duration": 113,
    "start_time": "2023-02-13T11:02:25.009Z"
   },
   {
    "duration": 636,
    "start_time": "2023-02-13T11:03:00.176Z"
   },
   {
    "duration": 2138,
    "start_time": "2023-02-13T12:05:50.983Z"
   },
   {
    "duration": 1830,
    "start_time": "2023-02-13T12:06:07.211Z"
   },
   {
    "duration": 2273,
    "start_time": "2023-02-13T12:06:28.843Z"
   },
   {
    "duration": 2114,
    "start_time": "2023-02-13T12:06:50.950Z"
   },
   {
    "duration": 2516,
    "start_time": "2023-02-13T12:07:25.877Z"
   },
   {
    "duration": 790,
    "start_time": "2023-02-13T12:09:09.213Z"
   },
   {
    "duration": 658,
    "start_time": "2023-02-13T12:09:50.306Z"
   },
   {
    "duration": 16,
    "start_time": "2023-02-13T12:11:14.213Z"
   },
   {
    "duration": 15,
    "start_time": "2023-02-13T12:11:22.773Z"
   },
   {
    "duration": 1140,
    "start_time": "2023-02-13T12:11:42.197Z"
   },
   {
    "duration": 16,
    "start_time": "2023-02-13T12:12:03.749Z"
   },
   {
    "duration": 299,
    "start_time": "2023-02-13T12:12:12.263Z"
   },
   {
    "duration": 1960,
    "start_time": "2023-02-13T12:12:26.351Z"
   },
   {
    "duration": 10,
    "start_time": "2023-02-13T12:13:37.983Z"
   },
   {
    "duration": 4,
    "start_time": "2023-02-13T12:13:49.728Z"
   },
   {
    "duration": 12,
    "start_time": "2023-02-13T12:14:01.678Z"
   },
   {
    "duration": 1953,
    "start_time": "2023-02-13T12:14:56.392Z"
   },
   {
    "duration": 11,
    "start_time": "2023-02-13T12:15:10.084Z"
   },
   {
    "duration": 11,
    "start_time": "2023-02-13T12:15:33.798Z"
   },
   {
    "duration": 637,
    "start_time": "2023-02-13T12:16:51.290Z"
   },
   {
    "duration": 1664,
    "start_time": "2023-02-13T12:17:25.494Z"
   },
   {
    "duration": 639,
    "start_time": "2023-02-13T12:17:40.957Z"
   },
   {
    "duration": 798,
    "start_time": "2023-02-13T12:19:10.081Z"
   },
   {
    "duration": 126,
    "start_time": "2023-02-13T12:21:10.665Z"
   },
   {
    "duration": 994,
    "start_time": "2023-02-13T12:21:50.788Z"
   },
   {
    "duration": 20,
    "start_time": "2023-02-13T12:22:22.696Z"
   },
   {
    "duration": 400,
    "start_time": "2023-02-13T12:22:32.039Z"
   },
   {
    "duration": 758,
    "start_time": "2023-02-13T12:23:46.413Z"
   },
   {
    "duration": 7,
    "start_time": "2023-02-13T12:24:42.423Z"
   },
   {
    "duration": 5015,
    "start_time": "2023-02-13T12:24:45.084Z"
   },
   {
    "duration": 4292,
    "start_time": "2023-02-13T12:25:09.852Z"
   },
   {
    "duration": 6,
    "start_time": "2023-02-13T12:26:56.342Z"
   },
   {
    "duration": 370,
    "start_time": "2023-02-13T12:26:58.809Z"
   },
   {
    "duration": 375,
    "start_time": "2023-02-13T12:27:45.551Z"
   },
   {
    "duration": 4084,
    "start_time": "2023-02-13T12:34:59.607Z"
   },
   {
    "duration": 4226,
    "start_time": "2023-02-13T12:35:10.982Z"
   },
   {
    "duration": 123,
    "start_time": "2023-02-13T12:36:25.893Z"
   },
   {
    "duration": 1225,
    "start_time": "2023-02-13T12:36:41.506Z"
   },
   {
    "duration": 54,
    "start_time": "2023-02-13T12:36:42.733Z"
   },
   {
    "duration": 12,
    "start_time": "2023-02-13T12:36:42.789Z"
   },
   {
    "duration": 14,
    "start_time": "2023-02-13T12:36:42.803Z"
   },
   {
    "duration": 16,
    "start_time": "2023-02-13T12:36:42.818Z"
   },
   {
    "duration": 6,
    "start_time": "2023-02-13T12:36:42.836Z"
   },
   {
    "duration": 72,
    "start_time": "2023-02-13T12:36:42.844Z"
   },
   {
    "duration": 29,
    "start_time": "2023-02-13T12:36:42.918Z"
   },
   {
    "duration": 4,
    "start_time": "2023-02-13T12:36:42.948Z"
   },
   {
    "duration": 48,
    "start_time": "2023-02-13T12:36:42.954Z"
   },
   {
    "duration": 2313,
    "start_time": "2023-02-13T12:36:43.004Z"
   },
   {
    "duration": 716,
    "start_time": "2023-02-13T12:36:45.319Z"
   },
   {
    "duration": 1081,
    "start_time": "2023-02-13T12:36:46.036Z"
   },
   {
    "duration": 1239,
    "start_time": "2023-02-13T12:37:53.774Z"
   },
   {
    "duration": 1664,
    "start_time": "2023-02-13T12:38:20.668Z"
   },
   {
    "duration": 2612,
    "start_time": "2023-02-13T12:38:58.921Z"
   },
   {
    "duration": 3059,
    "start_time": "2023-02-13T12:39:13.051Z"
   },
   {
    "duration": 3783,
    "start_time": "2023-02-13T12:39:33.586Z"
   },
   {
    "duration": 2284,
    "start_time": "2023-02-13T12:40:12.849Z"
   },
   {
    "duration": 7,
    "start_time": "2023-02-13T12:40:33.773Z"
   },
   {
    "duration": 4125,
    "start_time": "2023-02-13T12:40:36.679Z"
   },
   {
    "duration": 4296,
    "start_time": "2023-02-13T12:40:53.108Z"
   },
   {
    "duration": 4287,
    "start_time": "2023-02-13T12:42:04.050Z"
   },
   {
    "duration": 2648,
    "start_time": "2023-02-13T12:45:25.892Z"
   },
   {
    "duration": 2597,
    "start_time": "2023-02-13T12:45:39.251Z"
   },
   {
    "duration": 2403,
    "start_time": "2023-02-13T12:45:49.260Z"
   },
   {
    "duration": 2375,
    "start_time": "2023-02-13T12:46:02.776Z"
   },
   {
    "duration": 2570,
    "start_time": "2023-02-13T12:46:17.016Z"
   },
   {
    "duration": 1087,
    "start_time": "2023-02-13T12:46:58.847Z"
   },
   {
    "duration": 2625,
    "start_time": "2023-02-13T12:54:03.561Z"
   },
   {
    "duration": 2590,
    "start_time": "2023-02-13T12:54:10.548Z"
   },
   {
    "duration": 621,
    "start_time": "2023-02-13T12:54:25.258Z"
   },
   {
    "duration": 701,
    "start_time": "2023-02-13T12:54:45.712Z"
   },
   {
    "duration": 689,
    "start_time": "2023-02-13T12:54:55.997Z"
   },
   {
    "duration": 5,
    "start_time": "2023-02-13T12:56:31.066Z"
   },
   {
    "duration": 742,
    "start_time": "2023-02-13T12:56:33.656Z"
   },
   {
    "duration": 13,
    "start_time": "2023-02-13T12:59:22.997Z"
   },
   {
    "duration": 19,
    "start_time": "2023-02-13T12:59:25.834Z"
   },
   {
    "duration": 13,
    "start_time": "2023-02-13T12:59:42.481Z"
   },
   {
    "duration": 14,
    "start_time": "2023-02-13T12:59:45.162Z"
   },
   {
    "duration": 14,
    "start_time": "2023-02-13T13:00:20.293Z"
   },
   {
    "duration": 13,
    "start_time": "2023-02-13T13:00:23.080Z"
   },
   {
    "duration": 2,
    "start_time": "2023-02-13T13:01:01.589Z"
   },
   {
    "duration": 15,
    "start_time": "2023-02-13T13:01:03.515Z"
   },
   {
    "duration": 1250,
    "start_time": "2023-02-13T13:01:08.774Z"
   },
   {
    "duration": 57,
    "start_time": "2023-02-13T13:01:10.026Z"
   },
   {
    "duration": 12,
    "start_time": "2023-02-13T13:01:10.084Z"
   },
   {
    "duration": 4,
    "start_time": "2023-02-13T13:01:10.099Z"
   },
   {
    "duration": 18,
    "start_time": "2023-02-13T13:01:10.105Z"
   },
   {
    "duration": 24,
    "start_time": "2023-02-13T13:01:10.125Z"
   },
   {
    "duration": 61,
    "start_time": "2023-02-13T13:01:10.150Z"
   },
   {
    "duration": 33,
    "start_time": "2023-02-13T13:01:10.212Z"
   },
   {
    "duration": 3,
    "start_time": "2023-02-13T13:01:10.247Z"
   },
   {
    "duration": 14,
    "start_time": "2023-02-13T13:01:10.252Z"
   },
   {
    "duration": 39,
    "start_time": "2023-02-13T13:01:10.268Z"
   },
   {
    "duration": 2284,
    "start_time": "2023-02-13T13:01:10.309Z"
   },
   {
    "duration": 708,
    "start_time": "2023-02-13T13:01:12.595Z"
   },
   {
    "duration": 1112,
    "start_time": "2023-02-13T13:01:13.305Z"
   },
   {
    "duration": 5,
    "start_time": "2023-02-13T13:01:23.369Z"
   },
   {
    "duration": 101,
    "start_time": "2023-02-13T13:01:25.379Z"
   },
   {
    "duration": 2,
    "start_time": "2023-02-13T13:01:31.854Z"
   },
   {
    "duration": 13,
    "start_time": "2023-02-13T13:01:33.593Z"
   },
   {
    "duration": 1166,
    "start_time": "2023-02-13T13:01:55.960Z"
   },
   {
    "duration": 62,
    "start_time": "2023-02-13T13:01:57.128Z"
   },
   {
    "duration": 15,
    "start_time": "2023-02-13T13:01:57.192Z"
   },
   {
    "duration": 23,
    "start_time": "2023-02-13T13:01:57.210Z"
   },
   {
    "duration": 18,
    "start_time": "2023-02-13T13:01:57.234Z"
   },
   {
    "duration": 5,
    "start_time": "2023-02-13T13:01:57.254Z"
   },
   {
    "duration": 54,
    "start_time": "2023-02-13T13:01:57.260Z"
   },
   {
    "duration": 31,
    "start_time": "2023-02-13T13:01:57.316Z"
   },
   {
    "duration": 4,
    "start_time": "2023-02-13T13:01:57.349Z"
   },
   {
    "duration": 6,
    "start_time": "2023-02-13T13:01:57.355Z"
   },
   {
    "duration": 44,
    "start_time": "2023-02-13T13:01:57.362Z"
   },
   {
    "duration": 2494,
    "start_time": "2023-02-13T13:01:57.407Z"
   },
   {
    "duration": 773,
    "start_time": "2023-02-13T13:01:59.903Z"
   },
   {
    "duration": 997,
    "start_time": "2023-02-13T13:02:00.678Z"
   },
   {
    "duration": 104,
    "start_time": "2023-02-13T13:02:04.771Z"
   },
   {
    "duration": 13,
    "start_time": "2023-02-13T13:02:10.037Z"
   },
   {
    "duration": 1192,
    "start_time": "2023-02-13T13:02:26.736Z"
   },
   {
    "duration": 57,
    "start_time": "2023-02-13T13:02:27.930Z"
   },
   {
    "duration": 12,
    "start_time": "2023-02-13T13:02:27.989Z"
   },
   {
    "duration": 4,
    "start_time": "2023-02-13T13:02:28.004Z"
   },
   {
    "duration": 14,
    "start_time": "2023-02-13T13:02:28.010Z"
   },
   {
    "duration": 16,
    "start_time": "2023-02-13T13:02:28.025Z"
   },
   {
    "duration": 58,
    "start_time": "2023-02-13T13:02:28.043Z"
   },
   {
    "duration": 32,
    "start_time": "2023-02-13T13:02:28.102Z"
   },
   {
    "duration": 3,
    "start_time": "2023-02-13T13:02:28.136Z"
   },
   {
    "duration": 6,
    "start_time": "2023-02-13T13:02:28.141Z"
   },
   {
    "duration": 30,
    "start_time": "2023-02-13T13:02:28.148Z"
   },
   {
    "duration": 2373,
    "start_time": "2023-02-13T13:02:28.180Z"
   },
   {
    "duration": 729,
    "start_time": "2023-02-13T13:02:30.555Z"
   },
   {
    "duration": 1011,
    "start_time": "2023-02-13T13:02:31.286Z"
   },
   {
    "duration": 30,
    "start_time": "2023-02-13T13:03:02.471Z"
   },
   {
    "duration": 634,
    "start_time": "2023-02-13T13:03:48.892Z"
   },
   {
    "duration": 2686,
    "start_time": "2023-02-13T13:04:33.466Z"
   },
   {
    "duration": 6,
    "start_time": "2023-02-13T13:09:12.921Z"
   },
   {
    "duration": 2412,
    "start_time": "2023-02-13T13:10:27.140Z"
   },
   {
    "duration": 610,
    "start_time": "2023-02-13T13:10:45.168Z"
   },
   {
    "duration": 100,
    "start_time": "2023-02-13T13:12:22.549Z"
   },
   {
    "duration": 32,
    "start_time": "2023-02-13T13:12:26.306Z"
   },
   {
    "duration": 12,
    "start_time": "2023-02-13T13:12:39.398Z"
   },
   {
    "duration": 1447,
    "start_time": "2023-02-13T18:54:18.429Z"
   },
   {
    "duration": 187,
    "start_time": "2023-02-13T18:54:19.878Z"
   },
   {
    "duration": 12,
    "start_time": "2023-02-13T18:54:20.066Z"
   },
   {
    "duration": 7,
    "start_time": "2023-02-13T18:54:20.080Z"
   },
   {
    "duration": 13,
    "start_time": "2023-02-13T18:54:20.089Z"
   },
   {
    "duration": 6,
    "start_time": "2023-02-13T18:54:20.104Z"
   },
   {
    "duration": 72,
    "start_time": "2023-02-13T18:54:20.112Z"
   },
   {
    "duration": 53,
    "start_time": "2023-02-13T18:54:20.186Z"
   },
   {
    "duration": 3,
    "start_time": "2023-02-13T18:54:20.241Z"
   },
   {
    "duration": 42,
    "start_time": "2023-02-13T18:54:20.246Z"
   },
   {
    "duration": 30,
    "start_time": "2023-02-13T18:54:20.290Z"
   },
   {
    "duration": 2670,
    "start_time": "2023-02-13T18:54:20.322Z"
   },
   {
    "duration": 740,
    "start_time": "2023-02-13T18:54:22.994Z"
   },
   {
    "duration": 1019,
    "start_time": "2023-02-13T18:54:23.738Z"
   },
   {
    "duration": 5,
    "start_time": "2023-02-13T19:00:25.469Z"
   },
   {
    "duration": 1277,
    "start_time": "2023-02-13T19:01:50.714Z"
   },
   {
    "duration": 64,
    "start_time": "2023-02-13T19:01:51.993Z"
   },
   {
    "duration": 13,
    "start_time": "2023-02-13T19:01:52.059Z"
   },
   {
    "duration": 8,
    "start_time": "2023-02-13T19:01:52.074Z"
   },
   {
    "duration": 23,
    "start_time": "2023-02-13T19:01:52.083Z"
   },
   {
    "duration": 5,
    "start_time": "2023-02-13T19:01:52.108Z"
   },
   {
    "duration": 70,
    "start_time": "2023-02-13T19:01:52.114Z"
   },
   {
    "duration": 30,
    "start_time": "2023-02-13T19:01:52.186Z"
   },
   {
    "duration": 3,
    "start_time": "2023-02-13T19:01:52.217Z"
   },
   {
    "duration": 17,
    "start_time": "2023-02-13T19:01:52.223Z"
   },
   {
    "duration": 35,
    "start_time": "2023-02-13T19:01:52.242Z"
   },
   {
    "duration": 28,
    "start_time": "2023-02-13T19:01:52.278Z"
   },
   {
    "duration": 2424,
    "start_time": "2023-02-13T19:01:52.308Z"
   },
   {
    "duration": 825,
    "start_time": "2023-02-13T19:01:54.734Z"
   },
   {
    "duration": 1081,
    "start_time": "2023-02-13T19:01:55.561Z"
   },
   {
    "duration": 350,
    "start_time": "2023-02-13T19:02:41.690Z"
   },
   {
    "duration": 2629,
    "start_time": "2023-02-13T19:03:20.862Z"
   },
   {
    "duration": 1242,
    "start_time": "2023-02-13T19:03:38.613Z"
   },
   {
    "duration": 58,
    "start_time": "2023-02-13T19:03:39.857Z"
   },
   {
    "duration": 12,
    "start_time": "2023-02-13T19:03:39.919Z"
   },
   {
    "duration": 4,
    "start_time": "2023-02-13T19:03:39.933Z"
   },
   {
    "duration": 26,
    "start_time": "2023-02-13T19:03:39.939Z"
   },
   {
    "duration": 5,
    "start_time": "2023-02-13T19:03:39.966Z"
   },
   {
    "duration": 48,
    "start_time": "2023-02-13T19:03:39.973Z"
   },
   {
    "duration": 33,
    "start_time": "2023-02-13T19:03:40.023Z"
   },
   {
    "duration": 3,
    "start_time": "2023-02-13T19:03:40.059Z"
   },
   {
    "duration": 32,
    "start_time": "2023-02-13T19:03:40.063Z"
   },
   {
    "duration": 45,
    "start_time": "2023-02-13T19:03:40.096Z"
   },
   {
    "duration": 2349,
    "start_time": "2023-02-13T19:03:40.143Z"
   },
   {
    "duration": 722,
    "start_time": "2023-02-13T19:03:42.493Z"
   },
   {
    "duration": 1016,
    "start_time": "2023-02-13T19:03:43.216Z"
   },
   {
    "duration": 1236,
    "start_time": "2023-02-13T19:05:47.857Z"
   },
   {
    "duration": 65,
    "start_time": "2023-02-13T19:05:49.095Z"
   },
   {
    "duration": 13,
    "start_time": "2023-02-13T19:05:49.162Z"
   },
   {
    "duration": 7,
    "start_time": "2023-02-13T19:05:49.177Z"
   },
   {
    "duration": 17,
    "start_time": "2023-02-13T19:05:49.185Z"
   },
   {
    "duration": 15,
    "start_time": "2023-02-13T19:05:49.204Z"
   },
   {
    "duration": 65,
    "start_time": "2023-02-13T19:05:49.222Z"
   },
   {
    "duration": 31,
    "start_time": "2023-02-13T19:05:49.288Z"
   },
   {
    "duration": 19,
    "start_time": "2023-02-13T19:05:49.320Z"
   },
   {
    "duration": 35,
    "start_time": "2023-02-13T19:05:49.341Z"
   },
   {
    "duration": 29,
    "start_time": "2023-02-13T19:05:49.377Z"
   },
   {
    "duration": 2488,
    "start_time": "2023-02-13T19:05:49.407Z"
   },
   {
    "duration": 802,
    "start_time": "2023-02-13T19:05:51.897Z"
   },
   {
    "duration": 1043,
    "start_time": "2023-02-13T19:05:52.701Z"
   },
   {
    "duration": 1006,
    "start_time": "2023-02-13T19:06:39.270Z"
   },
   {
    "duration": 32,
    "start_time": "2023-02-13T19:09:43.477Z"
   },
   {
    "duration": 1208,
    "start_time": "2023-02-13T19:09:52.984Z"
   },
   {
    "duration": 65,
    "start_time": "2023-02-13T19:09:54.194Z"
   },
   {
    "duration": 12,
    "start_time": "2023-02-13T19:09:54.260Z"
   },
   {
    "duration": 5,
    "start_time": "2023-02-13T19:09:54.274Z"
   },
   {
    "duration": 35,
    "start_time": "2023-02-13T19:09:54.281Z"
   },
   {
    "duration": 18,
    "start_time": "2023-02-13T19:09:54.318Z"
   },
   {
    "duration": 80,
    "start_time": "2023-02-13T19:09:54.338Z"
   },
   {
    "duration": 33,
    "start_time": "2023-02-13T19:09:54.419Z"
   },
   {
    "duration": 3,
    "start_time": "2023-02-13T19:09:54.454Z"
   },
   {
    "duration": 56,
    "start_time": "2023-02-13T19:09:54.460Z"
   },
   {
    "duration": 29,
    "start_time": "2023-02-13T19:09:54.517Z"
   },
   {
    "duration": 2513,
    "start_time": "2023-02-13T19:09:54.547Z"
   },
   {
    "duration": 771,
    "start_time": "2023-02-13T19:09:57.062Z"
   },
   {
    "duration": 1096,
    "start_time": "2023-02-13T19:09:57.835Z"
   },
   {
    "duration": 836,
    "start_time": "2023-02-13T19:13:15.020Z"
   },
   {
    "duration": 700,
    "start_time": "2023-02-13T19:17:02.948Z"
   },
   {
    "duration": 119,
    "start_time": "2023-02-13T19:28:00.897Z"
   },
   {
    "duration": 1061,
    "start_time": "2023-02-13T19:29:56.069Z"
   },
   {
    "duration": 11,
    "start_time": "2023-02-13T19:33:34.310Z"
   },
   {
    "duration": 1010,
    "start_time": "2023-02-13T19:35:07.207Z"
   },
   {
    "duration": 5,
    "start_time": "2023-02-13T19:42:12.594Z"
   },
   {
    "duration": 4,
    "start_time": "2023-02-13T19:42:25.734Z"
   },
   {
    "duration": 14,
    "start_time": "2023-02-13T19:42:28.695Z"
   },
   {
    "duration": 1314,
    "start_time": "2023-02-13T19:42:34.803Z"
   },
   {
    "duration": 67,
    "start_time": "2023-02-13T19:42:36.119Z"
   },
   {
    "duration": 15,
    "start_time": "2023-02-13T19:42:36.187Z"
   },
   {
    "duration": 5,
    "start_time": "2023-02-13T19:42:36.204Z"
   },
   {
    "duration": 27,
    "start_time": "2023-02-13T19:42:36.211Z"
   },
   {
    "duration": 5,
    "start_time": "2023-02-13T19:42:36.240Z"
   },
   {
    "duration": 69,
    "start_time": "2023-02-13T19:42:36.247Z"
   },
   {
    "duration": 41,
    "start_time": "2023-02-13T19:42:36.318Z"
   },
   {
    "duration": 3,
    "start_time": "2023-02-13T19:42:36.361Z"
   },
   {
    "duration": 9,
    "start_time": "2023-02-13T19:42:36.366Z"
   },
   {
    "duration": 39,
    "start_time": "2023-02-13T19:42:36.376Z"
   },
   {
    "duration": 1001,
    "start_time": "2023-02-13T19:42:36.417Z"
   },
   {
    "duration": 0,
    "start_time": "2023-02-13T19:42:37.420Z"
   },
   {
    "duration": 0,
    "start_time": "2023-02-13T19:42:37.422Z"
   },
   {
    "duration": 0,
    "start_time": "2023-02-13T19:42:37.423Z"
   },
   {
    "duration": 0,
    "start_time": "2023-02-13T19:42:37.424Z"
   },
   {
    "duration": 29,
    "start_time": "2023-02-13T19:43:04.242Z"
   },
   {
    "duration": 2581,
    "start_time": "2023-02-13T19:43:12.079Z"
   },
   {
    "duration": 991,
    "start_time": "2023-02-13T19:43:21.862Z"
   },
   {
    "duration": 668,
    "start_time": "2023-02-13T19:43:29.459Z"
   },
   {
    "duration": 1042,
    "start_time": "2023-02-13T19:43:39.327Z"
   },
   {
    "duration": 995,
    "start_time": "2023-02-13T19:43:45.280Z"
   },
   {
    "duration": 14,
    "start_time": "2023-02-13T19:45:04.772Z"
   },
   {
    "duration": 10,
    "start_time": "2023-02-13T19:45:19.148Z"
   },
   {
    "duration": 1206,
    "start_time": "2023-02-13T19:46:09.135Z"
   },
   {
    "duration": 56529,
    "start_time": "2023-02-13T19:47:14.208Z"
   },
   {
    "duration": 342,
    "start_time": "2023-02-13T19:48:10.740Z"
   },
   {
    "duration": 1174,
    "start_time": "2023-02-13T19:48:24.435Z"
   },
   {
    "duration": 58,
    "start_time": "2023-02-13T19:49:50.102Z"
   },
   {
    "duration": 16,
    "start_time": "2023-02-13T19:49:57.180Z"
   },
   {
    "duration": 975,
    "start_time": "2023-02-13T19:50:05.150Z"
   },
   {
    "duration": 977,
    "start_time": "2023-02-13T19:50:20.669Z"
   },
   {
    "duration": 1513,
    "start_time": "2023-02-14T09:31:34.041Z"
   },
   {
    "duration": 205,
    "start_time": "2023-02-14T09:31:35.557Z"
   },
   {
    "duration": 13,
    "start_time": "2023-02-14T09:31:35.764Z"
   },
   {
    "duration": 5,
    "start_time": "2023-02-14T09:31:35.779Z"
   },
   {
    "duration": 11,
    "start_time": "2023-02-14T09:31:35.786Z"
   },
   {
    "duration": 5,
    "start_time": "2023-02-14T09:31:35.799Z"
   },
   {
    "duration": 63,
    "start_time": "2023-02-14T09:31:35.805Z"
   },
   {
    "duration": 51,
    "start_time": "2023-02-14T09:31:35.870Z"
   },
   {
    "duration": 4,
    "start_time": "2023-02-14T09:31:35.923Z"
   },
   {
    "duration": 7,
    "start_time": "2023-02-14T09:31:35.928Z"
   },
   {
    "duration": 31,
    "start_time": "2023-02-14T09:31:35.936Z"
   },
   {
    "duration": 60,
    "start_time": "2023-02-14T09:31:35.970Z"
   },
   {
    "duration": 2404,
    "start_time": "2023-02-14T09:31:36.032Z"
   },
   {
    "duration": 752,
    "start_time": "2023-02-14T09:31:38.440Z"
   },
   {
    "duration": 1013,
    "start_time": "2023-02-14T09:31:39.194Z"
   },
   {
    "duration": 927,
    "start_time": "2023-02-14T09:31:40.209Z"
   },
   {
    "duration": 114,
    "start_time": "2023-02-14T09:31:41.138Z"
   },
   {
    "duration": 0,
    "start_time": "2023-02-14T09:31:41.254Z"
   },
   {
    "duration": 0,
    "start_time": "2023-02-14T09:31:41.256Z"
   },
   {
    "duration": 12,
    "start_time": "2023-02-14T09:35:08.430Z"
   },
   {
    "duration": 1352,
    "start_time": "2023-02-14T09:35:36.092Z"
   },
   {
    "duration": 78,
    "start_time": "2023-02-14T09:35:37.446Z"
   },
   {
    "duration": 13,
    "start_time": "2023-02-14T09:35:37.526Z"
   },
   {
    "duration": 5,
    "start_time": "2023-02-14T09:35:37.542Z"
   },
   {
    "duration": 17,
    "start_time": "2023-02-14T09:35:37.548Z"
   },
   {
    "duration": 5,
    "start_time": "2023-02-14T09:35:37.567Z"
   },
   {
    "duration": 78,
    "start_time": "2023-02-14T09:35:37.574Z"
   },
   {
    "duration": 36,
    "start_time": "2023-02-14T09:35:37.654Z"
   },
   {
    "duration": 3,
    "start_time": "2023-02-14T09:35:37.692Z"
   },
   {
    "duration": 26,
    "start_time": "2023-02-14T09:35:37.698Z"
   },
   {
    "duration": 37,
    "start_time": "2023-02-14T09:35:37.725Z"
   },
   {
    "duration": 127,
    "start_time": "2023-02-14T09:35:37.763Z"
   },
   {
    "duration": 0,
    "start_time": "2023-02-14T09:35:37.892Z"
   },
   {
    "duration": 0,
    "start_time": "2023-02-14T09:35:37.893Z"
   },
   {
    "duration": 0,
    "start_time": "2023-02-14T09:35:37.894Z"
   },
   {
    "duration": 0,
    "start_time": "2023-02-14T09:35:37.896Z"
   },
   {
    "duration": 0,
    "start_time": "2023-02-14T09:35:37.897Z"
   },
   {
    "duration": 0,
    "start_time": "2023-02-14T09:35:37.898Z"
   },
   {
    "duration": 0,
    "start_time": "2023-02-14T09:35:37.899Z"
   },
   {
    "duration": 29,
    "start_time": "2023-02-14T09:36:46.795Z"
   },
   {
    "duration": 1283,
    "start_time": "2023-02-14T09:37:01.615Z"
   },
   {
    "duration": 66,
    "start_time": "2023-02-14T09:37:02.900Z"
   },
   {
    "duration": 15,
    "start_time": "2023-02-14T09:37:02.968Z"
   },
   {
    "duration": 6,
    "start_time": "2023-02-14T09:37:02.985Z"
   },
   {
    "duration": 13,
    "start_time": "2023-02-14T09:37:02.993Z"
   },
   {
    "duration": 5,
    "start_time": "2023-02-14T09:37:03.020Z"
   },
   {
    "duration": 57,
    "start_time": "2023-02-14T09:37:03.027Z"
   },
   {
    "duration": 36,
    "start_time": "2023-02-14T09:37:03.086Z"
   },
   {
    "duration": 3,
    "start_time": "2023-02-14T09:37:03.124Z"
   },
   {
    "duration": 5,
    "start_time": "2023-02-14T09:37:03.130Z"
   },
   {
    "duration": 30,
    "start_time": "2023-02-14T09:37:03.137Z"
   },
   {
    "duration": 29,
    "start_time": "2023-02-14T09:37:03.169Z"
   },
   {
    "duration": 2640,
    "start_time": "2023-02-14T09:37:03.200Z"
   },
   {
    "duration": 769,
    "start_time": "2023-02-14T09:37:05.842Z"
   },
   {
    "duration": 1047,
    "start_time": "2023-02-14T09:37:06.612Z"
   },
   {
    "duration": 954,
    "start_time": "2023-02-14T09:37:07.661Z"
   },
   {
    "duration": 111,
    "start_time": "2023-02-14T09:37:08.617Z"
   },
   {
    "duration": 0,
    "start_time": "2023-02-14T09:37:08.730Z"
   },
   {
    "duration": 0,
    "start_time": "2023-02-14T09:37:08.731Z"
   },
   {
    "duration": 26,
    "start_time": "2023-02-14T09:38:18.993Z"
   },
   {
    "duration": 1278,
    "start_time": "2023-02-14T09:38:39.584Z"
   },
   {
    "duration": 65,
    "start_time": "2023-02-14T09:38:40.864Z"
   },
   {
    "duration": 13,
    "start_time": "2023-02-14T09:38:40.930Z"
   },
   {
    "duration": 4,
    "start_time": "2023-02-14T09:38:40.945Z"
   },
   {
    "duration": 12,
    "start_time": "2023-02-14T09:38:40.952Z"
   },
   {
    "duration": 5,
    "start_time": "2023-02-14T09:38:40.965Z"
   },
   {
    "duration": 81,
    "start_time": "2023-02-14T09:38:40.972Z"
   },
   {
    "duration": 31,
    "start_time": "2023-02-14T09:38:41.054Z"
   },
   {
    "duration": 4,
    "start_time": "2023-02-14T09:38:41.086Z"
   },
   {
    "duration": 16,
    "start_time": "2023-02-14T09:38:41.091Z"
   },
   {
    "duration": 37,
    "start_time": "2023-02-14T09:38:41.109Z"
   },
   {
    "duration": 28,
    "start_time": "2023-02-14T09:38:41.148Z"
   },
   {
    "duration": 2454,
    "start_time": "2023-02-14T09:38:41.178Z"
   },
   {
    "duration": 781,
    "start_time": "2023-02-14T09:38:43.635Z"
   },
   {
    "duration": 1131,
    "start_time": "2023-02-14T09:38:44.418Z"
   },
   {
    "duration": 931,
    "start_time": "2023-02-14T09:38:45.551Z"
   },
   {
    "duration": 117,
    "start_time": "2023-02-14T09:38:46.484Z"
   },
   {
    "duration": 0,
    "start_time": "2023-02-14T09:38:46.604Z"
   },
   {
    "duration": 0,
    "start_time": "2023-02-14T09:38:46.605Z"
   },
   {
    "duration": 1313,
    "start_time": "2023-02-14T09:40:31.482Z"
   },
   {
    "duration": 65,
    "start_time": "2023-02-14T09:40:32.798Z"
   },
   {
    "duration": 15,
    "start_time": "2023-02-14T09:40:32.865Z"
   },
   {
    "duration": 5,
    "start_time": "2023-02-14T09:40:32.882Z"
   },
   {
    "duration": 32,
    "start_time": "2023-02-14T09:40:32.890Z"
   },
   {
    "duration": 5,
    "start_time": "2023-02-14T09:40:32.924Z"
   },
   {
    "duration": 56,
    "start_time": "2023-02-14T09:40:32.931Z"
   },
   {
    "duration": 56,
    "start_time": "2023-02-14T09:40:32.989Z"
   },
   {
    "duration": 3,
    "start_time": "2023-02-14T09:40:33.047Z"
   },
   {
    "duration": 6,
    "start_time": "2023-02-14T09:40:33.052Z"
   },
   {
    "duration": 33,
    "start_time": "2023-02-14T09:40:33.060Z"
   },
   {
    "duration": 2557,
    "start_time": "2023-02-14T09:40:33.095Z"
   },
   {
    "duration": 753,
    "start_time": "2023-02-14T09:40:35.654Z"
   },
   {
    "duration": 1054,
    "start_time": "2023-02-14T09:40:36.410Z"
   },
   {
    "duration": 1340,
    "start_time": "2023-02-14T09:40:37.466Z"
   },
   {
    "duration": 116,
    "start_time": "2023-02-14T09:40:38.808Z"
   },
   {
    "duration": 0,
    "start_time": "2023-02-14T09:40:38.926Z"
   },
   {
    "duration": 0,
    "start_time": "2023-02-14T09:40:38.927Z"
   },
   {
    "duration": 1584,
    "start_time": "2023-02-14T09:41:06.433Z"
   },
   {
    "duration": 1294,
    "start_time": "2023-02-14T09:41:12.559Z"
   },
   {
    "duration": 1400,
    "start_time": "2023-02-14T09:41:29.422Z"
   },
   {
    "duration": 1390,
    "start_time": "2023-02-14T09:41:40.294Z"
   },
   {
    "duration": 1491,
    "start_time": "2023-02-14T09:41:48.755Z"
   },
   {
    "duration": 1393,
    "start_time": "2023-02-14T09:42:00.395Z"
   },
   {
    "duration": 1564,
    "start_time": "2023-02-14T09:42:34.263Z"
   },
   {
    "duration": 1288,
    "start_time": "2023-02-14T09:42:42.489Z"
   },
   {
    "duration": 61,
    "start_time": "2023-02-14T09:42:43.779Z"
   },
   {
    "duration": 14,
    "start_time": "2023-02-14T09:42:43.842Z"
   },
   {
    "duration": 5,
    "start_time": "2023-02-14T09:42:43.858Z"
   },
   {
    "duration": 10,
    "start_time": "2023-02-14T09:42:43.865Z"
   },
   {
    "duration": 5,
    "start_time": "2023-02-14T09:42:43.877Z"
   },
   {
    "duration": 83,
    "start_time": "2023-02-14T09:42:43.884Z"
   },
   {
    "duration": 31,
    "start_time": "2023-02-14T09:42:43.968Z"
   },
   {
    "duration": 3,
    "start_time": "2023-02-14T09:42:44.001Z"
   },
   {
    "duration": 4,
    "start_time": "2023-02-14T09:42:44.022Z"
   },
   {
    "duration": 33,
    "start_time": "2023-02-14T09:42:44.027Z"
   },
   {
    "duration": 2490,
    "start_time": "2023-02-14T09:42:44.062Z"
   },
   {
    "duration": 779,
    "start_time": "2023-02-14T09:42:46.555Z"
   },
   {
    "duration": 1114,
    "start_time": "2023-02-14T09:42:47.336Z"
   },
   {
    "duration": 1322,
    "start_time": "2023-02-14T09:42:48.452Z"
   },
   {
    "duration": 116,
    "start_time": "2023-02-14T09:42:49.777Z"
   },
   {
    "duration": 0,
    "start_time": "2023-02-14T09:42:49.895Z"
   },
   {
    "duration": 0,
    "start_time": "2023-02-14T09:42:49.898Z"
   },
   {
    "duration": 1582,
    "start_time": "2023-02-14T09:42:59.300Z"
   },
   {
    "duration": 1307,
    "start_time": "2023-02-14T09:43:06.675Z"
   },
   {
    "duration": 5,
    "start_time": "2023-02-14T09:48:46.917Z"
   },
   {
    "duration": 1234,
    "start_time": "2023-02-14T09:48:51.332Z"
   },
   {
    "duration": 60,
    "start_time": "2023-02-14T09:48:52.567Z"
   },
   {
    "duration": 13,
    "start_time": "2023-02-14T09:48:52.629Z"
   },
   {
    "duration": 5,
    "start_time": "2023-02-14T09:48:52.644Z"
   },
   {
    "duration": 11,
    "start_time": "2023-02-14T09:48:52.651Z"
   },
   {
    "duration": 5,
    "start_time": "2023-02-14T09:48:52.663Z"
   },
   {
    "duration": 76,
    "start_time": "2023-02-14T09:48:52.669Z"
   },
   {
    "duration": 31,
    "start_time": "2023-02-14T09:48:52.746Z"
   },
   {
    "duration": 4,
    "start_time": "2023-02-14T09:48:52.778Z"
   },
   {
    "duration": 5,
    "start_time": "2023-02-14T09:48:52.784Z"
   },
   {
    "duration": 8,
    "start_time": "2023-02-14T09:48:52.791Z"
   },
   {
    "duration": 27,
    "start_time": "2023-02-14T09:48:52.821Z"
   },
   {
    "duration": 2326,
    "start_time": "2023-02-14T09:48:52.850Z"
   },
   {
    "duration": 682,
    "start_time": "2023-02-14T09:48:55.178Z"
   },
   {
    "duration": 947,
    "start_time": "2023-02-14T09:48:55.861Z"
   },
   {
    "duration": 1442,
    "start_time": "2023-02-14T09:48:56.810Z"
   },
   {
    "duration": 125,
    "start_time": "2023-02-14T09:48:58.254Z"
   },
   {
    "duration": 0,
    "start_time": "2023-02-14T09:48:58.380Z"
   },
   {
    "duration": 0,
    "start_time": "2023-02-14T09:48:58.382Z"
   },
   {
    "duration": 2098,
    "start_time": "2023-02-14T09:50:17.964Z"
   },
   {
    "duration": 2429,
    "start_time": "2023-02-14T09:50:42.124Z"
   },
   {
    "duration": 2097,
    "start_time": "2023-02-14T10:06:32.116Z"
   },
   {
    "duration": 66,
    "start_time": "2023-02-14T10:06:57.475Z"
   },
   {
    "duration": 56,
    "start_time": "2023-02-14T10:07:02.431Z"
   },
   {
    "duration": 2191,
    "start_time": "2023-02-14T10:07:18.684Z"
   },
   {
    "duration": 2197,
    "start_time": "2023-02-14T10:08:11.305Z"
   },
   {
    "duration": 2168,
    "start_time": "2023-02-14T10:09:32.510Z"
   },
   {
    "duration": 564,
    "start_time": "2023-02-14T10:12:46.688Z"
   },
   {
    "duration": 1068,
    "start_time": "2023-02-14T10:13:01.167Z"
   },
   {
    "duration": 6,
    "start_time": "2023-02-14T10:26:04.645Z"
   },
   {
    "duration": 274,
    "start_time": "2023-02-14T10:26:52.151Z"
   },
   {
    "duration": 1351,
    "start_time": "2023-02-14T10:27:00.335Z"
   },
   {
    "duration": 84,
    "start_time": "2023-02-14T10:27:01.689Z"
   },
   {
    "duration": 15,
    "start_time": "2023-02-14T10:27:01.778Z"
   },
   {
    "duration": 54,
    "start_time": "2023-02-14T10:27:01.796Z"
   },
   {
    "duration": 48,
    "start_time": "2023-02-14T10:27:01.853Z"
   },
   {
    "duration": 38,
    "start_time": "2023-02-14T10:27:01.903Z"
   },
   {
    "duration": 83,
    "start_time": "2023-02-14T10:27:01.943Z"
   },
   {
    "duration": 33,
    "start_time": "2023-02-14T10:27:02.029Z"
   },
   {
    "duration": 13,
    "start_time": "2023-02-14T10:27:02.064Z"
   },
   {
    "duration": 50,
    "start_time": "2023-02-14T10:27:02.081Z"
   },
   {
    "duration": 98,
    "start_time": "2023-02-14T10:27:02.132Z"
   },
   {
    "duration": 85,
    "start_time": "2023-02-14T10:27:02.232Z"
   },
   {
    "duration": 43,
    "start_time": "2023-02-14T10:27:02.319Z"
   },
   {
    "duration": 434,
    "start_time": "2023-02-14T10:27:02.364Z"
   },
   {
    "duration": 0,
    "start_time": "2023-02-14T10:27:02.801Z"
   },
   {
    "duration": 0,
    "start_time": "2023-02-14T10:27:02.802Z"
   },
   {
    "duration": 0,
    "start_time": "2023-02-14T10:27:02.804Z"
   },
   {
    "duration": 0,
    "start_time": "2023-02-14T10:27:02.806Z"
   },
   {
    "duration": 0,
    "start_time": "2023-02-14T10:27:02.821Z"
   },
   {
    "duration": 0,
    "start_time": "2023-02-14T10:27:02.823Z"
   },
   {
    "duration": 2326,
    "start_time": "2023-02-14T10:28:04.354Z"
   },
   {
    "duration": 2287,
    "start_time": "2023-02-14T10:28:34.832Z"
   },
   {
    "duration": 642,
    "start_time": "2023-02-14T10:28:54.204Z"
   },
   {
    "duration": 496,
    "start_time": "2023-02-14T10:29:44.806Z"
   },
   {
    "duration": 304,
    "start_time": "2023-02-14T10:30:20.397Z"
   },
   {
    "duration": 2117,
    "start_time": "2023-02-14T10:30:51.417Z"
   },
   {
    "duration": 692,
    "start_time": "2023-02-14T10:31:41.649Z"
   },
   {
    "duration": 576,
    "start_time": "2023-02-14T10:32:22.900Z"
   },
   {
    "duration": 4,
    "start_time": "2023-02-14T10:37:45.102Z"
   },
   {
    "duration": 9,
    "start_time": "2023-02-14T10:37:57.983Z"
   },
   {
    "duration": 4,
    "start_time": "2023-02-14T10:38:04.884Z"
   },
   {
    "duration": 611,
    "start_time": "2023-02-14T10:48:28.476Z"
   },
   {
    "duration": 1360,
    "start_time": "2023-02-14T10:48:54.237Z"
   },
   {
    "duration": 64,
    "start_time": "2023-02-14T10:48:55.600Z"
   },
   {
    "duration": 14,
    "start_time": "2023-02-14T10:48:55.666Z"
   },
   {
    "duration": 5,
    "start_time": "2023-02-14T10:48:55.683Z"
   },
   {
    "duration": 13,
    "start_time": "2023-02-14T10:48:55.689Z"
   },
   {
    "duration": 21,
    "start_time": "2023-02-14T10:48:55.704Z"
   },
   {
    "duration": 69,
    "start_time": "2023-02-14T10:48:55.727Z"
   },
   {
    "duration": 60,
    "start_time": "2023-02-14T10:48:55.797Z"
   },
   {
    "duration": 3,
    "start_time": "2023-02-14T10:48:55.860Z"
   },
   {
    "duration": 9,
    "start_time": "2023-02-14T10:48:55.867Z"
   },
   {
    "duration": 10,
    "start_time": "2023-02-14T10:48:55.878Z"
   },
   {
    "duration": 61,
    "start_time": "2023-02-14T10:48:55.889Z"
   },
   {
    "duration": 6,
    "start_time": "2023-02-14T10:48:55.953Z"
   },
   {
    "duration": 2340,
    "start_time": "2023-02-14T10:48:55.961Z"
   },
   {
    "duration": 673,
    "start_time": "2023-02-14T10:48:58.302Z"
   },
   {
    "duration": 996,
    "start_time": "2023-02-14T10:48:58.977Z"
   },
   {
    "duration": 1529,
    "start_time": "2023-02-14T10:48:59.976Z"
   },
   {
    "duration": 118,
    "start_time": "2023-02-14T10:49:01.507Z"
   },
   {
    "duration": 0,
    "start_time": "2023-02-14T10:49:01.627Z"
   },
   {
    "duration": 0,
    "start_time": "2023-02-14T10:49:01.628Z"
   },
   {
    "duration": 1325,
    "start_time": "2023-02-14T10:50:45.322Z"
   },
   {
    "duration": 67,
    "start_time": "2023-02-14T10:50:46.649Z"
   },
   {
    "duration": 14,
    "start_time": "2023-02-14T10:50:46.718Z"
   },
   {
    "duration": 7,
    "start_time": "2023-02-14T10:50:46.734Z"
   },
   {
    "duration": 12,
    "start_time": "2023-02-14T10:50:46.742Z"
   },
   {
    "duration": 6,
    "start_time": "2023-02-14T10:50:46.756Z"
   },
   {
    "duration": 81,
    "start_time": "2023-02-14T10:50:46.764Z"
   },
   {
    "duration": 34,
    "start_time": "2023-02-14T10:50:46.848Z"
   },
   {
    "duration": 3,
    "start_time": "2023-02-14T10:50:46.885Z"
   },
   {
    "duration": 32,
    "start_time": "2023-02-14T10:50:46.892Z"
   },
   {
    "duration": 15,
    "start_time": "2023-02-14T10:50:46.925Z"
   },
   {
    "duration": 37,
    "start_time": "2023-02-14T10:50:46.942Z"
   },
   {
    "duration": 5,
    "start_time": "2023-02-14T10:50:46.981Z"
   },
   {
    "duration": 2261,
    "start_time": "2023-02-14T10:50:46.988Z"
   },
   {
    "duration": 797,
    "start_time": "2023-02-14T10:50:49.252Z"
   },
   {
    "duration": 1017,
    "start_time": "2023-02-14T10:50:50.051Z"
   },
   {
    "duration": 1570,
    "start_time": "2023-02-14T10:50:51.070Z"
   },
   {
    "duration": 116,
    "start_time": "2023-02-14T10:50:52.642Z"
   },
   {
    "duration": 1,
    "start_time": "2023-02-14T10:50:52.759Z"
   },
   {
    "duration": 0,
    "start_time": "2023-02-14T10:50:52.761Z"
   },
   {
    "duration": 2468,
    "start_time": "2023-02-14T10:52:09.453Z"
   },
   {
    "duration": 585,
    "start_time": "2023-02-14T10:52:32.636Z"
   },
   {
    "duration": 586,
    "start_time": "2023-02-14T10:53:06.367Z"
   },
   {
    "duration": 536,
    "start_time": "2023-02-14T11:29:50.322Z"
   },
   {
    "duration": 1460,
    "start_time": "2023-02-14T11:30:04.008Z"
   },
   {
    "duration": 70,
    "start_time": "2023-02-14T11:30:05.470Z"
   },
   {
    "duration": 15,
    "start_time": "2023-02-14T11:30:05.542Z"
   },
   {
    "duration": 6,
    "start_time": "2023-02-14T11:30:05.560Z"
   },
   {
    "duration": 21,
    "start_time": "2023-02-14T11:30:05.568Z"
   },
   {
    "duration": 30,
    "start_time": "2023-02-14T11:30:05.591Z"
   },
   {
    "duration": 55,
    "start_time": "2023-02-14T11:30:05.623Z"
   },
   {
    "duration": 50,
    "start_time": "2023-02-14T11:30:05.680Z"
   },
   {
    "duration": 3,
    "start_time": "2023-02-14T11:30:05.732Z"
   },
   {
    "duration": 24,
    "start_time": "2023-02-14T11:30:05.738Z"
   },
   {
    "duration": 15,
    "start_time": "2023-02-14T11:30:05.764Z"
   },
   {
    "duration": 35,
    "start_time": "2023-02-14T11:30:05.781Z"
   },
   {
    "duration": 6,
    "start_time": "2023-02-14T11:30:05.818Z"
   },
   {
    "duration": 2546,
    "start_time": "2023-02-14T11:30:05.826Z"
   },
   {
    "duration": 685,
    "start_time": "2023-02-14T11:30:08.375Z"
   },
   {
    "duration": 940,
    "start_time": "2023-02-14T11:30:09.062Z"
   },
   {
    "duration": 1457,
    "start_time": "2023-02-14T11:30:10.005Z"
   },
   {
    "duration": 115,
    "start_time": "2023-02-14T11:30:11.465Z"
   },
   {
    "duration": 0,
    "start_time": "2023-02-14T11:30:11.582Z"
   },
   {
    "duration": 0,
    "start_time": "2023-02-14T11:30:11.584Z"
   },
   {
    "duration": 2452,
    "start_time": "2023-02-14T11:38:10.068Z"
   },
   {
    "duration": 2334,
    "start_time": "2023-02-14T11:38:26.621Z"
   },
   {
    "duration": 6,
    "start_time": "2023-02-14T11:50:31.768Z"
   },
   {
    "duration": 20,
    "start_time": "2023-02-14T11:50:34.117Z"
   },
   {
    "duration": 6,
    "start_time": "2023-02-14T11:50:43.471Z"
   },
   {
    "duration": 14,
    "start_time": "2023-02-14T11:50:46.026Z"
   },
   {
    "duration": 1278,
    "start_time": "2023-02-14T11:50:51.237Z"
   },
   {
    "duration": 64,
    "start_time": "2023-02-14T11:50:52.517Z"
   },
   {
    "duration": 12,
    "start_time": "2023-02-14T11:50:52.582Z"
   },
   {
    "duration": 5,
    "start_time": "2023-02-14T11:50:52.596Z"
   },
   {
    "duration": 13,
    "start_time": "2023-02-14T11:50:52.602Z"
   },
   {
    "duration": 6,
    "start_time": "2023-02-14T11:50:52.617Z"
   },
   {
    "duration": 65,
    "start_time": "2023-02-14T11:50:52.624Z"
   },
   {
    "duration": 40,
    "start_time": "2023-02-14T11:50:52.691Z"
   },
   {
    "duration": 4,
    "start_time": "2023-02-14T11:50:52.733Z"
   },
   {
    "duration": 14,
    "start_time": "2023-02-14T11:50:52.740Z"
   },
   {
    "duration": 10,
    "start_time": "2023-02-14T11:50:52.756Z"
   },
   {
    "duration": 34,
    "start_time": "2023-02-14T11:50:52.768Z"
   },
   {
    "duration": 20,
    "start_time": "2023-02-14T11:50:52.804Z"
   },
   {
    "duration": 2474,
    "start_time": "2023-02-14T11:50:52.826Z"
   },
   {
    "duration": 669,
    "start_time": "2023-02-14T11:50:55.302Z"
   },
   {
    "duration": 977,
    "start_time": "2023-02-14T11:50:55.972Z"
   },
   {
    "duration": 6,
    "start_time": "2023-02-14T11:50:56.951Z"
   },
   {
    "duration": 1312,
    "start_time": "2023-02-14T11:50:56.958Z"
   },
   {
    "duration": 123,
    "start_time": "2023-02-14T11:50:58.272Z"
   },
   {
    "duration": 0,
    "start_time": "2023-02-14T11:50:58.397Z"
   },
   {
    "duration": 0,
    "start_time": "2023-02-14T11:50:58.398Z"
   },
   {
    "duration": 6,
    "start_time": "2023-02-14T11:51:41.487Z"
   },
   {
    "duration": 1032,
    "start_time": "2023-02-14T11:52:24.409Z"
   },
   {
    "duration": 954,
    "start_time": "2023-02-14T11:52:40.100Z"
   },
   {
    "duration": 802,
    "start_time": "2023-02-14T11:52:51.131Z"
   },
   {
    "duration": 1323,
    "start_time": "2023-02-14T11:53:19.566Z"
   },
   {
    "duration": 71,
    "start_time": "2023-02-14T11:53:20.891Z"
   },
   {
    "duration": 15,
    "start_time": "2023-02-14T11:53:20.963Z"
   },
   {
    "duration": 6,
    "start_time": "2023-02-14T11:53:20.980Z"
   },
   {
    "duration": 14,
    "start_time": "2023-02-14T11:53:20.988Z"
   },
   {
    "duration": 6,
    "start_time": "2023-02-14T11:53:21.020Z"
   },
   {
    "duration": 58,
    "start_time": "2023-02-14T11:53:21.027Z"
   },
   {
    "duration": 51,
    "start_time": "2023-02-14T11:53:21.086Z"
   },
   {
    "duration": 4,
    "start_time": "2023-02-14T11:53:21.139Z"
   },
   {
    "duration": 12,
    "start_time": "2023-02-14T11:53:21.147Z"
   },
   {
    "duration": 31,
    "start_time": "2023-02-14T11:53:21.161Z"
   },
   {
    "duration": 28,
    "start_time": "2023-02-14T11:53:21.195Z"
   },
   {
    "duration": 2331,
    "start_time": "2023-02-14T11:53:21.225Z"
   },
   {
    "duration": 683,
    "start_time": "2023-02-14T11:53:23.558Z"
   },
   {
    "duration": 1044,
    "start_time": "2023-02-14T11:53:24.243Z"
   },
   {
    "duration": 6,
    "start_time": "2023-02-14T11:53:25.289Z"
   },
   {
    "duration": 1484,
    "start_time": "2023-02-14T11:53:25.296Z"
   },
   {
    "duration": 118,
    "start_time": "2023-02-14T11:53:26.782Z"
   },
   {
    "duration": 0,
    "start_time": "2023-02-14T11:53:26.902Z"
   },
   {
    "duration": 0,
    "start_time": "2023-02-14T11:53:26.903Z"
   },
   {
    "duration": 2498,
    "start_time": "2023-02-14T11:54:08.498Z"
   },
   {
    "duration": 2554,
    "start_time": "2023-02-14T11:55:08.985Z"
   },
   {
    "duration": 2420,
    "start_time": "2023-02-14T11:55:44.952Z"
   },
   {
    "duration": 15,
    "start_time": "2023-02-14T11:56:16.055Z"
   },
   {
    "duration": 1367,
    "start_time": "2023-02-14T11:56:24.726Z"
   },
   {
    "duration": 65,
    "start_time": "2023-02-14T11:56:26.095Z"
   },
   {
    "duration": 13,
    "start_time": "2023-02-14T11:56:26.162Z"
   },
   {
    "duration": 5,
    "start_time": "2023-02-14T11:56:26.178Z"
   },
   {
    "duration": 13,
    "start_time": "2023-02-14T11:56:26.185Z"
   },
   {
    "duration": 24,
    "start_time": "2023-02-14T11:56:26.200Z"
   },
   {
    "duration": 56,
    "start_time": "2023-02-14T11:56:26.226Z"
   },
   {
    "duration": 60,
    "start_time": "2023-02-14T11:56:26.284Z"
   },
   {
    "duration": 3,
    "start_time": "2023-02-14T11:56:26.346Z"
   },
   {
    "duration": 26,
    "start_time": "2023-02-14T11:56:26.352Z"
   },
   {
    "duration": 39,
    "start_time": "2023-02-14T11:56:26.380Z"
   },
   {
    "duration": 6,
    "start_time": "2023-02-14T11:56:26.420Z"
   },
   {
    "duration": 2468,
    "start_time": "2023-02-14T11:56:26.428Z"
   },
   {
    "duration": 684,
    "start_time": "2023-02-14T11:56:28.899Z"
   },
   {
    "duration": 1002,
    "start_time": "2023-02-14T11:56:29.585Z"
   },
   {
    "duration": 6,
    "start_time": "2023-02-14T11:56:30.589Z"
   },
   {
    "duration": 1476,
    "start_time": "2023-02-14T11:56:30.597Z"
   },
   {
    "duration": 119,
    "start_time": "2023-02-14T11:56:32.074Z"
   },
   {
    "duration": 0,
    "start_time": "2023-02-14T11:56:32.195Z"
   },
   {
    "duration": 0,
    "start_time": "2023-02-14T11:56:32.196Z"
   },
   {
    "duration": 2662,
    "start_time": "2023-02-14T11:58:12.605Z"
   },
   {
    "duration": 642,
    "start_time": "2023-02-14T11:58:33.464Z"
   },
   {
    "duration": 1277,
    "start_time": "2023-02-14T11:58:58.219Z"
   },
   {
    "duration": 61,
    "start_time": "2023-02-14T11:58:59.498Z"
   },
   {
    "duration": 13,
    "start_time": "2023-02-14T11:58:59.560Z"
   },
   {
    "duration": 5,
    "start_time": "2023-02-14T11:58:59.575Z"
   },
   {
    "duration": 11,
    "start_time": "2023-02-14T11:58:59.582Z"
   },
   {
    "duration": 5,
    "start_time": "2023-02-14T11:58:59.594Z"
   },
   {
    "duration": 54,
    "start_time": "2023-02-14T11:58:59.621Z"
   },
   {
    "duration": 49,
    "start_time": "2023-02-14T11:58:59.676Z"
   },
   {
    "duration": 4,
    "start_time": "2023-02-14T11:58:59.727Z"
   },
   {
    "duration": 11,
    "start_time": "2023-02-14T11:58:59.732Z"
   },
   {
    "duration": 33,
    "start_time": "2023-02-14T11:58:59.744Z"
   },
   {
    "duration": 5,
    "start_time": "2023-02-14T11:58:59.779Z"
   },
   {
    "duration": 2566,
    "start_time": "2023-02-14T11:58:59.786Z"
   },
   {
    "duration": 801,
    "start_time": "2023-02-14T11:59:02.355Z"
   },
   {
    "duration": 1108,
    "start_time": "2023-02-14T11:59:03.158Z"
   },
   {
    "duration": 5,
    "start_time": "2023-02-14T11:59:04.268Z"
   },
   {
    "duration": 1603,
    "start_time": "2023-02-14T11:59:04.276Z"
   },
   {
    "duration": 1207,
    "start_time": "2023-02-14T12:03:06.462Z"
   },
   {
    "duration": 65,
    "start_time": "2023-02-14T12:03:07.671Z"
   },
   {
    "duration": 15,
    "start_time": "2023-02-14T12:03:07.737Z"
   },
   {
    "duration": 5,
    "start_time": "2023-02-14T12:03:07.754Z"
   },
   {
    "duration": 19,
    "start_time": "2023-02-14T12:03:07.761Z"
   },
   {
    "duration": 5,
    "start_time": "2023-02-14T12:03:07.782Z"
   },
   {
    "duration": 80,
    "start_time": "2023-02-14T12:03:07.789Z"
   },
   {
    "duration": 32,
    "start_time": "2023-02-14T12:03:07.871Z"
   },
   {
    "duration": 4,
    "start_time": "2023-02-14T12:03:07.904Z"
   },
   {
    "duration": 15,
    "start_time": "2023-02-14T12:03:07.909Z"
   },
   {
    "duration": 6,
    "start_time": "2023-02-14T12:03:07.926Z"
   },
   {
    "duration": 2518,
    "start_time": "2023-02-14T12:03:07.934Z"
   },
   {
    "duration": 918,
    "start_time": "2023-02-14T12:03:10.454Z"
   },
   {
    "duration": 924,
    "start_time": "2023-02-14T12:03:11.375Z"
   },
   {
    "duration": 0,
    "start_time": "2023-02-14T12:03:12.301Z"
   },
   {
    "duration": 0,
    "start_time": "2023-02-14T12:03:12.302Z"
   },
   {
    "duration": 0,
    "start_time": "2023-02-14T12:03:12.303Z"
   },
   {
    "duration": 1301,
    "start_time": "2023-02-14T12:06:05.137Z"
   },
   {
    "duration": 63,
    "start_time": "2023-02-14T12:06:06.440Z"
   },
   {
    "duration": 14,
    "start_time": "2023-02-14T12:06:06.505Z"
   },
   {
    "duration": 5,
    "start_time": "2023-02-14T12:06:06.521Z"
   },
   {
    "duration": 14,
    "start_time": "2023-02-14T12:06:06.528Z"
   },
   {
    "duration": 6,
    "start_time": "2023-02-14T12:06:06.544Z"
   },
   {
    "duration": 73,
    "start_time": "2023-02-14T12:06:06.552Z"
   },
   {
    "duration": 32,
    "start_time": "2023-02-14T12:06:06.627Z"
   },
   {
    "duration": 3,
    "start_time": "2023-02-14T12:06:06.662Z"
   },
   {
    "duration": 14,
    "start_time": "2023-02-14T12:06:06.668Z"
   },
   {
    "duration": 7,
    "start_time": "2023-02-14T12:06:06.684Z"
   },
   {
    "duration": 2600,
    "start_time": "2023-02-14T12:06:06.693Z"
   },
   {
    "duration": 990,
    "start_time": "2023-02-14T12:06:09.295Z"
   },
   {
    "duration": 7,
    "start_time": "2023-02-14T12:06:10.286Z"
   },
   {
    "duration": 39,
    "start_time": "2023-02-14T12:06:10.294Z"
   },
   {
    "duration": 1425,
    "start_time": "2023-02-14T12:06:10.335Z"
   },
   {
    "duration": 1519,
    "start_time": "2023-02-14T12:14:41.152Z"
   },
   {
    "duration": 1288,
    "start_time": "2023-02-14T12:15:19.889Z"
   },
   {
    "duration": 67,
    "start_time": "2023-02-14T12:15:21.179Z"
   },
   {
    "duration": 14,
    "start_time": "2023-02-14T12:15:21.248Z"
   },
   {
    "duration": 5,
    "start_time": "2023-02-14T12:15:21.264Z"
   },
   {
    "duration": 15,
    "start_time": "2023-02-14T12:15:21.271Z"
   },
   {
    "duration": 33,
    "start_time": "2023-02-14T12:15:21.290Z"
   },
   {
    "duration": 56,
    "start_time": "2023-02-14T12:15:21.325Z"
   },
   {
    "duration": 48,
    "start_time": "2023-02-14T12:15:21.383Z"
   },
   {
    "duration": 4,
    "start_time": "2023-02-14T12:15:21.432Z"
   },
   {
    "duration": 10,
    "start_time": "2023-02-14T12:15:21.439Z"
   },
   {
    "duration": 10,
    "start_time": "2023-02-14T12:15:21.451Z"
   },
   {
    "duration": 2373,
    "start_time": "2023-02-14T12:15:21.463Z"
   },
   {
    "duration": 1308,
    "start_time": "2023-02-14T12:15:23.838Z"
   },
   {
    "duration": 0,
    "start_time": "2023-02-14T12:15:25.147Z"
   },
   {
    "duration": 0,
    "start_time": "2023-02-14T12:15:25.149Z"
   },
   {
    "duration": 0,
    "start_time": "2023-02-14T12:15:25.150Z"
   },
   {
    "duration": 0,
    "start_time": "2023-02-14T12:15:25.151Z"
   },
   {
    "duration": 612,
    "start_time": "2023-02-14T12:15:40.506Z"
   },
   {
    "duration": 845,
    "start_time": "2023-02-14T12:15:48.200Z"
   },
   {
    "duration": 1241,
    "start_time": "2023-02-14T12:18:50.545Z"
   },
   {
    "duration": 63,
    "start_time": "2023-02-14T12:18:51.788Z"
   },
   {
    "duration": 15,
    "start_time": "2023-02-14T12:18:51.853Z"
   },
   {
    "duration": 5,
    "start_time": "2023-02-14T12:18:51.871Z"
   },
   {
    "duration": 15,
    "start_time": "2023-02-14T12:18:51.878Z"
   },
   {
    "duration": 28,
    "start_time": "2023-02-14T12:18:51.895Z"
   },
   {
    "duration": 57,
    "start_time": "2023-02-14T12:18:51.925Z"
   },
   {
    "duration": 51,
    "start_time": "2023-02-14T12:18:51.984Z"
   },
   {
    "duration": 3,
    "start_time": "2023-02-14T12:18:52.037Z"
   },
   {
    "duration": 8,
    "start_time": "2023-02-14T12:18:52.043Z"
   },
   {
    "duration": 7,
    "start_time": "2023-02-14T12:18:52.053Z"
   },
   {
    "duration": 2537,
    "start_time": "2023-02-14T12:18:52.063Z"
   },
   {
    "duration": 975,
    "start_time": "2023-02-14T12:18:54.603Z"
   },
   {
    "duration": 6,
    "start_time": "2023-02-14T12:18:55.580Z"
   },
   {
    "duration": 40,
    "start_time": "2023-02-14T12:18:55.588Z"
   },
   {
    "duration": 1484,
    "start_time": "2023-02-14T12:18:55.629Z"
   },
   {
    "duration": 1735,
    "start_time": "2023-02-14T12:20:35.759Z"
   },
   {
    "duration": 1865,
    "start_time": "2023-02-14T12:20:42.351Z"
   },
   {
    "duration": 1428,
    "start_time": "2023-02-14T12:20:53.989Z"
   },
   {
    "duration": 65,
    "start_time": "2023-02-14T12:20:55.419Z"
   },
   {
    "duration": 15,
    "start_time": "2023-02-14T12:20:55.486Z"
   },
   {
    "duration": 6,
    "start_time": "2023-02-14T12:20:55.503Z"
   },
   {
    "duration": 26,
    "start_time": "2023-02-14T12:20:55.511Z"
   },
   {
    "duration": 25,
    "start_time": "2023-02-14T12:20:55.539Z"
   },
   {
    "duration": 61,
    "start_time": "2023-02-14T12:20:55.566Z"
   },
   {
    "duration": 33,
    "start_time": "2023-02-14T12:20:55.628Z"
   },
   {
    "duration": 4,
    "start_time": "2023-02-14T12:20:55.662Z"
   },
   {
    "duration": 16,
    "start_time": "2023-02-14T12:20:55.667Z"
   },
   {
    "duration": 26,
    "start_time": "2023-02-14T12:20:55.685Z"
   },
   {
    "duration": 2604,
    "start_time": "2023-02-14T12:20:55.712Z"
   },
   {
    "duration": 964,
    "start_time": "2023-02-14T12:20:58.318Z"
   },
   {
    "duration": 6,
    "start_time": "2023-02-14T12:20:59.285Z"
   },
   {
    "duration": 40,
    "start_time": "2023-02-14T12:20:59.292Z"
   },
   {
    "duration": 1509,
    "start_time": "2023-02-14T12:20:59.334Z"
   },
   {
    "duration": 1536,
    "start_time": "2023-02-14T12:21:12.534Z"
   },
   {
    "duration": 1319,
    "start_time": "2023-02-14T12:21:21.080Z"
   },
   {
    "duration": 66,
    "start_time": "2023-02-14T12:21:22.401Z"
   },
   {
    "duration": 16,
    "start_time": "2023-02-14T12:21:22.470Z"
   },
   {
    "duration": 30,
    "start_time": "2023-02-14T12:21:22.489Z"
   },
   {
    "duration": 29,
    "start_time": "2023-02-14T12:21:22.520Z"
   },
   {
    "duration": 25,
    "start_time": "2023-02-14T12:21:22.551Z"
   },
   {
    "duration": 58,
    "start_time": "2023-02-14T12:21:22.577Z"
   },
   {
    "duration": 36,
    "start_time": "2023-02-14T12:21:22.637Z"
   },
   {
    "duration": 4,
    "start_time": "2023-02-14T12:21:22.675Z"
   },
   {
    "duration": 5,
    "start_time": "2023-02-14T12:21:22.682Z"
   },
   {
    "duration": 35,
    "start_time": "2023-02-14T12:21:22.689Z"
   },
   {
    "duration": 2774,
    "start_time": "2023-02-14T12:21:22.726Z"
   },
   {
    "duration": 951,
    "start_time": "2023-02-14T12:21:25.503Z"
   },
   {
    "duration": 6,
    "start_time": "2023-02-14T12:21:26.457Z"
   },
   {
    "duration": 37,
    "start_time": "2023-02-14T12:21:26.465Z"
   },
   {
    "duration": 1503,
    "start_time": "2023-02-14T12:21:26.504Z"
   },
   {
    "duration": 7,
    "start_time": "2023-02-14T12:28:27.223Z"
   },
   {
    "duration": 2,
    "start_time": "2023-02-14T12:37:42.943Z"
   },
   {
    "duration": 1449,
    "start_time": "2023-02-14T12:40:04.456Z"
   },
   {
    "duration": 65,
    "start_time": "2023-02-14T12:40:05.907Z"
   },
   {
    "duration": 17,
    "start_time": "2023-02-14T12:40:05.973Z"
   },
   {
    "duration": 6,
    "start_time": "2023-02-14T12:40:05.993Z"
   },
   {
    "duration": 23,
    "start_time": "2023-02-14T12:40:06.002Z"
   },
   {
    "duration": 7,
    "start_time": "2023-02-14T12:40:06.028Z"
   },
   {
    "duration": 72,
    "start_time": "2023-02-14T12:40:06.037Z"
   },
   {
    "duration": 51,
    "start_time": "2023-02-14T12:40:06.111Z"
   },
   {
    "duration": 7,
    "start_time": "2023-02-14T12:40:06.165Z"
   },
   {
    "duration": 14,
    "start_time": "2023-02-14T12:40:06.175Z"
   },
   {
    "duration": 29,
    "start_time": "2023-02-14T12:40:06.191Z"
   },
   {
    "duration": 2714,
    "start_time": "2023-02-14T12:40:06.222Z"
   },
   {
    "duration": 940,
    "start_time": "2023-02-14T12:40:08.939Z"
   },
   {
    "duration": 5,
    "start_time": "2023-02-14T12:40:09.881Z"
   },
   {
    "duration": 41,
    "start_time": "2023-02-14T12:40:09.888Z"
   },
   {
    "duration": 1472,
    "start_time": "2023-02-14T12:40:09.931Z"
   },
   {
    "duration": 2732,
    "start_time": "2023-02-14T12:40:33.755Z"
   },
   {
    "duration": 1490,
    "start_time": "2023-02-14T12:40:43.046Z"
   },
   {
    "duration": 1391,
    "start_time": "2023-02-14T12:41:30.023Z"
   },
   {
    "duration": 71,
    "start_time": "2023-02-14T12:41:31.417Z"
   },
   {
    "duration": 21,
    "start_time": "2023-02-14T12:41:31.489Z"
   },
   {
    "duration": 14,
    "start_time": "2023-02-14T12:41:31.516Z"
   },
   {
    "duration": 17,
    "start_time": "2023-02-14T12:41:31.533Z"
   },
   {
    "duration": 6,
    "start_time": "2023-02-14T12:41:31.551Z"
   },
   {
    "duration": 77,
    "start_time": "2023-02-14T12:41:31.559Z"
   },
   {
    "duration": 34,
    "start_time": "2023-02-14T12:41:31.638Z"
   },
   {
    "duration": 3,
    "start_time": "2023-02-14T12:41:31.674Z"
   },
   {
    "duration": 17,
    "start_time": "2023-02-14T12:41:31.680Z"
   },
   {
    "duration": 16,
    "start_time": "2023-02-14T12:41:31.699Z"
   },
   {
    "duration": 2603,
    "start_time": "2023-02-14T12:41:31.721Z"
   },
   {
    "duration": 1090,
    "start_time": "2023-02-14T12:41:34.326Z"
   },
   {
    "duration": 6,
    "start_time": "2023-02-14T12:41:35.418Z"
   },
   {
    "duration": 45,
    "start_time": "2023-02-14T12:41:35.426Z"
   },
   {
    "duration": 1576,
    "start_time": "2023-02-14T12:41:35.473Z"
   },
   {
    "duration": 1358,
    "start_time": "2023-02-14T18:44:09.128Z"
   },
   {
    "duration": 185,
    "start_time": "2023-02-14T18:44:10.488Z"
   },
   {
    "duration": 12,
    "start_time": "2023-02-14T18:44:10.675Z"
   },
   {
    "duration": 5,
    "start_time": "2023-02-14T18:44:10.689Z"
   },
   {
    "duration": 13,
    "start_time": "2023-02-14T18:44:10.696Z"
   },
   {
    "duration": 7,
    "start_time": "2023-02-14T18:44:10.713Z"
   },
   {
    "duration": 93,
    "start_time": "2023-02-14T18:44:10.722Z"
   },
   {
    "duration": 29,
    "start_time": "2023-02-14T18:44:10.816Z"
   },
   {
    "duration": 3,
    "start_time": "2023-02-14T18:44:10.846Z"
   },
   {
    "duration": 7,
    "start_time": "2023-02-14T18:44:10.851Z"
   },
   {
    "duration": 22,
    "start_time": "2023-02-14T18:44:10.860Z"
   },
   {
    "duration": 2321,
    "start_time": "2023-02-14T18:44:10.884Z"
   },
   {
    "duration": 887,
    "start_time": "2023-02-14T18:44:13.206Z"
   },
   {
    "duration": 4,
    "start_time": "2023-02-14T18:44:14.095Z"
   },
   {
    "duration": 30,
    "start_time": "2023-02-14T18:44:14.101Z"
   },
   {
    "duration": 1379,
    "start_time": "2023-02-14T18:44:14.132Z"
   },
   {
    "duration": 2111,
    "start_time": "2023-02-14T19:16:28.283Z"
   },
   {
    "duration": 2067,
    "start_time": "2023-02-14T19:16:55.695Z"
   },
   {
    "duration": 1211,
    "start_time": "2023-02-14T19:17:53.367Z"
   },
   {
    "duration": 59,
    "start_time": "2023-02-14T19:17:54.580Z"
   },
   {
    "duration": 11,
    "start_time": "2023-02-14T19:17:54.640Z"
   },
   {
    "duration": 15,
    "start_time": "2023-02-14T19:17:54.652Z"
   },
   {
    "duration": 10,
    "start_time": "2023-02-14T19:17:54.669Z"
   },
   {
    "duration": 5,
    "start_time": "2023-02-14T19:17:54.680Z"
   },
   {
    "duration": 48,
    "start_time": "2023-02-14T19:17:54.686Z"
   },
   {
    "duration": 26,
    "start_time": "2023-02-14T19:17:54.736Z"
   },
   {
    "duration": 3,
    "start_time": "2023-02-14T19:17:54.781Z"
   },
   {
    "duration": 6,
    "start_time": "2023-02-14T19:17:54.786Z"
   },
   {
    "duration": 6,
    "start_time": "2023-02-14T19:17:54.793Z"
   },
   {
    "duration": 2304,
    "start_time": "2023-02-14T19:17:54.800Z"
   },
   {
    "duration": 760,
    "start_time": "2023-02-14T19:17:57.106Z"
   },
   {
    "duration": 5,
    "start_time": "2023-02-14T19:17:57.868Z"
   },
   {
    "duration": 26,
    "start_time": "2023-02-14T19:17:57.881Z"
   },
   {
    "duration": 1280,
    "start_time": "2023-02-14T19:17:57.908Z"
   },
   {
    "duration": 1121,
    "start_time": "2023-02-14T19:19:29.246Z"
   },
   {
    "duration": 69,
    "start_time": "2023-02-14T19:19:30.368Z"
   },
   {
    "duration": 13,
    "start_time": "2023-02-14T19:19:30.439Z"
   },
   {
    "duration": 42,
    "start_time": "2023-02-14T19:19:30.454Z"
   },
   {
    "duration": 20,
    "start_time": "2023-02-14T19:19:30.497Z"
   },
   {
    "duration": 12,
    "start_time": "2023-02-14T19:19:30.519Z"
   },
   {
    "duration": 64,
    "start_time": "2023-02-14T19:19:30.532Z"
   },
   {
    "duration": 29,
    "start_time": "2023-02-14T19:19:30.598Z"
   },
   {
    "duration": 3,
    "start_time": "2023-02-14T19:19:30.629Z"
   },
   {
    "duration": 17,
    "start_time": "2023-02-14T19:19:30.634Z"
   },
   {
    "duration": 18,
    "start_time": "2023-02-14T19:19:30.652Z"
   },
   {
    "duration": 2084,
    "start_time": "2023-02-14T19:19:30.672Z"
   },
   {
    "duration": 723,
    "start_time": "2023-02-14T19:19:32.758Z"
   },
   {
    "duration": 5,
    "start_time": "2023-02-14T19:19:33.482Z"
   },
   {
    "duration": 29,
    "start_time": "2023-02-14T19:19:33.488Z"
   },
   {
    "duration": 1296,
    "start_time": "2023-02-14T19:19:33.518Z"
   },
   {
    "duration": 5,
    "start_time": "2023-02-14T19:35:40.585Z"
   },
   {
    "duration": 1228,
    "start_time": "2023-02-14T19:35:49.584Z"
   },
   {
    "duration": 62,
    "start_time": "2023-02-14T19:35:50.814Z"
   },
   {
    "duration": 12,
    "start_time": "2023-02-14T19:35:50.878Z"
   },
   {
    "duration": 5,
    "start_time": "2023-02-14T19:35:50.892Z"
   },
   {
    "duration": 11,
    "start_time": "2023-02-14T19:35:50.899Z"
   },
   {
    "duration": 5,
    "start_time": "2023-02-14T19:35:50.911Z"
   },
   {
    "duration": 70,
    "start_time": "2023-02-14T19:35:50.918Z"
   },
   {
    "duration": 32,
    "start_time": "2023-02-14T19:35:50.990Z"
   },
   {
    "duration": 4,
    "start_time": "2023-02-14T19:35:51.024Z"
   },
   {
    "duration": 5,
    "start_time": "2023-02-14T19:35:51.030Z"
   },
   {
    "duration": 8,
    "start_time": "2023-02-14T19:35:51.036Z"
   },
   {
    "duration": 2219,
    "start_time": "2023-02-14T19:35:51.045Z"
   },
   {
    "duration": 722,
    "start_time": "2023-02-14T19:35:53.266Z"
   },
   {
    "duration": 5,
    "start_time": "2023-02-14T19:35:53.990Z"
   },
   {
    "duration": 27,
    "start_time": "2023-02-14T19:35:53.996Z"
   },
   {
    "duration": 1328,
    "start_time": "2023-02-14T19:35:54.024Z"
   },
   {
    "duration": 11,
    "start_time": "2023-02-14T20:01:02.545Z"
   },
   {
    "duration": 5,
    "start_time": "2023-02-14T20:01:52.152Z"
   },
   {
    "duration": 98,
    "start_time": "2023-02-14T20:03:12.502Z"
   },
   {
    "duration": 1147,
    "start_time": "2023-02-14T20:04:32.022Z"
   },
   {
    "duration": 58,
    "start_time": "2023-02-14T20:04:33.171Z"
   },
   {
    "duration": 10,
    "start_time": "2023-02-14T20:04:33.233Z"
   },
   {
    "duration": 4,
    "start_time": "2023-02-14T20:04:33.245Z"
   },
   {
    "duration": 10,
    "start_time": "2023-02-14T20:04:33.250Z"
   },
   {
    "duration": 5,
    "start_time": "2023-02-14T20:04:33.261Z"
   },
   {
    "duration": 57,
    "start_time": "2023-02-14T20:04:33.268Z"
   },
   {
    "duration": 28,
    "start_time": "2023-02-14T20:04:33.327Z"
   },
   {
    "duration": 3,
    "start_time": "2023-02-14T20:04:33.358Z"
   },
   {
    "duration": 20,
    "start_time": "2023-02-14T20:04:33.362Z"
   },
   {
    "duration": 5,
    "start_time": "2023-02-14T20:04:33.384Z"
   },
   {
    "duration": 2143,
    "start_time": "2023-02-14T20:04:33.390Z"
   },
   {
    "duration": 766,
    "start_time": "2023-02-14T20:04:35.534Z"
   },
   {
    "duration": 9,
    "start_time": "2023-02-14T20:04:36.302Z"
   },
   {
    "duration": 33,
    "start_time": "2023-02-14T20:04:36.313Z"
   },
   {
    "duration": 1324,
    "start_time": "2023-02-14T20:04:36.348Z"
   },
   {
    "duration": 15,
    "start_time": "2023-02-14T20:04:37.673Z"
   },
   {
    "duration": 4,
    "start_time": "2023-02-14T20:04:37.690Z"
   },
   {
    "duration": 1500,
    "start_time": "2023-02-15T08:22:41.530Z"
   },
   {
    "duration": 109,
    "start_time": "2023-02-15T08:22:43.032Z"
   },
   {
    "duration": 15,
    "start_time": "2023-02-15T08:22:43.142Z"
   },
   {
    "duration": 5,
    "start_time": "2023-02-15T08:22:43.159Z"
   },
   {
    "duration": 14,
    "start_time": "2023-02-15T08:22:43.166Z"
   },
   {
    "duration": 6,
    "start_time": "2023-02-15T08:22:43.182Z"
   },
   {
    "duration": 70,
    "start_time": "2023-02-15T08:22:43.199Z"
   },
   {
    "duration": 55,
    "start_time": "2023-02-15T08:22:43.271Z"
   },
   {
    "duration": 4,
    "start_time": "2023-02-15T08:22:43.329Z"
   },
   {
    "duration": 9,
    "start_time": "2023-02-15T08:22:43.336Z"
   },
   {
    "duration": 8,
    "start_time": "2023-02-15T08:22:43.347Z"
   },
   {
    "duration": 2447,
    "start_time": "2023-02-15T08:22:43.358Z"
   },
   {
    "duration": 871,
    "start_time": "2023-02-15T08:22:45.807Z"
   },
   {
    "duration": 5,
    "start_time": "2023-02-15T08:22:46.680Z"
   },
   {
    "duration": 46,
    "start_time": "2023-02-15T08:22:46.687Z"
   },
   {
    "duration": 1425,
    "start_time": "2023-02-15T08:22:46.735Z"
   },
   {
    "duration": 9,
    "start_time": "2023-02-15T08:22:48.162Z"
   },
   {
    "duration": 6,
    "start_time": "2023-02-15T08:22:48.173Z"
   },
   {
    "duration": 10,
    "start_time": "2023-02-15T09:08:46.057Z"
   },
   {
    "duration": 1522,
    "start_time": "2023-02-15T09:13:17.581Z"
   },
   {
    "duration": 10,
    "start_time": "2023-02-15T10:30:15.856Z"
   },
   {
    "duration": 10,
    "start_time": "2023-02-15T10:38:26.055Z"
   },
   {
    "duration": 12,
    "start_time": "2023-02-15T10:43:58.568Z"
   },
   {
    "duration": 10,
    "start_time": "2023-02-15T10:47:26.256Z"
   },
   {
    "duration": 14,
    "start_time": "2023-02-15T10:48:18.707Z"
   },
   {
    "duration": 14,
    "start_time": "2023-02-15T10:48:22.657Z"
   },
   {
    "duration": 1378,
    "start_time": "2023-02-15T16:55:31.763Z"
   },
   {
    "duration": 108,
    "start_time": "2023-02-15T16:55:33.143Z"
   },
   {
    "duration": 12,
    "start_time": "2023-02-15T16:55:33.253Z"
   },
   {
    "duration": 15,
    "start_time": "2023-02-15T16:55:33.267Z"
   },
   {
    "duration": 18,
    "start_time": "2023-02-15T16:55:33.284Z"
   },
   {
    "duration": 13,
    "start_time": "2023-02-15T16:55:33.304Z"
   },
   {
    "duration": 57,
    "start_time": "2023-02-15T16:55:33.318Z"
   },
   {
    "duration": 29,
    "start_time": "2023-02-15T16:55:33.376Z"
   },
   {
    "duration": 3,
    "start_time": "2023-02-15T16:55:33.406Z"
   },
   {
    "duration": 13,
    "start_time": "2023-02-15T16:55:33.411Z"
   },
   {
    "duration": 21,
    "start_time": "2023-02-15T16:55:33.426Z"
   },
   {
    "duration": 2341,
    "start_time": "2023-02-15T16:55:33.449Z"
   },
   {
    "duration": 845,
    "start_time": "2023-02-15T16:55:35.792Z"
   },
   {
    "duration": 6,
    "start_time": "2023-02-15T16:55:36.638Z"
   },
   {
    "duration": 36,
    "start_time": "2023-02-15T16:55:36.646Z"
   },
   {
    "duration": 1490,
    "start_time": "2023-02-15T16:55:36.684Z"
   },
   {
    "duration": 12,
    "start_time": "2023-02-15T16:55:38.175Z"
   },
   {
    "duration": 125,
    "start_time": "2023-02-15T16:55:38.188Z"
   },
   {
    "duration": 29,
    "start_time": "2023-02-15T16:56:21.606Z"
   },
   {
    "duration": 15,
    "start_time": "2023-02-15T16:56:51.060Z"
   },
   {
    "duration": 2025,
    "start_time": "2023-02-17T07:18:31.653Z"
   },
   {
    "duration": 109,
    "start_time": "2023-02-17T07:18:33.681Z"
   },
   {
    "duration": 14,
    "start_time": "2023-02-17T07:18:33.792Z"
   },
   {
    "duration": 21,
    "start_time": "2023-02-17T07:18:33.808Z"
   },
   {
    "duration": 38,
    "start_time": "2023-02-17T07:18:33.832Z"
   },
   {
    "duration": 22,
    "start_time": "2023-02-17T07:18:33.879Z"
   },
   {
    "duration": 117,
    "start_time": "2023-02-17T07:18:33.903Z"
   },
   {
    "duration": 42,
    "start_time": "2023-02-17T07:18:34.022Z"
   },
   {
    "duration": 4,
    "start_time": "2023-02-17T07:18:34.066Z"
   },
   {
    "duration": 7,
    "start_time": "2023-02-17T07:18:34.072Z"
   },
   {
    "duration": 18,
    "start_time": "2023-02-17T07:18:34.081Z"
   },
   {
    "duration": 2483,
    "start_time": "2023-02-17T07:18:34.101Z"
   },
   {
    "duration": 849,
    "start_time": "2023-02-17T07:18:36.586Z"
   },
   {
    "duration": 7,
    "start_time": "2023-02-17T07:18:37.438Z"
   },
   {
    "duration": 43,
    "start_time": "2023-02-17T07:18:37.447Z"
   },
   {
    "duration": 1328,
    "start_time": "2023-02-17T07:18:37.509Z"
   },
   {
    "duration": 13,
    "start_time": "2023-02-17T07:18:38.839Z"
   },
   {
    "duration": 15,
    "start_time": "2023-02-17T07:18:38.853Z"
   },
   {
    "duration": 1586,
    "start_time": "2023-02-17T08:48:04.751Z"
   },
   {
    "duration": 250,
    "start_time": "2023-02-17T08:48:06.339Z"
   },
   {
    "duration": 16,
    "start_time": "2023-02-17T08:48:06.591Z"
   },
   {
    "duration": 6,
    "start_time": "2023-02-17T08:48:06.609Z"
   },
   {
    "duration": 13,
    "start_time": "2023-02-17T08:48:06.617Z"
   },
   {
    "duration": 5,
    "start_time": "2023-02-17T08:48:06.632Z"
   },
   {
    "duration": 79,
    "start_time": "2023-02-17T08:48:06.638Z"
   },
   {
    "duration": 41,
    "start_time": "2023-02-17T08:48:06.718Z"
   },
   {
    "duration": 9,
    "start_time": "2023-02-17T08:48:06.769Z"
   },
   {
    "duration": 35,
    "start_time": "2023-02-17T08:48:06.783Z"
   },
   {
    "duration": 16,
    "start_time": "2023-02-17T08:48:06.821Z"
   },
   {
    "duration": 2525,
    "start_time": "2023-02-17T08:48:06.839Z"
   },
   {
    "duration": 847,
    "start_time": "2023-02-17T08:48:09.366Z"
   },
   {
    "duration": 6,
    "start_time": "2023-02-17T08:48:10.215Z"
   },
   {
    "duration": 42,
    "start_time": "2023-02-17T08:48:10.222Z"
   },
   {
    "duration": 1477,
    "start_time": "2023-02-17T08:48:10.266Z"
   },
   {
    "duration": 11,
    "start_time": "2023-02-17T08:48:11.745Z"
   },
   {
    "duration": 21,
    "start_time": "2023-02-17T08:48:11.771Z"
   },
   {
    "duration": 2663,
    "start_time": "2023-02-17T08:49:25.752Z"
   },
   {
    "duration": 1380,
    "start_time": "2023-02-17T08:52:07.436Z"
   },
   {
    "duration": 1256,
    "start_time": "2023-02-17T08:52:14.584Z"
   },
   {
    "duration": 65,
    "start_time": "2023-02-17T08:52:15.842Z"
   },
   {
    "duration": 12,
    "start_time": "2023-02-17T08:52:15.908Z"
   },
   {
    "duration": 5,
    "start_time": "2023-02-17T08:52:15.922Z"
   },
   {
    "duration": 13,
    "start_time": "2023-02-17T08:52:15.929Z"
   },
   {
    "duration": 4,
    "start_time": "2023-02-17T08:52:15.943Z"
   },
   {
    "duration": 54,
    "start_time": "2023-02-17T08:52:15.969Z"
   },
   {
    "duration": 58,
    "start_time": "2023-02-17T08:52:16.025Z"
   },
   {
    "duration": 3,
    "start_time": "2023-02-17T08:52:16.085Z"
   },
   {
    "duration": 9,
    "start_time": "2023-02-17T08:52:16.089Z"
   },
   {
    "duration": 7,
    "start_time": "2023-02-17T08:52:16.099Z"
   },
   {
    "duration": 2316,
    "start_time": "2023-02-17T08:52:16.108Z"
   },
   {
    "duration": 812,
    "start_time": "2023-02-17T08:52:18.426Z"
   },
   {
    "duration": 5,
    "start_time": "2023-02-17T08:52:19.242Z"
   },
   {
    "duration": 45,
    "start_time": "2023-02-17T08:52:19.249Z"
   },
   {
    "duration": 1363,
    "start_time": "2023-02-17T08:52:19.295Z"
   },
   {
    "duration": 23,
    "start_time": "2023-02-17T08:52:20.659Z"
   },
   {
    "duration": 21,
    "start_time": "2023-02-17T08:52:20.685Z"
   },
   {
    "duration": 153,
    "start_time": "2023-02-17T09:15:09.402Z"
   },
   {
    "duration": 108,
    "start_time": "2023-02-17T09:34:09.036Z"
   },
   {
    "duration": 34,
    "start_time": "2023-02-17T09:34:20.019Z"
   },
   {
    "duration": 1164,
    "start_time": "2023-02-17T09:39:55.437Z"
   },
   {
    "duration": 58,
    "start_time": "2023-02-17T09:39:56.603Z"
   },
   {
    "duration": 21,
    "start_time": "2023-02-17T09:39:56.662Z"
   },
   {
    "duration": 6,
    "start_time": "2023-02-17T09:39:56.684Z"
   },
   {
    "duration": 9,
    "start_time": "2023-02-17T09:39:56.692Z"
   },
   {
    "duration": 9,
    "start_time": "2023-02-17T09:39:56.702Z"
   },
   {
    "duration": 64,
    "start_time": "2023-02-17T09:39:56.712Z"
   },
   {
    "duration": 36,
    "start_time": "2023-02-17T09:39:56.778Z"
   },
   {
    "duration": 3,
    "start_time": "2023-02-17T09:39:56.816Z"
   },
   {
    "duration": 12,
    "start_time": "2023-02-17T09:39:56.821Z"
   },
   {
    "duration": 11,
    "start_time": "2023-02-17T09:39:56.835Z"
   },
   {
    "duration": 38,
    "start_time": "2023-02-17T09:39:56.848Z"
   },
   {
    "duration": 2292,
    "start_time": "2023-02-17T09:39:56.888Z"
   },
   {
    "duration": 771,
    "start_time": "2023-02-17T09:39:59.182Z"
   },
   {
    "duration": 19,
    "start_time": "2023-02-17T09:39:59.955Z"
   },
   {
    "duration": 39,
    "start_time": "2023-02-17T09:39:59.975Z"
   },
   {
    "duration": 1402,
    "start_time": "2023-02-17T09:40:00.016Z"
   },
   {
    "duration": 19,
    "start_time": "2023-02-17T09:40:01.419Z"
   },
   {
    "duration": 38,
    "start_time": "2023-02-17T09:40:01.440Z"
   },
   {
    "duration": 1508,
    "start_time": "2023-02-17T12:29:44.398Z"
   },
   {
    "duration": 117,
    "start_time": "2023-02-17T12:29:45.908Z"
   },
   {
    "duration": 16,
    "start_time": "2023-02-17T12:29:46.027Z"
   },
   {
    "duration": 23,
    "start_time": "2023-02-17T12:29:46.046Z"
   },
   {
    "duration": 40,
    "start_time": "2023-02-17T12:29:46.078Z"
   },
   {
    "duration": 45,
    "start_time": "2023-02-17T12:29:46.120Z"
   },
   {
    "duration": 76,
    "start_time": "2023-02-17T12:29:46.166Z"
   },
   {
    "duration": 29,
    "start_time": "2023-02-17T12:29:46.243Z"
   },
   {
    "duration": 3,
    "start_time": "2023-02-17T12:29:46.274Z"
   },
   {
    "duration": 18,
    "start_time": "2023-02-17T12:29:46.280Z"
   },
   {
    "duration": 18,
    "start_time": "2023-02-17T12:29:46.300Z"
   },
   {
    "duration": 66,
    "start_time": "2023-02-17T12:29:46.320Z"
   },
   {
    "duration": 2571,
    "start_time": "2023-02-17T12:29:46.387Z"
   },
   {
    "duration": 912,
    "start_time": "2023-02-17T12:29:48.960Z"
   },
   {
    "duration": 5,
    "start_time": "2023-02-17T12:29:49.874Z"
   },
   {
    "duration": 35,
    "start_time": "2023-02-17T12:29:49.881Z"
   },
   {
    "duration": 1535,
    "start_time": "2023-02-17T12:29:49.918Z"
   },
   {
    "duration": 13,
    "start_time": "2023-02-17T12:29:51.455Z"
   },
   {
    "duration": 20,
    "start_time": "2023-02-17T12:29:51.470Z"
   },
   {
    "duration": 104,
    "start_time": "2023-02-17T12:36:41.120Z"
   },
   {
    "duration": 1435,
    "start_time": "2023-02-18T08:15:11.250Z"
   },
   {
    "duration": 96,
    "start_time": "2023-02-18T08:15:12.687Z"
   },
   {
    "duration": 11,
    "start_time": "2023-02-18T08:15:12.784Z"
   },
   {
    "duration": 183,
    "start_time": "2023-02-18T08:15:12.796Z"
   },
   {
    "duration": 10,
    "start_time": "2023-02-18T08:15:12.982Z"
   },
   {
    "duration": 6,
    "start_time": "2023-02-18T08:15:12.993Z"
   },
   {
    "duration": 62,
    "start_time": "2023-02-18T08:15:13.000Z"
   },
   {
    "duration": 32,
    "start_time": "2023-02-18T08:15:13.064Z"
   },
   {
    "duration": 14,
    "start_time": "2023-02-18T08:15:13.097Z"
   },
   {
    "duration": 6,
    "start_time": "2023-02-18T08:15:13.112Z"
   },
   {
    "duration": 6,
    "start_time": "2023-02-18T08:15:13.119Z"
   },
   {
    "duration": 26,
    "start_time": "2023-02-18T08:15:13.126Z"
   },
   {
    "duration": 2195,
    "start_time": "2023-02-18T08:15:13.153Z"
   },
   {
    "duration": 772,
    "start_time": "2023-02-18T08:15:15.351Z"
   },
   {
    "duration": 4,
    "start_time": "2023-02-18T08:15:16.125Z"
   },
   {
    "duration": 26,
    "start_time": "2023-02-18T08:15:16.131Z"
   },
   {
    "duration": 1334,
    "start_time": "2023-02-18T08:15:16.158Z"
   },
   {
    "duration": 17,
    "start_time": "2023-02-18T08:15:17.494Z"
   },
   {
    "duration": 14,
    "start_time": "2023-02-18T08:15:17.513Z"
   },
   {
    "duration": 1173,
    "start_time": "2023-02-18T09:58:11.455Z"
   },
   {
    "duration": 55,
    "start_time": "2023-02-18T09:58:12.630Z"
   },
   {
    "duration": 12,
    "start_time": "2023-02-18T09:58:12.687Z"
   },
   {
    "duration": 5,
    "start_time": "2023-02-18T09:58:12.702Z"
   },
   {
    "duration": 13,
    "start_time": "2023-02-18T09:58:12.710Z"
   },
   {
    "duration": 5,
    "start_time": "2023-02-18T09:58:12.725Z"
   },
   {
    "duration": 50,
    "start_time": "2023-02-18T09:58:12.731Z"
   },
   {
    "duration": 50,
    "start_time": "2023-02-18T09:58:12.782Z"
   },
   {
    "duration": 3,
    "start_time": "2023-02-18T09:58:12.834Z"
   },
   {
    "duration": 6,
    "start_time": "2023-02-18T09:58:12.839Z"
   },
   {
    "duration": 5,
    "start_time": "2023-02-18T09:58:12.847Z"
   },
   {
    "duration": 25,
    "start_time": "2023-02-18T09:58:12.853Z"
   },
   {
    "duration": 2115,
    "start_time": "2023-02-18T09:58:12.880Z"
   },
   {
    "duration": 779,
    "start_time": "2023-02-18T09:58:14.996Z"
   },
   {
    "duration": 5,
    "start_time": "2023-02-18T09:58:15.776Z"
   },
   {
    "duration": 37,
    "start_time": "2023-02-18T09:58:15.783Z"
   },
   {
    "duration": 1314,
    "start_time": "2023-02-18T09:58:15.822Z"
   },
   {
    "duration": 12,
    "start_time": "2023-02-18T09:58:17.137Z"
   },
   {
    "duration": 14,
    "start_time": "2023-02-18T09:58:17.150Z"
   }
  ],
  "kernelspec": {
   "display_name": "Python 3 (ipykernel)",
   "language": "python",
   "name": "python3"
  },
  "language_info": {
   "codemirror_mode": {
    "name": "ipython",
    "version": 3
   },
   "file_extension": ".py",
   "mimetype": "text/x-python",
   "name": "python",
   "nbconvert_exporter": "python",
   "pygments_lexer": "ipython3",
   "version": "3.9.13"
  },
  "toc": {
   "base_numbering": 1,
   "nav_menu": {
    "height": "121px",
    "width": "432px"
   },
   "number_sections": true,
   "sideBar": true,
   "skip_h1_title": true,
   "title_cell": "Table of Contents",
   "title_sidebar": "Contents",
   "toc_cell": false,
   "toc_position": {},
   "toc_section_display": true,
   "toc_window_display": true
  }
 },
 "nbformat": 4,
 "nbformat_minor": 2
}
